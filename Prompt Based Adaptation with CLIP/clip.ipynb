{
  "cells": [
    {
      "cell_type": "markdown",
      "metadata": {},
      "source": [
        "## **Part 3: Are Prompts a Stable Control Knob for DA/DG with CLIP?**"
      ]
    },
    {
      "cell_type": "markdown",
      "metadata": {},
      "source": [
        "### **3.1. Overview**\n",
        "\n",
        "This task is a more open-ended and research-focused exploration into leveraging pre-trained vision-language models like **CLIP** to handle domain shifts. We will investigate prompt learning and gradient alignment as state-of-the-art approaches.\n",
        "\n",
        "The goal is to understand how we can combine the strong, general-purpose features from a large pre-trained model with domain-specific adaptation techniques to build a robust system."
      ]
    },
    {
      "cell_type": "markdown",
      "metadata": {},
      "source": [
        "---"
      ]
    },
    {
      "cell_type": "markdown",
      "metadata": {},
      "source": [
        "## **Part 1: CLIP Zero-Shot vs. Fine-Tuning**"
      ]
    },
    {
      "cell_type": "markdown",
      "metadata": {},
      "source": [
        "### **1.1. Overview**\n",
        "\n",
        "As per the assignment, we first need to evaluate the out-of-the-box (zero-shot) performance of a pre-trained CLIP model on our chosen dataset, **PACS**. This will establish a powerful baseline.\n",
        "\n",
        "Next, we will perform a simple fine-tuning by treating CLIP's image encoder as a frozen feature extractor and training a linear classifier (a \"linear probe\") on top of it using our source domains (**Art, Cartoon, Photo**). We'll then evaluate this probe on all domains, including the unseen target domain (**Sketch**), to see if fine-tuning helps or hurts generalization."
      ]
    },
    {
      "cell_type": "markdown",
      "metadata": {},
      "source": [
        "### **1.2. Environment Setup & Data Loading (Standard PyTorch)**\n",
        "\n",
        "First, let's set up our environment. We'll install the `clip` library, `torch`, and `torchvision`. Instead of DomainBed, we will use `torchvision.datasets.ImageFolder` to load the PACS data directly."
      ]
    },
    {
      "cell_type": "code",
      "execution_count": 1,
      "metadata": {},
      "outputs": [
        {
          "name": "stdout",
          "output_type": "stream",
          "text": [
            "🚀 Using device: cuda\n",
            "✅ CLIP model (ViT-B/32) loaded.\n",
            "  - Loaded 'art_painting' with 2048 images.\n",
            "  - Loaded 'cartoon' with 2344 images.\n",
            "  - Loaded 'photo' with 1670 images.\n",
            "  - Loaded 'sketch' with 3929 images.\n",
            "\n",
            "✅ Created 4 dataloaders, one for each domain using ImageFolder.\n"
          ]
        }
      ],
      "source": [
        "# ============================================\n",
        "# 📦 Imports and Environment Setup\n",
        "# ============================================\n",
        "import os\n",
        "from pathlib import Path\n",
        "\n",
        "import clip\n",
        "import matplotlib.pyplot as plt\n",
        "import numpy as np\n",
        "import pandas as pd\n",
        "import seaborn as sns\n",
        "import torch\n",
        "import torch.nn as nn\n",
        "import torch.nn.functional as F\n",
        "import torch.optim as optim\n",
        "from torch.utils.data import ConcatDataset, DataLoader, Subset, TensorDataset\n",
        "from torchvision.datasets import ImageFolder\n",
        "\n",
        "os.environ[\"TQDM_NOTEBOOK\"] = \"0\"\n",
        "from tqdm import tqdm\n",
        "\n",
        "# ============================================\n",
        "# ⚙️ Configuration\n",
        "# ============================================\n",
        "device = \"cuda\" if torch.cuda.is_available() else \"cpu\"\n",
        "print(f\"🚀 Using device: {device}\")\n",
        "\n",
        "# ============================================\n",
        "#  CLIP Model & Data Loading\n",
        "# ============================================\n",
        "\n",
        "# Load CLIP model and its preprocessing function\n",
        "clip_model, preprocess = clip.load(\"ViT-B/32\", device=device)\n",
        "print(\"✅ CLIP model (ViT-B/32) loaded.\")\n",
        "\n",
        "# --- PACS Dataset Configuration ---\n",
        "# NOTE: Assumes you have downloaded and unzipped PACS into 'data/PACS/'\n",
        "DATA_ROOT = \"./data/PACS/\"\n",
        "DOMAINS = [\"art_painting\", \"cartoon\", \"photo\", \"sketch\"]\n",
        "PACS_CLASSES = [\"dog\", \"elephant\", \"giraffe\", \"guitar\", \"horse\", \"house\", \"person\"]\n",
        "TARGET_DOMAIN_NAME = \"sketch\"\n",
        "TARGET_DOMAIN_IDX = DOMAINS.index(TARGET_DOMAIN_NAME)\n",
        "\n",
        "# Create a dataset and dataloader for each domain using ImageFolder\n",
        "datasets = []\n",
        "dataloaders = []\n",
        "for domain_name in DOMAINS:\n",
        "    domain_path = os.path.join(DATA_ROOT, domain_name)\n",
        "    dataset = ImageFolder(domain_path, transform=preprocess)\n",
        "    datasets.append(dataset)\n",
        "    dataloaders.append(DataLoader(dataset, batch_size=64, shuffle=False, num_workers=2))\n",
        "    print(f\"  - Loaded '{domain_name}' with {len(dataset)} images.\")\n",
        "\n",
        "print(\n",
        "    f\"\\n✅ Created {len(dataloaders)} dataloaders, one for each domain using ImageFolder.\"\n",
        ")"
      ]
    },
    {
      "cell_type": "markdown",
      "metadata": {},
      "source": [
        "### **1.3. CLIP Zero-Shot Evaluation**\n",
        "\n",
        "Now we'll perform the zero-shot classification. We will create text prompts from the class names and evaluate the model's accuracy on each domain without any training. As suggested, we'll try a few different prompt templates to see how sensitive performance is to the prompt's wording."
      ]
    },
    {
      "cell_type": "code",
      "execution_count": 2,
      "metadata": {},
      "outputs": [
        {
          "name": "stderr",
          "output_type": "stream",
          "text": [
            "🔎 Evaluating art_painting with prompt: 'a photo of a ....': 100%|██████████| 32/32 [00:12<00:00,  2.62it/s, acc=96.68%]\n",
            "🔎 Evaluating art_painting with prompt: 'a sketch of a ....': 100%|██████████| 32/32 [00:15<00:00,  2.05it/s, acc=95.70%]\n",
            "🔎 Evaluating art_painting with prompt: 'an artwork of a ....': 100%|██████████| 32/32 [00:21<00:00,  1.50it/s, acc=95.61%]\n",
            "🔎 Evaluating art_painting with prompt: 'a painting of a ....': 100%|██████████| 32/32 [00:16<00:00,  1.94it/s, acc=95.51%]\n",
            "🔎 Evaluating art_painting with prompt: 'a drawing of a ....': 100%|██████████| 32/32 [00:19<00:00,  1.65it/s, acc=96.00%]\n",
            "🔎 Evaluating cartoon with prompt: 'a photo of a ....': 100%|██████████| 37/37 [00:16<00:00,  2.26it/s, acc=98.25%]\n",
            "🔎 Evaluating cartoon with prompt: 'a sketch of a ....': 100%|██████████| 37/37 [00:09<00:00,  3.76it/s, acc=97.74%]\n",
            "🔎 Evaluating cartoon with prompt: 'an artwork of a ....': 100%|██████████| 37/37 [00:10<00:00,  3.57it/s, acc=97.91%]\n",
            "🔎 Evaluating cartoon with prompt: 'a painting of a ....': 100%|██████████| 37/37 [00:10<00:00,  3.66it/s, acc=97.35%]\n",
            "🔎 Evaluating cartoon with prompt: 'a drawing of a ....': 100%|██████████| 37/37 [00:08<00:00,  4.17it/s, acc=97.57%]\n",
            "🔎 Evaluating photo with prompt: 'a photo of a ....': 100%|██████████| 27/27 [00:08<00:00,  3.34it/s, acc=99.76%]\n",
            "🔎 Evaluating photo with prompt: 'a sketch of a ....': 100%|██████████| 27/27 [00:08<00:00,  3.27it/s, acc=99.76%]\n",
            "🔎 Evaluating photo with prompt: 'an artwork of a ....': 100%|██████████| 27/27 [00:08<00:00,  3.30it/s, acc=99.82%]\n",
            "🔎 Evaluating photo with prompt: 'a painting of a ....': 100%|██████████| 27/27 [00:08<00:00,  3.30it/s, acc=99.82%]\n",
            "🔎 Evaluating photo with prompt: 'a drawing of a ....': 100%|██████████| 27/27 [00:07<00:00,  3.41it/s, acc=99.76%]\n",
            "🔎 Evaluating sketch with prompt: 'a photo of a ....': 100%|██████████| 62/62 [00:10<00:00,  6.15it/s, acc=84.91%]\n",
            "🔎 Evaluating sketch with prompt: 'a sketch of a ....': 100%|██████████| 62/62 [00:10<00:00,  6.04it/s, acc=85.47%]\n",
            "🔎 Evaluating sketch with prompt: 'an artwork of a ....': 100%|██████████| 62/62 [00:10<00:00,  6.11it/s, acc=84.70%]\n",
            "🔎 Evaluating sketch with prompt: 'a painting of a ....': 100%|██████████| 62/62 [00:10<00:00,  6.17it/s, acc=85.85%]\n",
            "🔎 Evaluating sketch with prompt: 'a drawing of a ....': 100%|██████████| 62/62 [00:10<00:00,  6.18it/s, acc=85.24%]"
          ]
        },
        {
          "name": "stdout",
          "output_type": "stream",
          "text": [
            "\n",
            "📊 Zero-Shot Classification Accuracy (%)\n",
            "\n"
          ]
        },
        {
          "name": "stderr",
          "output_type": "stream",
          "text": [
            "\n"
          ]
        },
        {
          "data": {
            "text/html": [
              "<style type=\"text/css\">\n",
              "#T_23f80_row0_col0, #T_23f80_row1_col0, #T_23f80_row2_col2, #T_23f80_row2_col3, #T_23f80_row3_col3 {\n",
              "  background-color: #fde725;\n",
              "  color: #000000;\n",
              "}\n",
              "#T_23f80_row0_col1 {\n",
              "  background-color: #443983;\n",
              "  color: #f1f1f1;\n",
              "}\n",
              "#T_23f80_row0_col2 {\n",
              "  background-color: #481f70;\n",
              "  color: #f1f1f1;\n",
              "}\n",
              "#T_23f80_row0_col3, #T_23f80_row1_col3, #T_23f80_row2_col0, #T_23f80_row2_col1, #T_23f80_row2_col4, #T_23f80_row3_col2 {\n",
              "  background-color: #440154;\n",
              "  color: #f1f1f1;\n",
              "}\n",
              "#T_23f80_row0_col4 {\n",
              "  background-color: #287c8e;\n",
              "  color: #f1f1f1;\n",
              "}\n",
              "#T_23f80_row1_col1 {\n",
              "  background-color: #277f8e;\n",
              "  color: #f1f1f1;\n",
              "}\n",
              "#T_23f80_row1_col2 {\n",
              "  background-color: #26ad81;\n",
              "  color: #f1f1f1;\n",
              "}\n",
              "#T_23f80_row1_col4 {\n",
              "  background-color: #3d4e8a;\n",
              "  color: #f1f1f1;\n",
              "}\n",
              "#T_23f80_row3_col0 {\n",
              "  background-color: #433d84;\n",
              "  color: #f1f1f1;\n",
              "}\n",
              "#T_23f80_row3_col1 {\n",
              "  background-color: #35b779;\n",
              "  color: #f1f1f1;\n",
              "}\n",
              "#T_23f80_row3_col4 {\n",
              "  background-color: #23888e;\n",
              "  color: #f1f1f1;\n",
              "}\n",
              "</style>\n",
              "<table id=\"T_23f80\">\n",
              "  <thead>\n",
              "    <tr>\n",
              "      <th class=\"blank level0\" >&nbsp;</th>\n",
              "      <th id=\"T_23f80_level0_col0\" class=\"col_heading level0 col0\" >'photo' prompt</th>\n",
              "      <th id=\"T_23f80_level0_col1\" class=\"col_heading level0 col1\" >'sketch' prompt</th>\n",
              "      <th id=\"T_23f80_level0_col2\" class=\"col_heading level0 col2\" >'artwork' prompt</th>\n",
              "      <th id=\"T_23f80_level0_col3\" class=\"col_heading level0 col3\" >'painting' prompt</th>\n",
              "      <th id=\"T_23f80_level0_col4\" class=\"col_heading level0 col4\" >'drawing' prompt</th>\n",
              "    </tr>\n",
              "    <tr>\n",
              "      <th class=\"index_name level0\" >Domain</th>\n",
              "      <th class=\"blank col0\" >&nbsp;</th>\n",
              "      <th class=\"blank col1\" >&nbsp;</th>\n",
              "      <th class=\"blank col2\" >&nbsp;</th>\n",
              "      <th class=\"blank col3\" >&nbsp;</th>\n",
              "      <th class=\"blank col4\" >&nbsp;</th>\n",
              "    </tr>\n",
              "  </thead>\n",
              "  <tbody>\n",
              "    <tr>\n",
              "      <th id=\"T_23f80_level0_row0\" class=\"row_heading level0 row0\" >art_painting</th>\n",
              "      <td id=\"T_23f80_row0_col0\" class=\"data row0 col0\" >96.68</td>\n",
              "      <td id=\"T_23f80_row0_col1\" class=\"data row0 col1\" >95.70</td>\n",
              "      <td id=\"T_23f80_row0_col2\" class=\"data row0 col2\" >95.61</td>\n",
              "      <td id=\"T_23f80_row0_col3\" class=\"data row0 col3\" >95.51</td>\n",
              "      <td id=\"T_23f80_row0_col4\" class=\"data row0 col4\" >96.00</td>\n",
              "    </tr>\n",
              "    <tr>\n",
              "      <th id=\"T_23f80_level0_row1\" class=\"row_heading level0 row1\" >cartoon</th>\n",
              "      <td id=\"T_23f80_row1_col0\" class=\"data row1 col0\" >98.25</td>\n",
              "      <td id=\"T_23f80_row1_col1\" class=\"data row1 col1\" >97.74</td>\n",
              "      <td id=\"T_23f80_row1_col2\" class=\"data row1 col2\" >97.91</td>\n",
              "      <td id=\"T_23f80_row1_col3\" class=\"data row1 col3\" >97.35</td>\n",
              "      <td id=\"T_23f80_row1_col4\" class=\"data row1 col4\" >97.57</td>\n",
              "    </tr>\n",
              "    <tr>\n",
              "      <th id=\"T_23f80_level0_row2\" class=\"row_heading level0 row2\" >photo</th>\n",
              "      <td id=\"T_23f80_row2_col0\" class=\"data row2 col0\" >99.76</td>\n",
              "      <td id=\"T_23f80_row2_col1\" class=\"data row2 col1\" >99.76</td>\n",
              "      <td id=\"T_23f80_row2_col2\" class=\"data row2 col2\" >99.82</td>\n",
              "      <td id=\"T_23f80_row2_col3\" class=\"data row2 col3\" >99.82</td>\n",
              "      <td id=\"T_23f80_row2_col4\" class=\"data row2 col4\" >99.76</td>\n",
              "    </tr>\n",
              "    <tr>\n",
              "      <th id=\"T_23f80_level0_row3\" class=\"row_heading level0 row3\" >sketch</th>\n",
              "      <td id=\"T_23f80_row3_col0\" class=\"data row3 col0\" >84.91</td>\n",
              "      <td id=\"T_23f80_row3_col1\" class=\"data row3 col1\" >85.47</td>\n",
              "      <td id=\"T_23f80_row3_col2\" class=\"data row3 col2\" >84.70</td>\n",
              "      <td id=\"T_23f80_row3_col3\" class=\"data row3 col3\" >85.85</td>\n",
              "      <td id=\"T_23f80_row3_col4\" class=\"data row3 col4\" >85.24</td>\n",
              "    </tr>\n",
              "  </tbody>\n",
              "</table>\n"
            ],
            "text/plain": [
              "<pandas.io.formats.style.Styler at 0x1dbfb0913d0>"
            ]
          },
          "metadata": {},
          "output_type": "display_data"
        }
      ],
      "source": [
        "# ============================================\n",
        "# 🎯 Zero-Shot Evaluation Function\n",
        "# ============================================\n",
        "\n",
        "def evaluate_zero_shot(model, dataloader, class_names, prompt_template, domain_name):\n",
        "    \"\"\"Evaluates a CLIP model in a zero-shot fashion on a given dataloader.\"\"\"\n",
        "    model.eval()\n",
        "    correct = 0\n",
        "    total = 0\n",
        "    \n",
        "    # Create text features from prompts\n",
        "    with torch.no_grad():\n",
        "        prompts = [prompt_template.format(c) for c in class_names]\n",
        "        text_inputs = clip.tokenize(prompts).to(device)\n",
        "        text_features = model.encode_text(text_inputs)\n",
        "        text_features /= text_features.norm(dim=-1, keepdim=True)\n",
        "\n",
        "    pbar = tqdm(dataloader, desc=f\"🔎 Evaluating {domain_name} with prompt: '{prompt_template.format('...')}'\")\n",
        "    with torch.no_grad():\n",
        "        for images, labels in pbar:\n",
        "            images, labels = images.to(device), labels.to(device)\n",
        "            \n",
        "            # Create image features\n",
        "            image_features = model.encode_image(images)\n",
        "            image_features /= image_features.norm(dim=-1, keepdim=True)\n",
        "            \n",
        "            # Calculate similarity and make predictions\n",
        "            similarity = (100.0 * image_features @ text_features.T).softmax(dim=-1)\n",
        "            preds = similarity.argmax(dim=-1)\n",
        "            \n",
        "            correct += (preds == labels).sum().item()\n",
        "            total += labels.size(0)\n",
        "            pbar.set_postfix({'acc': f\"{100*correct/total:.2f}%\"})\n",
        "    \n",
        "    return 100 * correct / total\n",
        "\n",
        "# --- Run Zero-Shot Experiments ---\n",
        "prompt_templates = [\n",
        "    \"a photo of a {}.\",\n",
        "    \"a sketch of a {}.\",\n",
        "    \"an artwork of a {}.\",\n",
        "    \"a painting of a {}.\",\n",
        "    \"a drawing of a {}.\"\n",
        "]\n",
        "\n",
        "results = []\n",
        "for i, loader in enumerate(dataloaders):\n",
        "    domain_name = DOMAINS[i]\n",
        "    domain_results = {'Domain': domain_name}\n",
        "    for template in prompt_templates:\n",
        "        acc = evaluate_zero_shot(clip_model, loader, PACS_CLASSES, template, domain_name)\n",
        "        template_key = template.split(\" \")[1] # e.g., 'photo'\n",
        "        domain_results[f\"'{template_key}' prompt\"] = acc\n",
        "    results.append(domain_results)\n",
        "\n",
        "# --- Display Results ---\n",
        "zero_shot_df = pd.DataFrame(results).set_index('Domain')\n",
        "print(\"\\n📊 Zero-Shot Classification Accuracy (%)\\n\")\n",
        "display(zero_shot_df.style.format(\"{:.2f}\").background_gradient(cmap='viridis', axis=1))"
      ]
    },
    {
      "cell_type": "markdown",
      "metadata": {},
      "source": [
        "### **1.4. Linear Probe Fine-Tuning**\n",
        "\n",
        "Next, we'll train a linear classifier on top of the frozen CLIP image encoder.\n",
        "\n",
        "1.  **Feature Extraction**: First, we'll pass all images from our source domains (Art, Cartoon, Photo) through the CLIP encoder to get their feature embeddings. This is done once to save time.\n",
        "2.  **Training**: Then, we'll train a simple `nn.Linear` layer on these cached features."
      ]
    },
    {
      "cell_type": "code",
      "execution_count": 3,
      "metadata": {},
      "outputs": [
        {
          "name": "stderr",
          "output_type": "stream",
          "text": [
            "Extracting features from art_painting: 100%|██████████| 32/32 [00:08<00:00,  3.90it/s]\n",
            "Extracting features from cartoon: 100%|██████████| 37/37 [00:08<00:00,  4.42it/s]\n",
            "Extracting features from photo: 100%|██████████| 27/27 [00:07<00:00,  3.44it/s]"
          ]
        },
        {
          "name": "stdout",
          "output_type": "stream",
          "text": [
            "\n",
            "✅ Extracted features and labels for training.\n",
            "   - Feature shape: torch.Size([6062, 512])\n",
            "   - Labels shape:  torch.Size([6062])\n"
          ]
        },
        {
          "name": "stderr",
          "output_type": "stream",
          "text": [
            "\n"
          ]
        }
      ],
      "source": [
        "# ============================================\n",
        "# 🧠 Step 1: Extract Features from Source Domains\n",
        "# ============================================\n",
        "source_dataloaders = [dataloaders[i] for i in range(len(DOMAINS)) if i != TARGET_DOMAIN_IDX]\n",
        "source_domain_names = [DOMAINS[i] for i in range(len(DOMAINS)) if i != TARGET_DOMAIN_IDX]\n",
        "\n",
        "all_features = []\n",
        "all_labels = []\n",
        "\n",
        "clip_model.eval()\n",
        "with torch.no_grad():\n",
        "    for i, loader in enumerate(source_dataloaders):\n",
        "        domain_name = source_domain_names[i]\n",
        "        for images, labels in tqdm(loader, desc=f\"Extracting features from {domain_name}\"):\n",
        "            images = images.to(device)\n",
        "            features = clip_model.encode_image(images)\n",
        "            all_features.append(features.cpu())\n",
        "            all_labels.append(labels.cpu())\n",
        "\n",
        "# Concatenate all features and labels\n",
        "train_features = torch.cat(all_features)\n",
        "train_labels = torch.cat(all_labels)\n",
        "\n",
        "print(f\"\\n✅ Extracted features and labels for training.\")\n",
        "print(f\"   - Feature shape: {train_features.shape}\")\n",
        "print(f\"   - Labels shape:  {train_labels.shape}\")\n",
        "\n",
        "# Create a new DataLoader for training the linear probe\n",
        "train_dataset = TensorDataset(train_features, train_labels)\n",
        "probe_train_loader = DataLoader(train_dataset, batch_size=128, shuffle=True)"
      ]
    },
    {
      "cell_type": "code",
      "execution_count": 4,
      "metadata": {},
      "outputs": [
        {
          "name": "stdout",
          "output_type": "stream",
          "text": [
            "🚀 Starting linear probe training...\n"
          ]
        },
        {
          "name": "stderr",
          "output_type": "stream",
          "text": [
            "Epoch 1/10: 100%|██████████| 48/48 [00:00<00:00, 251.47it/s, loss=0.5760]\n"
          ]
        },
        {
          "name": "stdout",
          "output_type": "stream",
          "text": [
            "Epoch 1/10, Average Loss: 1.0656\n"
          ]
        },
        {
          "name": "stderr",
          "output_type": "stream",
          "text": [
            "Epoch 2/10: 100%|██████████| 48/48 [00:00<00:00, 494.86it/s, loss=0.2939]\n"
          ]
        },
        {
          "name": "stdout",
          "output_type": "stream",
          "text": [
            "Epoch 2/10, Average Loss: 0.3431\n"
          ]
        },
        {
          "name": "stderr",
          "output_type": "stream",
          "text": [
            "Epoch 3/10: 100%|██████████| 48/48 [00:00<00:00, 389.00it/s, loss=0.1443]\n"
          ]
        },
        {
          "name": "stdout",
          "output_type": "stream",
          "text": [
            "Epoch 3/10, Average Loss: 0.1976\n"
          ]
        },
        {
          "name": "stderr",
          "output_type": "stream",
          "text": [
            "Epoch 4/10: 100%|██████████| 48/48 [00:00<00:00, 564.95it/s, loss=0.1092]\n"
          ]
        },
        {
          "name": "stdout",
          "output_type": "stream",
          "text": [
            "Epoch 4/10, Average Loss: 0.1434\n"
          ]
        },
        {
          "name": "stderr",
          "output_type": "stream",
          "text": [
            "Epoch 5/10: 100%|██████████| 48/48 [00:00<00:00, 413.43it/s, loss=0.1285]\n"
          ]
        },
        {
          "name": "stdout",
          "output_type": "stream",
          "text": [
            "Epoch 5/10, Average Loss: 0.1150\n"
          ]
        },
        {
          "name": "stderr",
          "output_type": "stream",
          "text": [
            "Epoch 6/10: 100%|██████████| 48/48 [00:00<00:00, 477.61it/s, loss=0.0646]\n"
          ]
        },
        {
          "name": "stdout",
          "output_type": "stream",
          "text": [
            "Epoch 6/10, Average Loss: 0.0961\n"
          ]
        },
        {
          "name": "stderr",
          "output_type": "stream",
          "text": [
            "Epoch 7/10: 100%|██████████| 48/48 [00:00<00:00, 397.96it/s, loss=0.0393]\n"
          ]
        },
        {
          "name": "stdout",
          "output_type": "stream",
          "text": [
            "Epoch 7/10, Average Loss: 0.0831\n"
          ]
        },
        {
          "name": "stderr",
          "output_type": "stream",
          "text": [
            "Epoch 8/10: 100%|██████████| 48/48 [00:00<00:00, 487.94it/s, loss=0.0315]\n"
          ]
        },
        {
          "name": "stdout",
          "output_type": "stream",
          "text": [
            "Epoch 8/10, Average Loss: 0.0737\n"
          ]
        },
        {
          "name": "stderr",
          "output_type": "stream",
          "text": [
            "Epoch 9/10: 100%|██████████| 48/48 [00:00<00:00, 396.83it/s, loss=0.0272]\n"
          ]
        },
        {
          "name": "stdout",
          "output_type": "stream",
          "text": [
            "Epoch 9/10, Average Loss: 0.0666\n"
          ]
        },
        {
          "name": "stderr",
          "output_type": "stream",
          "text": [
            "Epoch 10/10: 100%|██████████| 48/48 [00:00<00:00, 488.41it/s, loss=0.0745]"
          ]
        },
        {
          "name": "stdout",
          "output_type": "stream",
          "text": [
            "Epoch 10/10, Average Loss: 0.0613\n",
            "\n",
            "✅ Linear probe training complete!\n"
          ]
        },
        {
          "name": "stderr",
          "output_type": "stream",
          "text": [
            "\n"
          ]
        }
      ],
      "source": [
        "# ============================================\n",
        "# 🏋️ Step 2: Train the Linear Probe\n",
        "# ============================================\n",
        "\n",
        "# Define the model\n",
        "output_dim = len(PACS_CLASSES)\n",
        "input_dim = clip_model.visual.output_dim\n",
        "linear_probe = nn.Linear(input_dim, output_dim).to(device)\n",
        "\n",
        "# Setup for training\n",
        "criterion = nn.CrossEntropyLoss()\n",
        "optimizer = optim.Adam(linear_probe.parameters(), lr=1e-3, weight_decay=1e-4)\n",
        "num_epochs = 10\n",
        "\n",
        "print(\"🚀 Starting linear probe training...\")\n",
        "for epoch in range(num_epochs):\n",
        "    linear_probe.train()\n",
        "    running_loss = 0.0\n",
        "    \n",
        "    pbar = tqdm(probe_train_loader, desc=f\"Epoch {epoch+1}/{num_epochs}\")\n",
        "    for features, labels in pbar:\n",
        "        features, labels = features.to(device), labels.to(device)\n",
        "        \n",
        "        optimizer.zero_grad()\n",
        "        \n",
        "        # The input to the probe should be float\n",
        "        outputs = linear_probe(features.float())\n",
        "        loss = criterion(outputs, labels)\n",
        "        \n",
        "        loss.backward()\n",
        "        optimizer.step()\n",
        "        \n",
        "        running_loss += loss.item()\n",
        "        pbar.set_postfix({'loss': f\"{loss.item():.4f}\"})\n",
        "        \n",
        "    epoch_loss = running_loss / len(probe_train_loader)\n",
        "    print(f\"Epoch {epoch+1}/{num_epochs}, Average Loss: {epoch_loss:.4f}\")\n",
        "\n",
        "print(\"\\n✅ Linear probe training complete!\")"
      ]
    },
    {
      "cell_type": "markdown",
      "metadata": {},
      "source": [
        "### **1.5. Evaluation of Linear Probe**\n",
        "\n",
        "Finally, we evaluate (on all four domains) the performance of our trained linear probe. This will show us how well the model performs on the source domains it was trained on and, more importantly, how it generalizes to the unseen target domain (Sketch)."
      ]
    },
    {
      "cell_type": "code",
      "execution_count": 5,
      "metadata": {},
      "outputs": [
        {
          "name": "stdout",
          "output_type": "stream",
          "text": [
            "\n",
            "🔬 Evaluating trained linear probe on all domains...\n",
            "\n"
          ]
        },
        {
          "name": "stderr",
          "output_type": "stream",
          "text": [
            "Evaluating probe: 100%|██████████| 32/32 [00:08<00:00,  3.71it/s]\n"
          ]
        },
        {
          "name": "stdout",
          "output_type": "stream",
          "text": [
            "   - Accuracy on art_painting: 98.63%\n"
          ]
        },
        {
          "name": "stderr",
          "output_type": "stream",
          "text": [
            "Evaluating probe: 100%|██████████| 37/37 [00:08<00:00,  4.32it/s]\n"
          ]
        },
        {
          "name": "stdout",
          "output_type": "stream",
          "text": [
            "   - Accuracy on cartoon: 99.23%\n"
          ]
        },
        {
          "name": "stderr",
          "output_type": "stream",
          "text": [
            "Evaluating probe: 100%|██████████| 27/27 [00:08<00:00,  3.30it/s]\n"
          ]
        },
        {
          "name": "stdout",
          "output_type": "stream",
          "text": [
            "   - Accuracy on photo: 99.82%\n"
          ]
        },
        {
          "name": "stderr",
          "output_type": "stream",
          "text": [
            "Evaluating probe: 100%|██████████| 62/62 [00:09<00:00,  6.22it/s]"
          ]
        },
        {
          "name": "stdout",
          "output_type": "stream",
          "text": [
            "   - Accuracy on sketch: 85.24%\n",
            "\n",
            "📊 Comparison: Zero-Shot (best prompt) vs. Linear Probe Accuracy (%)\n",
            "\n"
          ]
        },
        {
          "name": "stderr",
          "output_type": "stream",
          "text": [
            "\n"
          ]
        },
        {
          "data": {
            "text/html": [
              "<style type=\"text/css\">\n",
              "#T_29bdd_row0_col0, #T_29bdd_row0_col1, #T_29bdd_row0_col2, #T_29bdd_row1_col2, #T_29bdd_row1_col3 {\n",
              "  background-color: #440154;\n",
              "  color: #f1f1f1;\n",
              "}\n",
              "#T_29bdd_row0_col3, #T_29bdd_row1_col0, #T_29bdd_row1_col1 {\n",
              "  background-color: #fde725;\n",
              "  color: #000000;\n",
              "}\n",
              "</style>\n",
              "<table id=\"T_29bdd\">\n",
              "  <thead>\n",
              "    <tr>\n",
              "      <th class=\"blank level0\" >&nbsp;</th>\n",
              "      <th id=\"T_29bdd_level0_col0\" class=\"col_heading level0 col0\" >art_painting</th>\n",
              "      <th id=\"T_29bdd_level0_col1\" class=\"col_heading level0 col1\" >cartoon</th>\n",
              "      <th id=\"T_29bdd_level0_col2\" class=\"col_heading level0 col2\" >photo</th>\n",
              "      <th id=\"T_29bdd_level0_col3\" class=\"col_heading level0 col3\" >sketch</th>\n",
              "    </tr>\n",
              "  </thead>\n",
              "  <tbody>\n",
              "    <tr>\n",
              "      <th id=\"T_29bdd_level0_row0\" class=\"row_heading level0 row0\" >Zero-Shot (Best Prompt)</th>\n",
              "      <td id=\"T_29bdd_row0_col0\" class=\"data row0 col0\" >96.68</td>\n",
              "      <td id=\"T_29bdd_row0_col1\" class=\"data row0 col1\" >98.25</td>\n",
              "      <td id=\"T_29bdd_row0_col2\" class=\"data row0 col2\" >99.82</td>\n",
              "      <td id=\"T_29bdd_row0_col3\" class=\"data row0 col3\" >85.85</td>\n",
              "    </tr>\n",
              "    <tr>\n",
              "      <th id=\"T_29bdd_level0_row1\" class=\"row_heading level0 row1\" >Linear Probe</th>\n",
              "      <td id=\"T_29bdd_row1_col0\" class=\"data row1 col0\" >98.63</td>\n",
              "      <td id=\"T_29bdd_row1_col1\" class=\"data row1 col1\" >99.23</td>\n",
              "      <td id=\"T_29bdd_row1_col2\" class=\"data row1 col2\" >99.82</td>\n",
              "      <td id=\"T_29bdd_row1_col3\" class=\"data row1 col3\" >85.24</td>\n",
              "    </tr>\n",
              "  </tbody>\n",
              "</table>\n"
            ],
            "text/plain": [
              "<pandas.io.formats.style.Styler at 0x1dbfcbfc860>"
            ]
          },
          "metadata": {},
          "output_type": "display_data"
        }
      ],
      "source": [
        "# ============================================\n",
        "# 📊 Step 3: Evaluate the Linear Probe\n",
        "# ============================================\n",
        "\n",
        "def evaluate_probe(clip_model, probe_model, dataloader):\n",
        "    \"\"\"Evaluates a trained linear probe on a given dataloader.\"\"\"\n",
        "    clip_model.eval()\n",
        "    probe_model.eval()\n",
        "    correct = 0\n",
        "    total = 0\n",
        "    \n",
        "    with torch.no_grad():\n",
        "        for images, labels in tqdm(dataloader, desc=\"Evaluating probe\"):\n",
        "            images, labels = images.to(device), labels.to(device)\n",
        "            \n",
        "            # Get features from CLIP\n",
        "            features = clip_model.encode_image(images)\n",
        "            \n",
        "            # Get predictions from the probe\n",
        "            outputs = probe_model(features.float())\n",
        "            preds = outputs.argmax(dim=-1)\n",
        "            \n",
        "            correct += (preds == labels).sum().item()\n",
        "            total += labels.size(0)\n",
        "            \n",
        "    return 100 * correct / total\n",
        "\n",
        "# --- Run Probe Evaluation ---\n",
        "probe_results = {}\n",
        "print(\"\\n🔬 Evaluating trained linear probe on all domains...\\n\")\n",
        "for i, loader in enumerate(dataloaders):\n",
        "    domain_name = DOMAINS[i]\n",
        "    acc = evaluate_probe(clip_model, linear_probe, loader)\n",
        "    probe_results[domain_name] = acc\n",
        "    print(f\"   - Accuracy on {domain_name}: {acc:.2f}%\")\n",
        "\n",
        "# --- Display Comparison Table ---\n",
        "probe_df = pd.DataFrame([probe_results])\n",
        "probe_df.index = [\"Linear Probe\"]\n",
        "\n",
        "print(\"\\n📊 Comparison: Zero-Shot (best prompt) vs. Linear Probe Accuracy (%)\\n\")\n",
        "\n",
        "# Find best accuracy for each domain from zero-shot results\n",
        "best_zero_shot = zero_shot_df.max(axis=1).to_frame(name=\"Zero-Shot (Best Prompt)\").T\n",
        "\n",
        "# Rename columns to match for concatenation\n",
        "best_zero_shot.columns = DOMAINS\n",
        "probe_df.columns = DOMAINS\n",
        "\n",
        "comparison_df = pd.concat([best_zero_shot, probe_df])\n",
        "display(comparison_df.style.format(\"{:.2f}\").background_gradient(cmap='viridis', axis=0))"
      ]
    },
    {
      "cell_type": "markdown",
      "metadata": {},
      "source": [
        "---\n",
        "\n",
        "## **Part 2: Prompt-Learning with CLIP (CoOp)**"
      ]
    },
    {
      "cell_type": "markdown",
      "metadata": {},
      "source": [
        "### **2.1. Overview**\n",
        "\n",
        "As per the assignment, we now move to a more advanced adaptation technique: **prompt learning**. Instead of training a linear head on frozen features, we will keep the entire CLIP model frozen and instead learn a set of continuous vectors that act as a textual prompt. This method, inspired by **Context Optimization (CoOp)**, is much more parameter-efficient.\n",
        "\n",
        "Our goal is to simulate a domain adaptation scenario. We will train these learnable prompt vectors using:\n",
        "1.  **A supervised classification loss** on our labeled source domains (Art, Cartoon, Photo).\n",
        "2.  **An unsupervised entropy minimization loss** on the unlabeled target domain (Sketch). This encourages the model to make confident predictions on the target data, effectively using its structure without labels.\n",
        "\n",
        "The total loss will be $L_{total} = L_{CE} + \\lambda \\cdot L_{entropy}$."
      ]
    },
    {
      "cell_type": "markdown",
      "metadata": {},
      "source": [
        "### **2.2. Model Definition: Prompt Learner & Custom CLIP**\n",
        "\n",
        "First, we define the necessary components. We need to create our own `TextEncoder` wrapper because the standard `clip_model.encode_text()` function expects token IDs, but we will be working directly with learnable prompt *embeddings*. \n",
        "\n",
        "1.  **`PromptLearner`**: An `nn.Module` that holds the learnable context vectors. It constructs the final prompt embeddings by combining these vectors with the embeddings of the class names.\n",
        "2.  **`TextEncoder`**: A simple wrapper around CLIP's transformer that can process our custom prompt embeddings.\n",
        "3.  **`CustomCLIPWithCoOp`**: The main model that integrates the frozen CLIP backbone with our learnable prompt components."
      ]
    },
    {
      "cell_type": "code",
      "execution_count": 6,
      "metadata": {},
      "outputs": [
        {
          "name": "stdout",
          "output_type": "stream",
          "text": [
            "✅ CoOp model components defined.\n"
          ]
        }
      ],
      "source": [
        "# ============================================\n",
        "# 🧠 Prompt Learning Components (COMPLETE FIX)\n",
        "# ============================================\n",
        "\n",
        "class PromptLearner(nn.Module):\n",
        "    def __init__(self, class_names, clip_model):\n",
        "        super().__init__()\n",
        "        n_cls = len(class_names)\n",
        "        n_ctx = 16\n",
        "        ctx_dim = clip_model.ln_final.weight.shape[0]\n",
        "\n",
        "        # Random initialization\n",
        "        print(f'Initializing {n_ctx} context vectors randomly')\n",
        "        ctx_vectors = torch.empty(n_ctx, ctx_dim)\n",
        "        nn.init.normal_(ctx_vectors, std=0.02)\n",
        "        \n",
        "        self.ctx = nn.Parameter(ctx_vectors)  # Keep in float32!\n",
        "        self.n_cls = n_cls\n",
        "        self.n_ctx = n_ctx\n",
        "        \n",
        "        # Create template with placeholders\n",
        "        classnames = [name.replace(\"_\", \" \") for name in class_names]\n",
        "        prompts = [\" \".join([\"X\"] * n_ctx) + \" \" + name + \".\" for name in classnames]\n",
        "        \n",
        "        tokenized_prompts = torch.cat([clip.tokenize(p) for p in prompts]).to(device)\n",
        "        \n",
        "        with torch.no_grad():\n",
        "            embedding = clip_model.token_embedding(tokenized_prompts)\n",
        "        \n",
        "        # These token embeddings are the same across all classes\n",
        "        # [SOS] + [CTX]_n_ctx + [CLS] + [EOS]\n",
        "        self.register_buffer(\"token_prefix\", embedding[:, :1, :].float())  # SOS token\n",
        "        self.register_buffer(\"token_suffix\", embedding[:, 1 + n_ctx:, :].float())  # CLS + EOS tokens\n",
        "        \n",
        "        self.tokenized_prompts = tokenized_prompts\n",
        "\n",
        "    def forward(self):\n",
        "        ctx = self.ctx.unsqueeze(0).expand(self.n_cls, -1, -1)\n",
        "        \n",
        "        prompt_embeddings = torch.cat([\n",
        "            self.token_prefix,   # (n_cls, 1, dim)\n",
        "            ctx,                 # (n_cls, n_ctx, dim)\n",
        "            self.token_suffix    # (n_cls, *, dim)\n",
        "        ], dim=1)\n",
        "        \n",
        "        return prompt_embeddings\n",
        "\n",
        "\n",
        "class TextEncoder(nn.Module):\n",
        "    \"\"\"A wrapper for CLIP's text transformer.\"\"\"\n",
        "    def __init__(self, clip_model):\n",
        "        super().__init__()\n",
        "        self.transformer = clip_model.transformer\n",
        "        self.positional_embedding = clip_model.positional_embedding\n",
        "        self.ln_final = clip_model.ln_final\n",
        "        self.text_projection = clip_model.text_projection\n",
        "        self.dtype = clip_model.dtype\n",
        "\n",
        "    def forward(self, prompt_embeddings, tokenized_prompts):\n",
        "        # Convert input to float16 only here, right before CLIP processing\n",
        "        x = prompt_embeddings.type(self.dtype) + self.positional_embedding.type(self.dtype)\n",
        "        x = x.permute(1, 0, 2)  # NLD -> LND\n",
        "        x = self.transformer(x)\n",
        "        x = x.permute(1, 0, 2)  # LND -> NLD\n",
        "        x = self.ln_final(x).type(self.dtype)\n",
        "        \n",
        "        # Take features from the EOS token\n",
        "        x = x[torch.arange(x.shape[0]), tokenized_prompts.argmax(dim=-1)] @ self.text_projection\n",
        "        \n",
        "        return x\n",
        "\n",
        "\n",
        "class CustomCLIPWithCoOp(nn.Module):\n",
        "    def __init__(self, class_names, clip_model):\n",
        "        super().__init__()\n",
        "        self.prompt_learner = PromptLearner(class_names, clip_model)\n",
        "        self.tokenized_prompts = self.prompt_learner.tokenized_prompts\n",
        "        self.image_encoder = clip_model.visual\n",
        "        self.text_encoder = TextEncoder(clip_model)\n",
        "        self.logit_scale = clip_model.logit_scale\n",
        "        self.dtype = clip_model.dtype\n",
        "\n",
        "    def forward(self, image):\n",
        "        # Get image features in float16\n",
        "        image_features = self.image_encoder(image.type(self.dtype))\n",
        "        \n",
        "        # Get text features - prompt_embeddings start in float32\n",
        "        prompt_embeddings = self.prompt_learner()\n",
        "        text_features = self.text_encoder(prompt_embeddings, self.tokenized_prompts)\n",
        "        \n",
        "        # Normalize (still in float16 from encoder outputs)\n",
        "        image_features = image_features / image_features.norm(dim=-1, keepdim=True)\n",
        "        text_features = text_features / text_features.norm(dim=-1, keepdim=True)\n",
        "        \n",
        "        # Upcast to float32 for logit calculation\n",
        "        image_features = image_features.float()\n",
        "        text_features = text_features.float()\n",
        "        \n",
        "        # Calculate logits in float32\n",
        "        logit_scale = self.logit_scale.exp().float()\n",
        "        logits = logit_scale * image_features @ text_features.t()\n",
        "        \n",
        "        return logits\n",
        "        \n",
        "print(\"✅ CoOp model components defined.\")"
      ]
    },
    {
      "cell_type": "markdown",
      "metadata": {},
      "source": [
        "### **2.3. Training the Prompt Vectors**\n",
        "\n",
        "Now we set up the training loop. We'll use a `ConcatDataset` to combine our three source domains for the supervised loss. On each step, we'll also grab a batch from the target domain (Sketch) to compute the unsupervised entropy loss."
      ]
    },
    {
      "cell_type": "code",
      "execution_count": 7,
      "metadata": {},
      "outputs": [
        {
          "name": "stdout",
          "output_type": "stream",
          "text": [
            "Initializing 16 context vectors randomly\n",
            "✅ CLIP parameters frozen. Only training prompt vectors.\n",
            "📊 Training on 3 source domains: ['art_painting', 'cartoon', 'photo']\n",
            "🎯 Target domain: sketch\n"
          ]
        }
      ],
      "source": [
        "# ============================================\n",
        "# ⚙️ Training Setup\n",
        "# ============================================\n",
        "\n",
        "# 1. Instantiate the CoOp model\n",
        "coop_model = CustomCLIPWithCoOp(PACS_CLASSES, clip_model).to(device)\n",
        "\n",
        "# 2. Freeze all CLIP parameters, only train the prompt_learner's context vectors\n",
        "for name, param in coop_model.named_parameters():\n",
        "    if \"ctx\" not in name:\n",
        "        param.requires_grad_(False)\n",
        "\n",
        "print(\"✅ CLIP parameters frozen. Only training prompt vectors.\")\n",
        "\n",
        "# 3. Optimizer and Loss\n",
        "optimizer = optim.AdamW(coop_model.prompt_learner.parameters(), lr=1e-2, weight_decay=1e-4)\n",
        "criterion = nn.CrossEntropyLoss()\n",
        "lambda_entropy = 1.0  # Weight for the unsupervised loss\n",
        "num_epochs = 10\n",
        "\n",
        "# 4. DataLoaders\n",
        "source_indices = [i for i, name in enumerate(DOMAINS) if name != TARGET_DOMAIN_NAME]\n",
        "source_datasets = [datasets[i] for i in source_indices]\n",
        "source_concat_dataset = ConcatDataset(source_datasets)\n",
        "source_train_loader = DataLoader(source_concat_dataset, batch_size=64, shuffle=True, num_workers=2)\n",
        "\n",
        "target_loader = dataloaders[TARGET_DOMAIN_IDX]\n",
        "\n",
        "print(f\"📊 Training on {len(source_datasets)} source domains: {[DOMAINS[i] for i in source_indices]}\")\n",
        "print(f\"🎯 Target domain: {TARGET_DOMAIN_NAME}\")"
      ]
    },
    {
      "cell_type": "code",
      "execution_count": 8,
      "metadata": {},
      "outputs": [
        {
          "name": "stdout",
          "output_type": "stream",
          "text": [
            "\n",
            "🚀 Starting CoOp prompt learning...\n"
          ]
        },
        {
          "name": "stderr",
          "output_type": "stream",
          "text": [
            "Epoch 1/10: 100%|██████████| 95/95 [00:26<00:00,  3.63it/s, sup_loss=0.072, unsup_loss=0.069]\n"
          ]
        },
        {
          "name": "stdout",
          "output_type": "stream",
          "text": [
            "Epoch 1/10 | Avg Sup Loss: 0.0928 | Avg Unsup Loss: 0.1367\n"
          ]
        },
        {
          "name": "stderr",
          "output_type": "stream",
          "text": [
            "Epoch 2/10: 100%|██████████| 95/95 [00:26<00:00,  3.65it/s, sup_loss=0.072, unsup_loss=0.069]\n"
          ]
        },
        {
          "name": "stdout",
          "output_type": "stream",
          "text": [
            "Epoch 2/10 | Avg Sup Loss: 0.0647 | Avg Unsup Loss: 0.1148\n"
          ]
        },
        {
          "name": "stderr",
          "output_type": "stream",
          "text": [
            "Epoch 3/10: 100%|██████████| 95/95 [00:26<00:00,  3.64it/s, sup_loss=0.112, unsup_loss=0.086]\n"
          ]
        },
        {
          "name": "stdout",
          "output_type": "stream",
          "text": [
            "Epoch 3/10 | Avg Sup Loss: 0.0527 | Avg Unsup Loss: 0.1162\n"
          ]
        },
        {
          "name": "stderr",
          "output_type": "stream",
          "text": [
            "Epoch 4/10: 100%|██████████| 95/95 [00:26<00:00,  3.65it/s, sup_loss=0.018, unsup_loss=0.079]\n"
          ]
        },
        {
          "name": "stdout",
          "output_type": "stream",
          "text": [
            "Epoch 4/10 | Avg Sup Loss: 0.0452 | Avg Unsup Loss: 0.1024\n"
          ]
        },
        {
          "name": "stderr",
          "output_type": "stream",
          "text": [
            "Epoch 5/10: 100%|██████████| 95/95 [00:25<00:00,  3.66it/s, sup_loss=0.000, unsup_loss=0.078]\n"
          ]
        },
        {
          "name": "stdout",
          "output_type": "stream",
          "text": [
            "Epoch 5/10 | Avg Sup Loss: 0.0424 | Avg Unsup Loss: 0.0915\n"
          ]
        },
        {
          "name": "stderr",
          "output_type": "stream",
          "text": [
            "Epoch 6/10: 100%|██████████| 95/95 [00:26<00:00,  3.65it/s, sup_loss=0.005, unsup_loss=0.080]\n"
          ]
        },
        {
          "name": "stdout",
          "output_type": "stream",
          "text": [
            "Epoch 6/10 | Avg Sup Loss: 0.0382 | Avg Unsup Loss: 0.0867\n"
          ]
        },
        {
          "name": "stderr",
          "output_type": "stream",
          "text": [
            "Epoch 7/10: 100%|██████████| 95/95 [00:26<00:00,  3.63it/s, sup_loss=0.001, unsup_loss=0.082]\n"
          ]
        },
        {
          "name": "stdout",
          "output_type": "stream",
          "text": [
            "Epoch 7/10 | Avg Sup Loss: 0.0377 | Avg Unsup Loss: 0.0821\n"
          ]
        },
        {
          "name": "stderr",
          "output_type": "stream",
          "text": [
            "Epoch 8/10: 100%|██████████| 95/95 [00:28<00:00,  3.37it/s, sup_loss=0.042, unsup_loss=0.078]\n"
          ]
        },
        {
          "name": "stdout",
          "output_type": "stream",
          "text": [
            "Epoch 8/10 | Avg Sup Loss: 0.0367 | Avg Unsup Loss: 0.0839\n"
          ]
        },
        {
          "name": "stderr",
          "output_type": "stream",
          "text": [
            "Epoch 9/10: 100%|██████████| 95/95 [00:27<00:00,  3.41it/s, sup_loss=0.043, unsup_loss=0.074]\n"
          ]
        },
        {
          "name": "stdout",
          "output_type": "stream",
          "text": [
            "Epoch 9/10 | Avg Sup Loss: 0.0369 | Avg Unsup Loss: 0.0799\n"
          ]
        },
        {
          "name": "stderr",
          "output_type": "stream",
          "text": [
            "Epoch 10/10: 100%|██████████| 95/95 [00:26<00:00,  3.57it/s, sup_loss=0.014, unsup_loss=0.076]"
          ]
        },
        {
          "name": "stdout",
          "output_type": "stream",
          "text": [
            "Epoch 10/10 | Avg Sup Loss: 0.0313 | Avg Unsup Loss: 0.0749\n",
            "\n",
            "✅ CoOp training complete!\n"
          ]
        },
        {
          "name": "stderr",
          "output_type": "stream",
          "text": [
            "\n"
          ]
        }
      ],
      "source": [
        "# ============================================\n",
        "# 🚀 Training Loop\n",
        "# ============================================\n",
        "\n",
        "print(\"\\n🚀 Starting CoOp prompt learning...\")\n",
        "coop_model.train()\n",
        "\n",
        "for epoch in range(num_epochs):\n",
        "    target_iter = iter(target_loader) \n",
        "    running_sup_loss = 0.0\n",
        "    running_unsup_loss = 0.0\n",
        "    \n",
        "    pbar = tqdm(source_train_loader, desc=f\"Epoch {epoch+1}/{num_epochs}\")\n",
        "    for images_s, labels_s in pbar:\n",
        "        # Get target batch, cycling the iterator if needed\n",
        "        try:\n",
        "            images_t, _ = next(target_iter)\n",
        "        except StopIteration:\n",
        "            target_iter = iter(target_loader)\n",
        "            images_t, _ = next(target_iter)\n",
        "\n",
        "        images_s, labels_s = images_s.to(device), labels_s.to(device)\n",
        "        images_t = images_t.to(device)\n",
        "\n",
        "        optimizer.zero_grad()\n",
        "        \n",
        "        # --- Supervised Loss (Source) ---\n",
        "        logits_s = coop_model(images_s)\n",
        "        loss_sup = criterion(logits_s, labels_s)\n",
        "        \n",
        "        # --- Unsupervised Entropy Loss (Target) ---\n",
        "        logits_t = coop_model(images_t)\n",
        "        probs_t = logits_t.softmax(dim=-1)\n",
        "        loss_unsup = (-(probs_t * torch.log(probs_t + 1e-9)).sum(dim=1)).mean()\n",
        "        \n",
        "        # --- Total Loss and Backward Pass ---\n",
        "        total_loss = loss_sup + (lambda_entropy * loss_unsup)\n",
        "        total_loss.backward()\n",
        "        \n",
        "        # Clip gradients to prevent explosion\n",
        "        torch.nn.utils.clip_grad_norm_(coop_model.prompt_learner.parameters(), 1.0)\n",
        "        \n",
        "        optimizer.step()\n",
        "\n",
        "        running_sup_loss += loss_sup.item()\n",
        "        running_unsup_loss += loss_unsup.item()\n",
        "        pbar.set_postfix({\n",
        "            'sup_loss': f\"{loss_sup.item():.3f}\", \n",
        "            'unsup_loss': f\"{loss_unsup.item():.3f}\"\n",
        "        })\n",
        "        \n",
        "    avg_sup_loss = running_sup_loss / len(source_train_loader)\n",
        "    avg_unsup_loss = running_unsup_loss / len(source_train_loader)\n",
        "    print(f\"Epoch {epoch+1}/{num_epochs} | Avg Sup Loss: {avg_sup_loss:.4f} | Avg Unsup Loss: {avg_unsup_loss:.4f}\")\n",
        "\n",
        "print(\"\\n✅ CoOp training complete!\")"
      ]
    },
    {
      "cell_type": "markdown",
      "metadata": {},
      "source": [
        "### **2.4. Evaluation & Final Comparison**\n",
        "\n",
        "With our prompt vectors trained, we now evaluate the adapted model on all four domains. We'll add these results to our previous comparison table to see how CoOp performs against the Zero-Shot and Linear Probe baselines."
      ]
    },
    {
      "cell_type": "code",
      "execution_count": 9,
      "metadata": {},
      "outputs": [
        {
          "name": "stdout",
          "output_type": "stream",
          "text": [
            "\n",
            "🔬 Evaluating trained CoOp model on all domains...\n",
            "\n"
          ]
        },
        {
          "name": "stderr",
          "output_type": "stream",
          "text": [
            "Evaluating CoOp model: 100%|██████████| 32/32 [00:08<00:00,  3.78it/s]\n"
          ]
        },
        {
          "name": "stdout",
          "output_type": "stream",
          "text": [
            "   - Accuracy on art_painting: 98.63%\n"
          ]
        },
        {
          "name": "stderr",
          "output_type": "stream",
          "text": [
            "Evaluating CoOp model: 100%|██████████| 37/37 [00:08<00:00,  4.28it/s]\n"
          ]
        },
        {
          "name": "stdout",
          "output_type": "stream",
          "text": [
            "   - Accuracy on cartoon: 99.15%\n"
          ]
        },
        {
          "name": "stderr",
          "output_type": "stream",
          "text": [
            "Evaluating CoOp model: 100%|██████████| 27/27 [00:08<00:00,  3.28it/s]\n"
          ]
        },
        {
          "name": "stdout",
          "output_type": "stream",
          "text": [
            "   - Accuracy on photo: 99.88%\n"
          ]
        },
        {
          "name": "stderr",
          "output_type": "stream",
          "text": [
            "Evaluating CoOp model: 100%|██████████| 62/62 [00:10<00:00,  6.02it/s]"
          ]
        },
        {
          "name": "stdout",
          "output_type": "stream",
          "text": [
            "   - Accuracy on sketch: 89.36%\n",
            "\n",
            "📊 Final Comparison: Zero-Shot vs. Linear Probe vs. CoOp (%)\n",
            "\n"
          ]
        },
        {
          "name": "stderr",
          "output_type": "stream",
          "text": [
            "\n"
          ]
        },
        {
          "data": {
            "text/html": [
              "<style type=\"text/css\">\n",
              "#T_97719_row0_col0, #T_97719_row0_col1, #T_97719_row0_col2, #T_97719_row1_col2, #T_97719_row1_col3 {\n",
              "  background-color: #440154;\n",
              "  color: #f1f1f1;\n",
              "}\n",
              "#T_97719_row0_col3 {\n",
              "  background-color: #46337f;\n",
              "  color: #f1f1f1;\n",
              "}\n",
              "#T_97719_row1_col0, #T_97719_row1_col1, #T_97719_row2_col0, #T_97719_row2_col2, #T_97719_row2_col3 {\n",
              "  background-color: #fde725;\n",
              "  color: #000000;\n",
              "}\n",
              "#T_97719_row2_col1 {\n",
              "  background-color: #c5e021;\n",
              "  color: #000000;\n",
              "}\n",
              "</style>\n",
              "<table id=\"T_97719\">\n",
              "  <thead>\n",
              "    <tr>\n",
              "      <th class=\"blank level0\" >&nbsp;</th>\n",
              "      <th id=\"T_97719_level0_col0\" class=\"col_heading level0 col0\" >art_painting</th>\n",
              "      <th id=\"T_97719_level0_col1\" class=\"col_heading level0 col1\" >cartoon</th>\n",
              "      <th id=\"T_97719_level0_col2\" class=\"col_heading level0 col2\" >photo</th>\n",
              "      <th id=\"T_97719_level0_col3\" class=\"col_heading level0 col3\" >sketch</th>\n",
              "    </tr>\n",
              "  </thead>\n",
              "  <tbody>\n",
              "    <tr>\n",
              "      <th id=\"T_97719_level0_row0\" class=\"row_heading level0 row0\" >Zero-Shot (Best Prompt)</th>\n",
              "      <td id=\"T_97719_row0_col0\" class=\"data row0 col0\" >96.68</td>\n",
              "      <td id=\"T_97719_row0_col1\" class=\"data row0 col1\" >98.25</td>\n",
              "      <td id=\"T_97719_row0_col2\" class=\"data row0 col2\" >99.82</td>\n",
              "      <td id=\"T_97719_row0_col3\" class=\"data row0 col3\" >85.85</td>\n",
              "    </tr>\n",
              "    <tr>\n",
              "      <th id=\"T_97719_level0_row1\" class=\"row_heading level0 row1\" >Linear Probe</th>\n",
              "      <td id=\"T_97719_row1_col0\" class=\"data row1 col0\" >98.63</td>\n",
              "      <td id=\"T_97719_row1_col1\" class=\"data row1 col1\" >99.23</td>\n",
              "      <td id=\"T_97719_row1_col2\" class=\"data row1 col2\" >99.82</td>\n",
              "      <td id=\"T_97719_row1_col3\" class=\"data row1 col3\" >85.24</td>\n",
              "    </tr>\n",
              "    <tr>\n",
              "      <th id=\"T_97719_level0_row2\" class=\"row_heading level0 row2\" >CoOp (Ours)</th>\n",
              "      <td id=\"T_97719_row2_col0\" class=\"data row2 col0\" >98.63</td>\n",
              "      <td id=\"T_97719_row2_col1\" class=\"data row2 col1\" >99.15</td>\n",
              "      <td id=\"T_97719_row2_col2\" class=\"data row2 col2\" >99.88</td>\n",
              "      <td id=\"T_97719_row2_col3\" class=\"data row2 col3\" >89.36</td>\n",
              "    </tr>\n",
              "  </tbody>\n",
              "</table>\n"
            ],
            "text/plain": [
              "<pandas.io.formats.style.Styler at 0x1dc3c05a240>"
            ]
          },
          "metadata": {},
          "output_type": "display_data"
        }
      ],
      "source": [
        "# ============================================\n",
        "# 📊 Evaluation\n",
        "# ============================================\n",
        "\n",
        "def evaluate_coop(coop_model, dataloader):\n",
        "    \"\"\"Evaluates a trained CoOp model on a given dataloader.\"\"\"\n",
        "    coop_model.eval()\n",
        "    correct = 0\n",
        "    total = 0\n",
        "    \n",
        "    with torch.no_grad():\n",
        "        for images, labels in tqdm(dataloader, desc=\"Evaluating CoOp model\"):\n",
        "            images, labels = images.to(device), labels.to(device)\n",
        "            \n",
        "            outputs = coop_model(images)\n",
        "            preds = outputs.argmax(dim=-1)\n",
        "            \n",
        "            correct += (preds == labels).sum().item()\n",
        "            total += labels.size(0)\n",
        "            \n",
        "    return 100 * correct / total\n",
        "\n",
        "# --- Run CoOp Evaluation ---\n",
        "coop_results = {}\n",
        "print(\"\\n🔬 Evaluating trained CoOp model on all domains...\\n\")\n",
        "for i, loader in enumerate(dataloaders):\n",
        "    domain_name = DOMAINS[i]\n",
        "    acc = evaluate_coop(coop_model, loader)\n",
        "    coop_results[domain_name] = acc\n",
        "    print(f\"   - Accuracy on {domain_name}: {acc:.2f}%\")\n",
        "\n",
        "# --- Display Comparison Table ---\n",
        "coop_df = pd.DataFrame([coop_results])\n",
        "coop_df.index = [\"CoOp (Ours)\"]\n",
        "coop_df.columns = DOMAINS\n",
        "\n",
        "final_comparison_df = pd.concat([comparison_df, coop_df])\n",
        "\n",
        "print(\"\\n📊 Final Comparison: Zero-Shot vs. Linear Probe vs. CoOp (%)\\n\")\n",
        "display(final_comparison_df.style.format(\"{:.2f}\").background_gradient(cmap='viridis', axis=0))"
      ]
    },
    {
      "cell_type": "markdown",
      "metadata": {},
      "source": [
        "---\n",
        "\n",
        "## **Part 3: Gradient Conflict and Alignment**"
      ]
    },
    {
      "cell_type": "markdown",
      "metadata": {},
      "source": [
        "### **3.1. Overview**\n",
        "\n",
        "In this section, we conduct a deeper analysis into the challenges of multi-domain training, as required by Part 3 of the assignment's Task 3. When a model is trained on multiple source domains simultaneously, the optimal update direction for one domain may be detrimental to another. This phenomenon is known as **gradient conflict**[cite: 6].\n",
        "\n",
        "To investigate this, we will:\n",
        "1.  Train our `CoOp` model on two source domains simultaneously (**Art Painting** and **Cartoon**).\n",
        "2.  At each training step, compute the gradients of the loss for each domain with respect to the learnable prompt parameters.\n",
        "3.  Calculate the **cosine similarity** between these two gradient vectors. A negative cosine similarity indicates that the gradients are pointing in opposing directions, signifying a conflict.\n",
        "\n",
        "This analysis will help us visualize when and why conflicts occur and provide intuition for why advanced techniques like gradient alignment might be necessary for robust domain generalization[cite: 6]."
      ]
    },
    {
      "cell_type": "markdown",
      "metadata": {},
      "source": [
        "### **3.2. Setup for Gradient Analysis**\n",
        "\n",
        "We need to set up a new training loop specifically for this analysis. We'll re-initialize our `CustomCLIPWithCoOp` model and create separate dataloaders for two source domains to compute their gradients independently."
      ]
    },
    {
      "cell_type": "code",
      "execution_count": 10,
      "metadata": {},
      "outputs": [
        {
          "name": "stdout",
          "output_type": "stream",
          "text": [
            "Re-initializing model for gradient conflict analysis...\n",
            "Initializing 16 context vectors randomly\n",
            "✅ Setup complete. Analyzing gradients between 'art_painting' and 'cartoon'.\n"
          ]
        }
      ],
      "source": [
        "# ============================================\n",
        "# 🎨 Plotting Style\n",
        "# ============================================\n",
        "sns.set_theme(style=\"whitegrid\")\n",
        "\n",
        "# ============================================\n",
        "# ⚙️ Re-initialize Model and Dataloaders for Analysis\n",
        "# ============================================\n",
        "print(\"Re-initializing model for gradient conflict analysis...\")\n",
        "\n",
        "# 1. Instantiate a new CoOp model to ensure fresh weights\n",
        "analysis_model = CustomCLIPWithCoOp(PACS_CLASSES, clip_model).to(device)\n",
        "\n",
        "# 2. Freeze all parameters except the learnable context vectors `ctx`\n",
        "for name, param in analysis_model.named_parameters():\n",
        "    if \"ctx\" not in name:\n",
        "        param.requires_grad_(False)\n",
        "\n",
        "# 3. Set up optimizer for the prompt learner\n",
        "analysis_optimizer = optim.AdamW(analysis_model.prompt_learner.parameters(), lr=1e-3, weight_decay=1e-4)\n",
        "criterion = nn.CrossEntropyLoss()\n",
        "\n",
        "# 4. Create separate dataloaders for two source domains: Art and Cartoon\n",
        "domain_A_idx, domain_B_idx = 0, 1  # Art Painting and Cartoon\n",
        "\n",
        "domain_A_loader = DataLoader(datasets[domain_A_idx], batch_size=32, shuffle=True, num_workers=2)\n",
        "domain_B_loader = DataLoader(datasets[domain_B_idx], batch_size=32, shuffle=True, num_workers=2)\n",
        "\n",
        "print(f\"✅ Setup complete. Analyzing gradients between '{DOMAINS[domain_A_idx]}' and '{DOMAINS[domain_B_idx]}'.\")"
      ]
    },
    {
      "cell_type": "markdown",
      "metadata": {},
      "source": [
        "### **3.3. Training Loop with Gradient Similarity Calculation**\n",
        "\n",
        "Here is the core of the analysis. In this modified training loop, we perform separate backward passes for each domain's loss to isolate their gradients before making a combined update. We store the cosine similarity at each step."
      ]
    },
    {
      "cell_type": "code",
      "execution_count": 11,
      "metadata": {},
      "outputs": [
        {
          "name": "stdout",
          "output_type": "stream",
          "text": [
            "🚀 Starting training and gradient analysis...\n"
          ]
        },
        {
          "name": "stderr",
          "output_type": "stream",
          "text": [
            "Epoch 1/5: 100%|██████████| 64/64 [00:06<00:00,  9.90it/s, cos_sim=0.215, avg_cos_sim=0.094] \n",
            "Epoch 2/5: 100%|██████████| 64/64 [00:06<00:00,  9.61it/s, cos_sim=-0.004, avg_cos_sim=0.066]\n",
            "Epoch 3/5: 100%|██████████| 64/64 [00:06<00:00,  9.84it/s, cos_sim=-0.186, avg_cos_sim=0.034]\n",
            "Epoch 4/5: 100%|██████████| 64/64 [00:06<00:00,  9.85it/s, cos_sim=-0.303, avg_cos_sim=0.030] \n",
            "Epoch 5/5: 100%|██████████| 64/64 [00:06<00:00,  9.66it/s, cos_sim=0.184, avg_cos_sim=0.047] "
          ]
        },
        {
          "name": "stdout",
          "output_type": "stream",
          "text": [
            "\n",
            "✅ Analysis complete after 320 steps.\n"
          ]
        },
        {
          "name": "stderr",
          "output_type": "stream",
          "text": [
            "\n"
          ]
        }
      ],
      "source": [
        "print(\"🚀 Starting training and gradient analysis...\")\n",
        "\n",
        "num_epochs_analysis = 5\n",
        "max_steps = 320  # Set to run all 5 epochs (5 * 64)\n",
        "cosine_similarities = []\n",
        "step = 0\n",
        "\n",
        "analysis_model.train()\n",
        "\n",
        "for epoch in range(num_epochs_analysis):\n",
        "    # Use iterators to handle domains of different lengths\n",
        "    iter_A = iter(domain_A_loader)\n",
        "    iter_B = iter(domain_B_loader)\n",
        "    \n",
        "    # We'll iterate based on the shorter dataloader to keep batches paired\n",
        "    num_batches = min(len(domain_A_loader), len(domain_B_loader))\n",
        "    \n",
        "    # 👇 --- CHANGE 1: Initialize a running total for the epoch's average ---\n",
        "    running_similarity = 0.0\n",
        "    \n",
        "    pbar = tqdm(range(num_batches), desc=f\"Epoch {epoch+1}/{num_epochs_analysis}\")\n",
        "    \n",
        "    # 👇 --- CHANGE 2: Use enumerate to get a batch index `i` for the average calculation ---\n",
        "    for i, _ in enumerate(pbar):\n",
        "        if step >= max_steps:\n",
        "            break\n",
        "        \n",
        "        # Get batches from both domains\n",
        "        images_A, labels_A = next(iter_A)\n",
        "        images_B, labels_B = next(iter_B)\n",
        "        \n",
        "        images_A, labels_A = images_A.to(device), labels_A.to(device)\n",
        "        images_B, labels_B = images_B.to(device), labels_B.to(device)\n",
        "\n",
        "        # --- Calculate Gradient for Domain A ---\n",
        "        analysis_optimizer.zero_grad()\n",
        "        logits_A = analysis_model(images_A)\n",
        "        loss_A = criterion(logits_A, labels_A)\n",
        "        loss_A.backward(retain_graph=True)\n",
        "        grad_A = analysis_model.prompt_learner.ctx.grad.clone().flatten()\n",
        "\n",
        "        # --- Calculate Gradient for Domain B ---\n",
        "        analysis_optimizer.zero_grad()\n",
        "        logits_B = analysis_model(images_B)\n",
        "        loss_B = criterion(logits_B, labels_B)\n",
        "        loss_B.backward(retain_graph=True) \n",
        "        grad_B = analysis_model.prompt_learner.ctx.grad.clone().flatten()\n",
        "\n",
        "        # --- Compute and Store Cosine Similarity ---\n",
        "        similarity = F.cosine_similarity(grad_A, grad_B, dim=0).item()\n",
        "        cosine_similarities.append(similarity)\n",
        "        \n",
        "        # 👇 --- CHANGE 3: Update the running total and calculate the epoch average ---\n",
        "        running_similarity += similarity\n",
        "        avg_similarity = running_similarity / (i + 1)\n",
        "        \n",
        "        # --- Perform a Combined Optimizer Step ---\n",
        "        analysis_optimizer.zero_grad()\n",
        "        total_loss = loss_A + loss_B\n",
        "        total_loss.backward()\n",
        "        analysis_optimizer.step()\n",
        "\n",
        "        # 👇 --- CHANGE 4: Update the postfix to show both current and average similarity ---\n",
        "        pbar.set_postfix({\n",
        "            'cos_sim': f\"{similarity:.3f}\", \n",
        "            'avg_cos_sim': f\"{avg_similarity:.3f}\"\n",
        "        })\n",
        "        step += 1\n",
        "    \n",
        "    if step >= max_steps:\n",
        "        break\n",
        "\n",
        "print(f\"\\n✅ Analysis complete after {step} steps.\")"
      ]
    },
    {
      "cell_type": "markdown",
      "metadata": {},
      "source": [
        "### **3.4. Visualization & Analysis**\n",
        "\n",
        "Now, let's plot the cosine similarity over the training steps. This visualization will clearly show whether the gradients were aligned (positive similarity), orthogonal (near-zero similarity), or conflicting (negative similarity)."
      ]
    },
    {
      "cell_type": "code",
      "execution_count": 12,
      "metadata": {},
      "outputs": [
        {
          "data": {
            "image/png": "[encoded data removed]",
            "text/plain": [
              "<Figure size 1400x700 with 1 Axes>"
            ]
          },
          "metadata": {},
          "output_type": "display_data"
        }
      ],
      "source": [
        "# ============================================\n",
        "# 📊 Plot the Results\n",
        "# ============================================\n",
        "plt.figure(figsize=(14, 7))\n",
        "\n",
        "# Plot the cosine similarity values\n",
        "plt.plot(cosine_similarities, label='Cosine Similarity', color='royalblue', alpha=0.8)\n",
        "\n",
        "# Add a horizontal line at y=0 to indicate the conflict threshold\n",
        "plt.axhline(0, color='red', linestyle='--', linewidth=2, label='Conflict Threshold (cos_sim = 0)')\n",
        "\n",
        "# Add a moving average to see the trend more clearly\n",
        "window_size = 10\n",
        "moving_avg = pd.Series(cosine_similarities).rolling(window=window_size).mean()\n",
        "plt.plot(moving_avg, label=f'Moving Average (window={window_size})', color='darkorange', linewidth=2.5)\n",
        "\n",
        "# --- Formatting ---\n",
        "plt.title('Gradient Cosine Similarity Between Art & Cartoon Domains', fontsize=16, fontweight='bold')\n",
        "plt.xlabel('Training Step', fontsize=12, fontweight='bold')\n",
        "plt.ylabel('Cosine Similarity', fontsize=12, fontweight='bold')\n",
        "plt.ylim(-1.05, 1.05)\n",
        "plt.grid(True, which='both', linestyle='--', linewidth=0.5)\n",
        "plt.legend(fontsize=11)\n",
        "\n",
        "# Annotate regions\n",
        "plt.fill_between(range(len(cosine_similarities)), 0, -1.05, color='red', alpha=0.05, label='Conflict Region')\n",
        "plt.fill_between(range(len(cosine_similarities)), 0, 1.05, color='green', alpha=0.05, label='Agreement Region')\n",
        "\n",
        "plt.show()"
      ]
    },
    {
      "cell_type": "markdown",
      "metadata": {},
      "source": [
        "---\n",
        "## **Part 4: Open-Set and Generalization Analysis**"
      ]
    },
    {
      "cell_type": "markdown",
      "metadata": {},
      "source": [
        "### **4.1. Overview**\n",
        "\n",
        "A key strength of CLIP is its inherent **open-set recognition** capability, allowing it to classify images from any class described by a text prompt[cite: 169]. However, as hypothesized in the assignment manual, fine-tuning or prompt-tuning on a closed set of classes might diminish this ability. The model could become overconfident in its predictions for the classes it was trained on, making it less effective at identifying and rejecting samples from unseen classes (Out-of-Distribution, OOD)[cite: 203].\n",
        "\n",
        "In this section, we will design an experiment to test this hypothesis:\n",
        "1.  **Closed-Set Training**: We will split the 7 PACS classes into a 'seen' (in-distribution) set and an 'unseen' (OOD) set.\n",
        "2.  **Re-train CoOp**: We will train our CoOp prompt-learning model *only* on the 'seen' classes.\n",
        "3.  **Open-Set Evaluation**: We will evaluate both the original zero-shot CLIP and our specialized CoOp model on a test set containing samples from *all* classes. We'll analyze their confidence scores (Maximum Softmax Probability) to see which model is better at distinguishing seen from unseen data."
      ]
    },
    {
      "cell_type": "markdown",
      "metadata": {},
      "source": [
        "### **4.2. Setup and Re-training CoOp on the Closed Set**"
      ]
    },
    {
      "cell_type": "code",
      "execution_count": 13,
      "metadata": {},
      "outputs": [
        {
          "name": "stderr",
          "output_type": "stream",
          "text": [
            "Filtering source dataset for seen classes: 100%|██████████| 6062/6062 [00:09<00:00, 665.05it/s]\n"
          ]
        },
        {
          "name": "stdout",
          "output_type": "stream",
          "text": [
            "\n",
            "✅ Created new image-based training loader with 4424 samples from seen classes.\n",
            "\n",
            "🚀 Starting Closed-Set CoOp training...\n",
            "Initializing 16 context vectors randomly\n"
          ]
        },
        {
          "name": "stderr",
          "output_type": "stream",
          "text": [
            "Epoch 1/10: 100%|██████████| 70/70 [00:22<00:00,  3.05it/s, sup_loss=0.026, unsup_loss=0.017]\n"
          ]
        },
        {
          "name": "stdout",
          "output_type": "stream",
          "text": [
            "Epoch 1/10 | Avg Sup Loss: 0.0691 | Avg Unsup Loss: 0.0837\n"
          ]
        },
        {
          "name": "stderr",
          "output_type": "stream",
          "text": [
            "Epoch 2/10: 100%|██████████| 70/70 [00:23<00:00,  3.01it/s, sup_loss=0.000, unsup_loss=0.021]\n"
          ]
        },
        {
          "name": "stdout",
          "output_type": "stream",
          "text": [
            "Epoch 2/10 | Avg Sup Loss: 0.0382 | Avg Unsup Loss: 0.0424\n"
          ]
        },
        {
          "name": "stderr",
          "output_type": "stream",
          "text": [
            "Epoch 3/10: 100%|██████████| 70/70 [00:22<00:00,  3.05it/s, sup_loss=0.349, unsup_loss=0.010]\n"
          ]
        },
        {
          "name": "stdout",
          "output_type": "stream",
          "text": [
            "Epoch 3/10 | Avg Sup Loss: 0.0374 | Avg Unsup Loss: 0.0343\n"
          ]
        },
        {
          "name": "stderr",
          "output_type": "stream",
          "text": [
            "Epoch 4/10: 100%|██████████| 70/70 [00:22<00:00,  3.05it/s, sup_loss=0.000, unsup_loss=0.011]\n"
          ]
        },
        {
          "name": "stdout",
          "output_type": "stream",
          "text": [
            "Epoch 4/10 | Avg Sup Loss: 0.0337 | Avg Unsup Loss: 0.0317\n"
          ]
        },
        {
          "name": "stderr",
          "output_type": "stream",
          "text": [
            "Epoch 5/10: 100%|██████████| 70/70 [00:22<00:00,  3.07it/s, sup_loss=0.000, unsup_loss=0.010]\n"
          ]
        },
        {
          "name": "stdout",
          "output_type": "stream",
          "text": [
            "Epoch 5/10 | Avg Sup Loss: 0.0260 | Avg Unsup Loss: 0.0236\n"
          ]
        },
        {
          "name": "stderr",
          "output_type": "stream",
          "text": [
            "Epoch 6/10: 100%|██████████| 70/70 [00:22<00:00,  3.05it/s, sup_loss=0.000, unsup_loss=0.009]\n"
          ]
        },
        {
          "name": "stdout",
          "output_type": "stream",
          "text": [
            "Epoch 6/10 | Avg Sup Loss: 0.0233 | Avg Unsup Loss: 0.0191\n"
          ]
        },
        {
          "name": "stderr",
          "output_type": "stream",
          "text": [
            "Epoch 7/10: 100%|██████████| 70/70 [00:23<00:00,  2.97it/s, sup_loss=0.100, unsup_loss=0.011]\n"
          ]
        },
        {
          "name": "stdout",
          "output_type": "stream",
          "text": [
            "Epoch 7/10 | Avg Sup Loss: 0.0198 | Avg Unsup Loss: 0.0253\n"
          ]
        },
        {
          "name": "stderr",
          "output_type": "stream",
          "text": [
            "Epoch 8/10: 100%|██████████| 70/70 [00:23<00:00,  3.04it/s, sup_loss=0.639, unsup_loss=0.011]\n"
          ]
        },
        {
          "name": "stdout",
          "output_type": "stream",
          "text": [
            "Epoch 8/10 | Avg Sup Loss: 0.0254 | Avg Unsup Loss: 0.0271\n"
          ]
        },
        {
          "name": "stderr",
          "output_type": "stream",
          "text": [
            "Epoch 9/10: 100%|██████████| 70/70 [00:22<00:00,  3.08it/s, sup_loss=0.000, unsup_loss=0.014]\n"
          ]
        },
        {
          "name": "stdout",
          "output_type": "stream",
          "text": [
            "Epoch 9/10 | Avg Sup Loss: 0.0177 | Avg Unsup Loss: 0.0294\n"
          ]
        },
        {
          "name": "stderr",
          "output_type": "stream",
          "text": [
            "Epoch 10/10: 100%|██████████| 70/70 [00:22<00:00,  3.08it/s, sup_loss=0.000, unsup_loss=0.012]"
          ]
        },
        {
          "name": "stdout",
          "output_type": "stream",
          "text": [
            "Epoch 10/10 | Avg Sup Loss: 0.0162 | Avg Unsup Loss: 0.0177\n",
            "\n",
            "✅ Closed-Set CoOp training complete!\n"
          ]
        },
        {
          "name": "stderr",
          "output_type": "stream",
          "text": [
            "\n"
          ]
        }
      ],
      "source": [
        "# ============================================\n",
        "# 📂 Open-Set Class Definitions (Moved to Top)\n",
        "# ============================================\n",
        "# Original full class list from PACS\n",
        "PACS_CLASSES_FULL = [\"dog\", \"elephant\", \"giraffe\", \"guitar\", \"horse\", \"house\", \"person\"]\n",
        "\n",
        "# Split into seen (In-Distribution) and unseen (Out-of-Distribution) sets\n",
        "SEEN_CLASSES = [\"dog\", \"giraffe\", \"guitar\", \"house\", \"person\"]  # 5 classes for training\n",
        "UNSEEN_CLASSES = [\"elephant\", \"horse\"]  # 2 classes held out for OOD testing\n",
        "\n",
        "# ============================================\n",
        "# ⚙️ Re-Setup and Training for Closed-Set CoOp (Corrected)\n",
        "# ============================================\n",
        "from torch.utils.data import Subset\n",
        "\n",
        "# This is the original concatenation of the ImageFolder datasets (art, cartoon, photo)\n",
        "source_datasets = [datasets[i] for i in range(len(DOMAINS)) if i != TARGET_DOMAIN_IDX]\n",
        "source_concat_dataset_images = ConcatDataset(source_datasets)\n",
        "\n",
        "# Get the integer indices for the 'seen' classes and create a label map\n",
        "class_to_idx = datasets[0].class_to_idx\n",
        "seen_class_indices = {class_to_idx[name] for name in SEEN_CLASSES}\n",
        "label_map = {original_idx: new_idx for new_idx, original_idx in enumerate(sorted(list(seen_class_indices)))}\n",
        "\n",
        "# Filter the ConcatDataset of ImageFolders to get indices of images from 'seen' classes\n",
        "id_train_indices = []\n",
        "for i in tqdm(range(len(source_concat_dataset_images)), desc=\"Filtering source dataset for seen classes\"):\n",
        "    original_label = source_concat_dataset_images[i][1]\n",
        "    if original_label in seen_class_indices:\n",
        "        id_train_indices.append(i)\n",
        "\n",
        "# Create the final training dataset using the filtered indices\n",
        "closed_set_train_dataset = Subset(source_concat_dataset_images, id_train_indices)\n",
        "closed_set_train_loader = DataLoader(closed_set_train_dataset, batch_size=64, shuffle=True, num_workers=2)\n",
        "\n",
        "print(f\"\\n✅ Created new image-based training loader with {len(closed_set_train_dataset)} samples from seen classes.\")\n",
        "\n",
        "# ============================================\n",
        "# 🚀 Training Loop for Closed-Set CoOp (Actual)\n",
        "# ============================================\n",
        "print(\"\\n🚀 Starting Closed-Set CoOp training...\")\n",
        "\n",
        "# 1. Instantiate a new model, passing only the SEEN_CLASSES\n",
        "closed_set_coop_model = CustomCLIPWithCoOp(SEEN_CLASSES, clip_model).to(device)\n",
        "\n",
        "# 2. Freeze CLIP parameters\n",
        "for name, param in closed_set_coop_model.named_parameters():\n",
        "    if \"ctx\" not in name:\n",
        "        param.requires_grad_(False)\n",
        "\n",
        "# 3. Optimizer and Loss\n",
        "optimizer_cs = optim.AdamW(closed_set_coop_model.prompt_learner.parameters(), lr=1e-2, weight_decay=1e-4)\n",
        "criterion_cs = nn.CrossEntropyLoss()\n",
        "lambda_entropy = 1.0\n",
        "num_epochs_cs = 10\n",
        "\n",
        "# 4. Set model to train\n",
        "closed_set_coop_model.train()\n",
        "\n",
        "for epoch in range(num_epochs_cs):\n",
        "    target_iter_cs = iter(target_loader)\n",
        "    running_sup_loss_cs = 0.0\n",
        "    running_unsup_loss_cs = 0.0\n",
        "\n",
        "    pbar_cs = tqdm(closed_set_train_loader, desc=f\"Epoch {epoch+1}/{num_epochs_cs}\")\n",
        "    for images_s, labels_s in pbar_cs:\n",
        "        # Handle label re-mapping for the loss function\n",
        "        remapped_labels = torch.tensor([label_map[l.item()] for l in labels_s], dtype=torch.long).to(device)\n",
        "\n",
        "        # Get target batch, cycling the iterator if needed\n",
        "        try:\n",
        "            images_t, _ = next(target_iter_cs)\n",
        "        except StopIteration:\n",
        "            target_iter_cs = iter(target_loader)\n",
        "            images_t, _ = next(target_iter_cs)\n",
        "\n",
        "        images_s, images_t = images_s.to(device), images_t.to(device)\n",
        "\n",
        "        optimizer_cs.zero_grad()\n",
        "\n",
        "        # --- Supervised Loss (Source - Seen Classes Only) ---\n",
        "        logits_s = closed_set_coop_model(images_s)\n",
        "        loss_sup = criterion_cs(logits_s, remapped_labels)\n",
        "\n",
        "        # --- Unsupervised Entropy Loss (Target) ---\n",
        "        logits_t = closed_set_coop_model(images_t)\n",
        "        probs_t = logits_t.softmax(dim=-1)\n",
        "        loss_unsup = (-(probs_t * torch.log(probs_t + 1e-9)).sum(dim=1)).mean()\n",
        "\n",
        "        # --- Total Loss and Backward Pass ---\n",
        "        total_loss = loss_sup + (lambda_entropy * loss_unsup)\n",
        "        total_loss.backward()\n",
        "\n",
        "        torch.nn.utils.clip_grad_norm_(closed_set_coop_model.prompt_learner.parameters(), 1.0)\n",
        "        optimizer_cs.step()\n",
        "\n",
        "        running_sup_loss_cs += loss_sup.item()\n",
        "        running_unsup_loss_cs += loss_unsup.item()\n",
        "        pbar_cs.set_postfix({\n",
        "            'sup_loss': f\"{loss_sup.item():.3f}\",\n",
        "            'unsup_loss': f\"{loss_unsup.item():.3f}\"\n",
        "        })\n",
        "\n",
        "    avg_sup_loss = running_sup_loss_cs / len(closed_set_train_loader)\n",
        "    avg_unsup_loss = running_unsup_loss_cs / len(closed_set_train_loader)\n",
        "    print(f\"Epoch {epoch+1}/{num_epochs_cs} | Avg Sup Loss: {avg_sup_loss:.4f} | Avg Unsup Loss: {avg_unsup_loss:.4f}\")\n",
        "\n",
        "print(\"\\n✅ Closed-Set CoOp training complete!\")"
      ]
    },
    {
      "cell_type": "markdown",
      "metadata": {},
      "source": [
        "### **4.3. Open-Set Evaluation & Analysis**\n",
        "\n",
        "Now for the main analysis. We will evaluate both models on a test set containing **all 7 classes** from all 4 domains. For each image, we will record:\n",
        "1.  Whether it's an In-Distribution (ID) or Out-of-Distribution (OOD) sample.\n",
        "2.  The model's confidence in its prediction, measured by the **Maximum Softmax Probability (MSP)**.\n",
        "\n",
        "A good open-set model should produce high MSP scores for ID samples and low MSP scores for OOD samples, allowing us to distinguish them with a simple confidence threshold."
      ]
    },
    {
      "cell_type": "code",
      "execution_count": 14,
      "metadata": {},
      "outputs": [
        {
          "name": "stderr",
          "output_type": "stream",
          "text": [
            "Evaluating Open-Set (Zero-Shot) : 100%|██████████| 79/79 [00:16<00:00,  4.90it/s]\n",
            "Evaluating Open-Set (CoOp) : 100%|██████████| 79/79 [00:16<00:00,  4.77it/s]"
          ]
        },
        {
          "name": "stdout",
          "output_type": "stream",
          "text": [
            "\n",
            "✅ Open-set evaluation complete.\n"
          ]
        },
        {
          "name": "stderr",
          "output_type": "stream",
          "text": [
            "\n"
          ]
        }
      ],
      "source": [
        "# ============================================\n",
        "# 🔬 Open-Set Evaluation Function\n",
        "# ============================================\n",
        "\n",
        "def evaluate_open_set(model, dataloader, id_class_indices, is_coop=False):\n",
        "    model.eval()\n",
        "    results = []\n",
        "    \n",
        "    # For Zero-Shot CLIP, we create text features for ALL classes\n",
        "    if not is_coop:\n",
        "        with torch.no_grad():\n",
        "            prompts = [f\"a photo of a {c}.\" for c in PACS_CLASSES_FULL]\n",
        "            text_inputs = clip.tokenize(prompts).to(device)\n",
        "            text_features = model.encode_text(text_inputs)\n",
        "            text_features /= text_features.norm(dim=-1, keepdim=True)\n",
        "    \n",
        "    with torch.no_grad():\n",
        "        for images, labels in tqdm(dataloader, desc=f\"Evaluating Open-Set ({'CoOp' if is_coop else 'Zero-Shot'}) \"):\n",
        "            images, labels = images.to(device), labels.to(device)\n",
        "            \n",
        "            if is_coop:\n",
        "                # CoOp model's forward pass gives logits for SEEN classes\n",
        "                logits = model(images)\n",
        "            else:\n",
        "                # Zero-Shot: calculate logits manually\n",
        "                image_features = model.encode_image(images.type(model.dtype))\n",
        "                image_features /= image_features.norm(dim=-1, keepdim=True)\n",
        "                logits = (100.0 * image_features @ text_features.T)\n",
        "            \n",
        "            msp, preds = logits.softmax(dim=-1).max(dim=-1)\n",
        "            \n",
        "            for i in range(len(labels)):\n",
        "                is_id = labels[i].item() in id_class_indices\n",
        "                results.append({\n",
        "                    'msp': msp[i].item(),\n",
        "                    'is_id': is_id\n",
        "                })\n",
        "                \n",
        "    return pd.DataFrame(results)\n",
        "\n",
        "# ============================================\n",
        "# 🚀 Run Evaluation\n",
        "# ============================================\n",
        "\n",
        "# Create a combined dataloader with all domains for testing\n",
        "full_test_dataset = ConcatDataset(datasets)\n",
        "full_test_loader = DataLoader(full_test_dataset, batch_size=128, shuffle=False, num_workers=2)\n",
        "\n",
        "# Evaluate Zero-Shot CLIP\n",
        "zero_shot_open_set_results = evaluate_open_set(clip_model, full_test_loader, seen_class_indices, is_coop=False)\n",
        "\n",
        "# Evaluate our Closed-Set CoOp model\n",
        "# Note: The CoOp model will only output logits for the 5 seen classes.\n",
        "coop_open_set_results = evaluate_open_set(closed_set_coop_model, full_test_loader, seen_class_indices, is_coop=True)\n",
        "\n",
        "print(\"\\n✅ Open-set evaluation complete.\")"
      ]
    },
    {
      "cell_type": "markdown",
      "metadata": {},
      "source": [
        "### **4.4. Analysis of MSP for OOD Detection**\n",
        "\n",
        "Finally, we visualize the distributions of the Maximum Softmax Probability (MSP) for both models. A clear separation between the ID and OOD distributions indicates better open-set detection capability. We also calculate the False Positive Rate at 95% True Positive Rate (FPR@95), a standard metric for OOD detection."
      ]
    },
    {
      "cell_type": "code",
      "execution_count": 20,
      "metadata": {},
      "outputs": [
        {
          "data": {
            "image/png": "[encoded data removed]",
            "text/plain": [
              "<Figure size 1800x700 with 2 Axes>"
            ]
          },
          "metadata": {},
          "output_type": "display_data"
        },
        {
          "name": "stdout",
          "output_type": "stream",
          "text": [
            "==================================================\n",
            "📊 Open-Set Detection Performance (Lower is better)\n",
            "==================================================\n",
            "Zero-Shot CLIP FPR@95: 96.27%\n",
            "Closed-Set CoOp FPR@95: 79.77%\n",
            "==================================================\n"
          ]
        }
      ],
      "source": [
        "# ============================================\n",
        "# 📊 Plot MSP Distributions (Corrected with Log Scale and Epsilon)\n",
        "# ============================================\n",
        "import numpy as np\n",
        "from sklearn.metrics import roc_curve\n",
        "\n",
        "# Create a new column for \"confidence deficit\" (1 - MSP)\n",
        "zero_shot_open_set_results['confidence_deficit'] = 1 - zero_shot_open_set_results['msp']\n",
        "coop_open_set_results['confidence_deficit'] = 1 - coop_open_set_results['msp']\n",
        "\n",
        "# Replace exact zeros with a small epsilon to prevent log(0) error\n",
        "epsilon = 1e-9\n",
        "# 👇 **FIX**: Reassign the column instead of using inplace=True\n",
        "zero_shot_open_set_results['confidence_deficit'] = zero_shot_open_set_results['confidence_deficit'].replace(0, epsilon)\n",
        "coop_open_set_results['confidence_deficit'] = coop_open_set_results['confidence_deficit'].replace(0, epsilon)\n",
        "\n",
        "\n",
        "fig, axes = plt.subplots(1, 2, figsize=(18, 7), sharey=True)\n",
        "\n",
        "# Plot for Zero-Shot CLIP\n",
        "sns.histplot(data=zero_shot_open_set_results, x='confidence_deficit', hue='is_id', kde=True, ax=axes[0],\n",
        "             stat='density', common_norm=False, log_scale=True)\n",
        "axes[0].set_title('Zero-Shot CLIP: Confidence Deficit Distribution', fontsize=16, fontweight='bold')\n",
        "axes[0].set_xlabel('Confidence Deficit (1 - MSP) [Log Scale]', fontsize=12)\n",
        "axes[0].set_ylabel('Density', fontsize=12)\n",
        "axes[0].legend(title='Sample Type', labels=['OOD (Unseen)', 'ID (Seen)'])\n",
        "axes[0].set_xlim(1e-5, 1) # Adjust x-limits for better visualization\n",
        "\n",
        "# Plot for Closed-Set CoOp\n",
        "sns.histplot(data=coop_open_set_results, x='confidence_deficit', hue='is_id', kde=True, ax=axes[1],\n",
        "             stat='density', common_norm=False, log_scale=True)\n",
        "axes[1].set_title('Closed-Set CoOp: MSP Distribution', fontsize=16, fontweight='bold')\n",
        "axes[1].set_xlabel('Confidence Deficit (1 - MSP) [Log Scale]', fontsize=12)\n",
        "axes[1].legend(title='Sample Type', labels=['OOD (Unseen)', 'ID (Seen)'])\n",
        "axes[1].set_xlim(1e-5, 1) # Adjust x-limits for better visualization\n",
        "\n",
        "fig.suptitle('Comparison of Confidence on Seen (ID) vs. Unseen (OOD) Classes', fontsize=20, fontweight='bold')\n",
        "plt.tight_layout(rect=[0, 0.03, 1, 0.95])\n",
        "plt.show()\n",
        "\n",
        "# ============================================\n",
        "# 📉 Calculate FPR @ 95% TPR\n",
        "# ============================================\n",
        "\n",
        "def calculate_fpr95(df):\n",
        "    y_true = df['is_id'].astype(int)\n",
        "    y_score = df['msp']\n",
        "    fpr, tpr, thresholds = roc_curve(y_true, y_score)\n",
        "    \n",
        "    # Find the FPR at the TPR closest to 0.95\n",
        "    idx = np.argmin(np.abs(tpr - 0.95))\n",
        "    fpr_at_tpr95 = fpr[idx]\n",
        "    return fpr_at_tpr95 * 100\n",
        "\n",
        "fpr_zero_shot = calculate_fpr95(zero_shot_open_set_results)\n",
        "fpr_coop = calculate_fpr95(coop_open_set_results)\n",
        "\n",
        "print(\"=\"*50)\n",
        "print(\"📊 Open-Set Detection Performance (Lower is better)\")\n",
        "print(\"=\"*50)\n",
        "print(f\"Zero-Shot CLIP FPR@95: {fpr_zero_shot:.2f}%\")\n",
        "print(f\"Closed-Set CoOp FPR@95: {fpr_coop:.2f}%\")\n",
        "print(\"=\"*50)"
      ]
    },
    {
      "cell_type": "markdown",
      "metadata": {},
      "source": [
        "### **4.5. Analysis of Learned Prompt Embeddings**\n",
        "\n",
        "Finally, we address the last part of the analysis by comparing the learned prompt vectors themselves. The assignment asks how similar the prompts are when adapted to different data distributions. We can investigate this by calculating the **cosine similarity** between the prompt vectors (`ctx`) from our original `coop_model` (trained on all 7 classes) and our new `closed_set_coop_model` (trained on only 5 classes).\n",
        "\n",
        "A low similarity would indicate that the prompt has become highly specialized to the closed-set classes, which would support our finding that its open-set performance has degraded."
      ]
    },
    {
      "cell_type": "code",
      "execution_count": 21,
      "metadata": {},
      "outputs": [
        {
          "name": "stdout",
          "output_type": "stream",
          "text": [
            "============================================================\n",
            "🔬 Cosine Similarity Between Prompt Vectors\n",
            "============================================================\n",
            "Original CoOp (7 classes) vs. Closed-Set CoOp (5 classes): 0.0825\n",
            "============================================================\n"
          ]
        }
      ],
      "source": [
        "# ============================================\n",
        "# 🧠 Comparing Prompt Embeddings\n",
        "# ============================================\n",
        "\n",
        "# Ensure both models are on the same device\n",
        "coop_model.to(device)\n",
        "closed_set_coop_model.to(device)\n",
        "\n",
        "# Get the learned context vectors (ctx) from both models\n",
        "prompt_full_set = coop_model.prompt_learner.ctx\n",
        "prompt_closed_set = closed_set_coop_model.prompt_learner.ctx\n",
        "\n",
        "# The prompts are of shape (n_ctx, ctx_dim). We flatten them into a single vector for comparison.\n",
        "prompt_full_set_flat = prompt_full_set.flatten()\n",
        "prompt_closed_set_flat = prompt_closed_set.flatten()\n",
        "\n",
        "# Calculate the cosine similarity\n",
        "with torch.no_grad():\n",
        "    similarity = F.cosine_similarity(prompt_full_set_flat, prompt_closed_set_flat, dim=0).item()\n",
        "\n",
        "print(\"=\"*60)\n",
        "print(\"🔬 Cosine Similarity Between Prompt Vectors\")\n",
        "print(\"=\"*60)\n",
        "print(f\"Original CoOp (7 classes) vs. Closed-Set CoOp (5 classes): {similarity:.4f}\")\n",
        "print(\"=\"*60)"
      ]
    }
  ],
  "metadata": {
    "kernelspec": {
      "display_name": "Python 3",
      "language": "python",
      "name": "python3"
    },
    "language_info": {
      "codemirror_mode": {
        "name": "ipython",
        "version": 3
      },
      "file_extension": ".py",
      "mimetype": "text/x-python",
      "name": "python",
      "nbconvert_exporter": "python",
      "pygments_lexer": "ipython3",
      "version": "3.12.8"
    }
  },
  "nbformat": 4,
  "nbformat_minor": 4
}
