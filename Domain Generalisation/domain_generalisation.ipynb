{
  "cells": [
    {
      "cell_type": "markdown",
      "id": "8d80a69e",
      "metadata": {},
      "source": [
        "# 📋 Task 2: Domain Generalization via Invariant & Robust Learning\n",
        "\n",
        "In this task, we explore Domain Generalization (DG), where a model is trained on multiple source domains and must generalize to a completely unseen target domain. We will implement and compare four methods: ERM, IRM, GroupDRO, and SAM.\n",
        "\n",
        "Our setup will use the **PACS dataset**. We will train on the **Art, Cartoon, and Photo** domains, holding out the **Sketch** domain as our unseen test environment, as suggested in the assignment manual."
      ]
    },
    {
      "cell_type": "markdown",
      "metadata": {},
      "source": [
        "---"
      ]
    },
    {
      "cell_type": "markdown",
      "metadata": {},
      "source": [
        "## **Part 1: Empirical Risk Minimization (ERM) Baseline**"
      ]
    },
    {
      "cell_type": "markdown",
      "metadata": {},
      "source": [
        "### **1.1. Overview**\n",
        "\n",
        "We begin by establishing a baseline using standard **Empirical Risk Minimization (ERM)**. This approach involves merging all data from the source domains into a single dataset and training a standard classifier on it. This model's performance on the unseen target domain will serve as the benchmark against which we will compare more advanced DG techniques."
      ]
    },
    {
      "cell_type": "markdown",
      "metadata": {},
      "source": [
        "### **1.2. Environment Setup**\n",
        "\n",
        "First, we need to set up the Python environment to ensure the notebook can find and import the DomainBed library from our `code/` directory."
      ]
    },
    {
      "cell_type": "code",
      "execution_count": 1,
      "id": "47abbee5",
      "metadata": {},
      "outputs": [
        {
          "name": "stdout",
          "output_type": "stream",
          "text": [
            "✅ Added '/root/IbsATML/PA2/Domain Generalisation/code/domainbed' to Python path.\n",
            "✅ Successfully imported DomainBed components.\n"
          ]
        },
        {
          "name": "stderr",
          "output_type": "stream",
          "text": [
            "/venv/main/lib/python3.12/site-packages/outdated/__init__.py:36: UserWarning: pkg_resources is deprecated as an API. See https://setuptools.pypa.io/en/latest/pkg_resources.html. The pkg_resources package is slated for removal as early as 2025-11-30. Refrain from using this package or pin to Setuptools<81.\n",
            "  from pkg_resources import parse_version\n"
          ]
        }
      ],
      "source": [
        "# ============================================\n",
        "# 📦 Imports and Environment Setup\n",
        "# ============================================\n",
        "\n",
        "import json\n",
        "import os\n",
        "import random\n",
        "import sys\n",
        "from pathlib import Path\n",
        "\n",
        "import matplotlib.pyplot as plt\n",
        "import numpy as np\n",
        "import pandas as pd\n",
        "import seaborn as sns\n",
        "import torch\n",
        "import torch.backends.cudnn as cudnn\n",
        "import torch.nn as nn\n",
        "import torch.nn.functional as F\n",
        "from torch.utils.data import DataLoader, random_split\n",
        "\n",
        "os.environ[\"TQDM_NOTEBOOK\"] = \"0\"\n",
        "from tqdm import tqdm\n",
        "\n",
        "# ============================================\n",
        "# 🧠 DomainBed Setup\n",
        "# ============================================\n",
        "\n",
        "# Add the DomainBed repo to the Python path\n",
        "module_path = os.path.abspath(os.path.join(\".\", \"code\", \"domainbed\"))\n",
        "if module_path not in sys.path:\n",
        "    sys.path.append(module_path)\n",
        "    print(f\"✅ Added '{module_path}' to Python path.\")\n",
        "\n",
        "# Try importing DomainBed components\n",
        "try:\n",
        "    from domainbed import algorithms, datasets, hparams_registry\n",
        "    from domainbed.scripts import train\n",
        "\n",
        "    print(\"✅ Successfully imported DomainBed components.\")\n",
        "except ImportError as e:\n",
        "    print(\n",
        "        \"❌ Error importing DomainBed. Make sure './code/domainbed' exists and is correct.\"\n",
        "    )\n",
        "    print(e)\n",
        "\n",
        "# ============================================\n",
        "# 🎨 Plotting Style\n",
        "# ============================================\n",
        "\n",
        "sns.set_theme(style=\"whitegrid\")"
      ]
    },
    {
      "cell_type": "markdown",
      "id": "709d8a1b",
      "metadata": {},
      "source": [
        "### **1.3. Experiment Runner Function**\n",
        "\n",
        "To keep our code clean, we'll define a helper function that can launch any DomainBed experiment by taking a dictionary of arguments. This function mimics passing arguments via the command line."
      ]
    },
    {
      "cell_type": "code",
      "execution_count": 2,
      "id": "065b0d33",
      "metadata": {},
      "outputs": [],
      "source": [
        "def run_experiment(args_dict):\n",
        "    \"\"\"\n",
        "    Builds a command-line command from a dictionary of arguments\n",
        "    and executes the DomainBed training script, setting the PYTHONPATH.\n",
        "    \"\"\"\n",
        "    # Define the path to the directory containing the 'domainbed' package\n",
        "    module_path = os.path.abspath(os.path.join('.', 'code', 'domainbed'))\n",
        "    \n",
        "    # Enclose the module_path in quotes to handle spaces in the directory name.\n",
        "    command = f'PYTHONPATH=\"{module_path}\" python -m domainbed.scripts.train'\n",
        "    \n",
        "    # Append each argument from the dictionary to the command string\n",
        "    for key, value in args_dict.items():\n",
        "        if isinstance(value, bool) and value:\n",
        "            command += f\" --{key}\"\n",
        "        elif not (isinstance(value, bool) and not value):\n",
        "            command += f\" --{key} {value}\"\n",
        "            \n",
        "    print(\"🚀 Executing Command:\")\n",
        "    print(command)\n",
        "    \n",
        "    # Execute the command in the shell\n",
        "    os.system(command)\n",
        "    \n",
        "    print(f\"\\n🎉 Training finished for {args_dict.get('algorithm', 'N/A')}.\")"
      ]
    },
    {
      "cell_type": "markdown",
      "id": "6cb25375",
      "metadata": {},
      "source": [
        "### **1.4. Run ERM Training**\n",
        "\n",
        "Now, we define the specific parameters for our ERM baseline experiment and launch the training."
      ]
    },
    {
      "cell_type": "code",
      "execution_count": 3,
      "id": "2ecdd7cb",
      "metadata": {},
      "outputs": [
        {
          "name": "stdout",
          "output_type": "stream",
          "text": [
            "🚀 Executing Command:\n",
            "PYTHONPATH=\"/root/IbsATML/PA2/Domain Generalisation/code/domainbed\" python -m domainbed.scripts.train --data_dir ./data/ --dataset PACS --algorithm ERM --test_env 3 --output_dir ./results/erm --hparams_seed 0 --trial_seed 0 --seed 0 --hparams '{\"progress_bar\": true}'\n"
          ]
        },
        {
          "name": "stderr",
          "output_type": "stream",
          "text": [
            "/venv/main/lib/python3.12/site-packages/outdated/__init__.py:36: UserWarning: pkg_resources is deprecated as an API. See https://setuptools.pypa.io/en/latest/pkg_resources.html. The pkg_resources package is slated for removal as early as 2025-11-30. Refrain from using this package or pin to Setuptools<81.\n",
            "  from pkg_resources import parse_version\n"
          ]
        },
        {
          "name": "stdout",
          "output_type": "stream",
          "text": [
            "Environment:\n",
            "\tPython: 3.12.11\n",
            "\tPyTorch: 2.8.0+cu129\n",
            "\tTorchvision: 0.23.0+cu129\n",
            "\tCUDA: 12.9\n",
            "\tCUDNN: 91002\n",
            "\tNumPy: 2.1.2\n",
            "\tPIL: 11.0.0\n",
            "Args:\n",
            "\talgorithm: ERM\n",
            "\tcheckpoint_freq: None\n",
            "\tdata_dir: ./data/\n",
            "\tdataset: PACS\n",
            "\tholdout_fraction: 0.2\n",
            "\thparams: {\"progress_bar\": true}\n",
            "\thparams_seed: 0\n",
            "\toutput_dir: ./results/erm\n",
            "\tsave_model_every_checkpoint: False\n",
            "\tseed: 0\n",
            "\tskip_model_save: False\n",
            "\tsteps: None\n",
            "\ttask: domain_generalization\n",
            "\ttest_envs: [3]\n",
            "\ttrial_seed: 0\n",
            "\tuda_holdout_fraction: 0\n",
            "HParams:\n",
            "\tbatch_size: 32\n",
            "\tclass_balanced: False\n",
            "\tdata_augmentation: True\n",
            "\tdinov2: False\n",
            "\tfreeze_bn: False\n",
            "\tlars: False\n",
            "\tlinear_steps: 500\n",
            "\tlr: 5e-05\n",
            "\tnonlinear_classifier: False\n",
            "\tprogress_bar: True\n",
            "\tresnet18: False\n",
            "\tresnet50_augmix: True\n",
            "\tresnet_dropout: 0.0\n",
            "\tvit: False\n",
            "\tvit_attn_tune: False\n",
            "\tvit_dropout: 0.0\n",
            "\tweight_decay: 0.0\n",
            "/venv/main/lib/python3.12/site-packages/torchvision/models/_utils.py:208: UserWarning: The parameter 'pretrained' is deprecated since 0.13 and may be removed in the future, please use 'weights' instead.\n",
            "  warnings.warn(\n",
            "/venv/main/lib/python3.12/site-packages/torchvision/models/_utils.py:223: UserWarning: Arguments other than a weight enum or `None` for 'weights' are deprecated since 0.13 and may be removed in the future. The current behavior is equivalent to passing `weights=ResNet50_Weights.IMAGENET1K_V1`. You can also use `weights=ResNet50_Weights.DEFAULT` to get the most up-to-date weights.\n",
            "  warnings.warn(msg)\n",
            "env0_in_acc   env0_out_acc  env1_in_acc   env1_out_acc  env2_in_acc   env2_out_acc  env3_in_acc   env3_out_acc  epoch         loss          mem_gb        step          step_time    \n",
            "0.1116534472  0.1173594132  0.1897654584  0.2179487179  0.2050898204  0.2095808383  0.0881043257  0.1070063694  0.0000000000  1.9803797007  7.9325380325  0             0.3124449253 \n",
            "0.9914582062  0.9633251834  0.9882729211  0.9636752137  0.9977544910  0.9880239521  0.7665394402  0.7847133758  7.1856287425  0.2129333733  8.1374368668  300           0.0895384630 \n",
            "0.9938987187  0.9633251834  0.9978678038  0.9594017094  0.9992514970  0.9730538922  0.7099236641  0.7184713376  14.371257485  0.0289216487  8.1374368668  600           0.0895338591 \n",
            "0.9957291031  0.9462102689  0.9930703625  0.9487179487  0.9992514970  0.9820359281  0.7722646310  0.7808917197  21.556886227  0.0178145896  8.1374368668  900           0.0898715599 \n",
            "0.9981696156  0.9535452323  0.9978678038  0.9764957265  1.0000000000  0.9850299401  0.7630407125  0.7770700637  28.742514970  0.0159850566  8.1374368668  1200          0.0901678109 \n",
            "0.9987797437  0.9511002445  0.9989339019  0.9551282051  1.0000000000  0.9850299401  0.7595419847  0.7923566879  35.928143712  0.0091424787  8.1374368668  1500          0.0901127362 \n",
            "0.9945088469  0.9266503667  0.9984008529  0.9700854701  1.0000000000  0.9760479042  0.7786259542  0.7821656051  43.113772455  0.0093627543  8.1374368668  1800          0.0904351219 \n",
            "0.9987797437  0.9535452323  0.9994669510  0.9615384615  1.0000000000  0.9880239521  0.8015267176  0.8216560510  50.299401197  0.0115494104  8.1374368668  2100          0.0904408042 \n",
            "0.9987797437  0.9364303178  0.9994669510  0.9786324786  1.0000000000  0.9820359281  0.7340966921  0.7477707006  57.485029940  0.0079947531  8.1374368668  2400          0.0905051263 \n",
            "0.9993898719  0.9511002445  0.9984008529  0.9594017094  0.9992514970  0.9730538922  0.7283715013  0.7579617834  64.670658682  0.0107372985  8.1374368668  2700          0.0905110041 \n",
            "0.9987797437  0.9339853301  1.0000000000  0.9679487179  0.9985029940  0.9640718563  0.7264631043  0.7414012739  71.856287425  0.0092497070  8.1374368668  3000          0.0906226627 \n",
            "0.9981696156  0.9559902200  1.0000000000  0.9508547009  1.0000000000  0.9730538922  0.7722646310  0.8114649682  79.041916167  0.0082652500  8.1374368668  3300          0.0906358886 \n",
            "1.0000000000  0.9633251834  1.0000000000  0.9529914530  1.0000000000  0.9730538922  0.7270992366  0.7617834395  86.227544910  0.0035999958  8.1374368668  3600          0.0906465093 \n",
            "0.9969493594  0.9511002445  0.9994669510  0.9658119658  1.0000000000  0.9700598802  0.6914758270  0.7248407643  93.413173652  0.0021751232  8.1374368668  3900          0.0906295188 \n",
            "0.9981696156  0.9608801956  0.9994669510  0.9743589744  1.0000000000  0.9700598802  0.7767175573  0.8076433121  100.59880239  0.0063570482  8.1374368668  4200          0.0907439248 \n",
            "0.9975594875  0.9559902200  1.0000000000  0.9487179487  1.0000000000  0.9790419162  0.7888040712  0.8114649682  107.78443113  0.0101484489  8.1374368668  4500          0.0906929525 \n",
            "0.9975594875  0.9339853301  0.9984008529  0.9636752137  1.0000000000  0.9790419162  0.7942111959  0.8165605096  114.97005988  0.0067233207  8.1374368668  4800          0.0906721568 \n",
            "0.9993898719  0.9486552567  0.9984008529  0.9722222222  1.0000000000  0.9790419162  0.7983460560  0.8382165605  119.76047904  0.0049766661  8.1374368668  5000          0.0908076632 \n",
            "\n",
            "🎉 Training finished for ERM.\n"
          ]
        }
      ],
      "source": [
        "# --- ERM Experiment Configuration ---\n",
        "\n",
        "# 1. Define hyperparameters in their own dictionary.\n",
        "hparams = {\n",
        "    'progress_bar': True\n",
        "}\n",
        "\n",
        "# 2. Configure the main experiment arguments.\n",
        "erm_args = {\n",
        "    'data_dir': './data/',\n",
        "    'dataset': 'PACS',\n",
        "    'algorithm': 'ERM',\n",
        "    'test_env': 3,  # The index for the 'Sketch' domain in PACS\n",
        "    'output_dir': './results/erm',\n",
        "    'hparams_seed': 0,\n",
        "    'trial_seed': 0,\n",
        "    'seed': 0,\n",
        "    'hparams': f\"'{json.dumps(hparams)}'\"\n",
        "}\n",
        "\n",
        "run_experiment(erm_args)"
      ]
    },
    {
      "cell_type": "markdown",
      "id": "dcae15a6",
      "metadata": {},
      "source": [
        "---\n",
        "\n",
        "## **Part 2: Invariant Risk Minimization (IRM)**"
      ]
    },
    {
      "cell_type": "markdown",
      "id": "1c138323",
      "metadata": {},
      "source": [
        "### **2.1. Overview**\n",
        "\n",
        "Now we move to **Invariant Risk Minimization (IRM)**, as required by Part 2 of the assignment. The core idea behind IRM is to learn a feature representation where the optimal classifier is the same across all training domains. This is intended to prevent the model from relying on spurious, domain-specific correlations, thereby improving generalization to unseen domains.\n",
        "\n",
        "We will first run IRM with its default hyperparameters from DomainBed and then perform an ablation study with a stronger penalty weight to analyze its stability and performance."
      ]
    },
    {
      "cell_type": "markdown",
      "id": "956719e1",
      "metadata": {},
      "source": [
        "### **2.2. Run IRM Training (Default Hyperparameters)**\n",
        "\n",
        "We start with the default IRM penalty `irm_lambda=25`."
      ]
    },
    {
      "cell_type": "code",
      "execution_count": 4,
      "id": "cf6903c3",
      "metadata": {},
      "outputs": [
        {
          "name": "stdout",
          "output_type": "stream",
          "text": [
            "🚀 Executing Command:\n",
            "PYTHONPATH=\"/root/IbsATML/PA2/Domain Generalisation/code/domainbed\" python -m domainbed.scripts.train --data_dir ./data/ --dataset PACS --algorithm IRM --test_env 3 --output_dir ./results/irm_default --hparams_seed 0 --trial_seed 0 --seed 0 --hparams '{\"progress_bar\": true, \"irm_lambda\": 10, \"irm_penalty_anneal_iters\": 500}'\n"
          ]
        },
        {
          "name": "stderr",
          "output_type": "stream",
          "text": [
            "/venv/main/lib/python3.12/site-packages/outdated/__init__.py:36: UserWarning: pkg_resources is deprecated as an API. See https://setuptools.pypa.io/en/latest/pkg_resources.html. The pkg_resources package is slated for removal as early as 2025-11-30. Refrain from using this package or pin to Setuptools<81.\n",
            "  from pkg_resources import parse_version\n"
          ]
        },
        {
          "name": "stdout",
          "output_type": "stream",
          "text": [
            "Environment:\n",
            "\tPython: 3.12.11\n",
            "\tPyTorch: 2.8.0+cu129\n",
            "\tTorchvision: 0.23.0+cu129\n",
            "\tCUDA: 12.9\n",
            "\tCUDNN: 91002\n",
            "\tNumPy: 2.1.2\n",
            "\tPIL: 11.0.0\n",
            "Args:\n",
            "\talgorithm: IRM\n",
            "\tcheckpoint_freq: None\n",
            "\tdata_dir: ./data/\n",
            "\tdataset: PACS\n",
            "\tholdout_fraction: 0.2\n",
            "\thparams: {\"progress_bar\": true, \"irm_lambda\": 10, \"irm_penalty_anneal_iters\": 500}\n",
            "\thparams_seed: 0\n",
            "\toutput_dir: ./results/irm_default\n",
            "\tsave_model_every_checkpoint: False\n",
            "\tseed: 0\n",
            "\tskip_model_save: False\n",
            "\tsteps: None\n",
            "\ttask: domain_generalization\n",
            "\ttest_envs: [3]\n",
            "\ttrial_seed: 0\n",
            "\tuda_holdout_fraction: 0\n",
            "HParams:\n",
            "\tbatch_size: 32\n",
            "\tclass_balanced: False\n",
            "\tdata_augmentation: True\n",
            "\tdinov2: False\n",
            "\tfreeze_bn: False\n",
            "\tirm_lambda: 10\n",
            "\tirm_penalty_anneal_iters: 500\n",
            "\tlars: False\n",
            "\tlinear_steps: 500\n",
            "\tlr: 5e-05\n",
            "\tnonlinear_classifier: False\n",
            "\tprogress_bar: True\n",
            "\tresnet18: False\n",
            "\tresnet50_augmix: True\n",
            "\tresnet_dropout: 0.0\n",
            "\tvit: False\n",
            "\tvit_attn_tune: False\n",
            "\tvit_dropout: 0.0\n",
            "\tweight_decay: 0.0\n",
            "/venv/main/lib/python3.12/site-packages/torchvision/models/_utils.py:208: UserWarning: The parameter 'pretrained' is deprecated since 0.13 and may be removed in the future, please use 'weights' instead.\n",
            "  warnings.warn(\n",
            "/venv/main/lib/python3.12/site-packages/torchvision/models/_utils.py:223: UserWarning: Arguments other than a weight enum or `None` for 'weights' are deprecated since 0.13 and may be removed in the future. The current behavior is equivalent to passing `weights=ResNet50_Weights.IMAGENET1K_V1`. You can also use `weights=ResNet50_Weights.DEFAULT` to get the most up-to-date weights.\n",
            "  warnings.warn(msg)\n",
            "env0_in_acc   env0_out_acc  env1_in_acc   env1_out_acc  env2_in_acc   env2_out_acc  env3_in_acc   env3_out_acc  epoch         loss          mem_gb        nll           penalty       step          step_time    \n",
            "0.1122635754  0.1173594132  0.1897654584  0.2179487179  0.2080838323  0.2095808383  0.0890585242  0.1070063694  0.0000000000  1.9823751450  7.9325442314  1.9803798199  0.0019953740  0             0.4021987915 \n",
            "0.9890176937  0.9633251834  0.9888059701  0.9572649573  0.9992514970  0.9910179641  0.7283715013  0.7464968153  7.1856287425  0.2715274501  8.1374363899  0.2500528763  0.0214745743  300           0.0937962492 \n",
            "0.9701037218  0.9437652812  0.9578891258  0.9102564103  0.9932634731  0.9640718563  0.7318702290  0.7464968153  14.371257485  0.0401038473  8.1390233040  0.0386401018  0.0005616713  600           0.0939696956 \n",
            "0.9286150092  0.8997555012  0.9008528785  0.8504273504  0.9797904192  0.9760479042  0.6075063613  0.5821656051  21.556886227  0.1802345057  8.1390233040  0.1470690926  0.0033165412  900           0.0942721955 \n",
            "0.9566809030  0.9242053790  0.9674840085  0.9423076923  0.9902694611  0.9491017964  0.7121501272  0.7375796178  28.742514970  0.1465720464  8.1390233040  0.1420254308  0.0004546616  1200          0.0949703447 \n",
            "0.9609517999  0.9144254279  0.9733475480  0.9444444444  0.9940119760  0.9610778443  0.8196564885  0.8458598726  35.928143712  0.1062808765  8.1390233040  0.0986764830  0.0007604393  1500          0.0966850845 \n",
            "0.9566809030  0.8997555012  0.9765458422  0.9508547009  0.9917664671  0.9520958084  0.7636768448  0.8012738854  43.113772455  0.1058595217  8.1390233040  0.1007039159  0.0005155607  1800          0.0969660576 \n",
            "0.9792556437  0.9388753056  0.9920042644  0.9572649573  0.9992514970  0.9820359281  0.7480916031  0.7834394904  50.299401197  0.0856069358  8.1390233040  0.0793715742  0.0006235362  2100          0.0950860826 \n",
            "0.9816961562  0.9413202934  0.9946695096  0.9679487179  1.0000000000  0.9760479042  0.7477735369  0.7910828025  57.485029940  0.0452593150  8.1390233040  0.0505383595  -0.000527904  2400          0.0959584427 \n",
            "0.9877974375  0.9413202934  0.9861407249  0.9465811966  0.9940119760  0.9580838323  0.7420483461  0.7503184713  64.670658682  0.0455831381  8.1390233040  0.0418087646  0.0003774373  2700          0.0947309645 \n",
            "0.9835265406  0.9315403423  0.9962686567  0.9594017094  0.9992514970  0.9730538922  0.6968829517  0.7184713376  71.856287425  0.0489669082  8.1390233040  0.0397253616  0.0009241546  3000          0.0948173285 \n",
            "0.9969493594  0.9559902200  0.9973347548  0.9636752137  0.9992514970  0.9790419162  0.7471374046  0.7694267516  79.041916167  0.0173994388  8.1390233040  0.0186725616  -0.000127312  3300          0.0949047605 \n",
            "0.9975594875  0.9486552567  0.9989339019  0.9700854701  0.9985029940  0.9700598802  0.7767175573  0.7821656051  86.227544910  0.0096170594  8.1390233040  0.0089483055  0.0000668754  3600          0.0947530278 \n",
            "0.9993898719  0.9535452323  0.9989339019  0.9679487179  1.0000000000  0.9820359281  0.7700381679  0.7834394904  93.413173652  0.0079873352  8.1390233040  0.0075690344  0.0000418301  3900          0.0947836431 \n",
            "0.9993898719  0.9559902200  1.0000000000  0.9722222222  1.0000000000  0.9730538922  0.7818066158  0.8089171975  100.59880239  0.0042191009  8.1390233040  0.0041554501  0.0000063651  4200          0.0951071040 \n",
            "1.0000000000  0.9511002445  0.9994669510  0.9615384615  1.0000000000  0.9850299401  0.7926208651  0.8063694268  107.78443113  0.0039181561  8.1390233040  0.0038980548  0.0000020101  4500          0.0948496342 \n",
            "1.0000000000  0.9657701711  0.9994669510  0.9658119658  1.0000000000  0.9850299401  0.7862595420  0.7885350318  114.97005988  0.0027809035  8.1390233040  0.0026566531  0.0000124250  4800          0.0962307946 \n",
            "0.9993898719  0.9608801956  0.9994669510  0.9700854701  1.0000000000  0.9730538922  0.7840330789  0.7885350318  119.76047904  0.0031472954  8.1390233040  0.0030488493  0.0000098446  5000          0.0960950184 \n",
            "\n",
            "🎉 Training finished for IRM.\n"
          ]
        }
      ],
      "source": [
        "# --- IRM Experiment Configuration (Default) ---\n",
        "\n",
        "# 1. Define hyperparameters for the default IRM run.\n",
        "hparams_irm_default = {\n",
        "    \"progress_bar\": True,\n",
        "    \"irm_lambda\": 10,  # Default penalty weight\n",
        "    \"irm_penalty_anneal_iters\": 500,  # Steps to anneal the penalty\n",
        "}\n",
        "\n",
        "# 2. Configure the main experiment arguments.\n",
        "irm_args_default = {\n",
        "    \"data_dir\": \"./data/\",\n",
        "    \"dataset\": \"PACS\",\n",
        "    \"algorithm\": \"IRM\",\n",
        "    \"test_env\": 3,  # Sketch domain\n",
        "    \"output_dir\": \"./results/irm_default\",\n",
        "    \"hparams_seed\": 0,\n",
        "    \"trial_seed\": 0,\n",
        "    \"seed\": 0,\n",
        "    \"hparams\": f\"'{json.dumps(hparams_irm_default)}'\",\n",
        "}\n",
        "\n",
        "run_experiment(irm_args_default)"
      ]
    },
    {
      "cell_type": "markdown",
      "id": "68df4754",
      "metadata": {},
      "source": [
        "### **2.3. Ablation Study: Run IRM with Stronger Penalty**\n",
        "\n",
        "We will now conduct a stability analysis by increasing the penalty weight to `irm_lambda=25`. This will help us understand how sensitive the IRM algorithm is to this hyperparameter."
      ]
    },
    {
      "cell_type": "code",
      "execution_count": 8,
      "id": "d73fd6b3",
      "metadata": {},
      "outputs": [
        {
          "name": "stdout",
          "output_type": "stream",
          "text": [
            "🚀 Executing Command:\n",
            "PYTHONPATH=\"/root/IbsATML/PA2/Domain Generalisation/code/domainbed\" python -m domainbed.scripts.train --data_dir ./data/ --dataset PACS --algorithm IRM --test_env 3 --output_dir ./results/irm_stronger_penalty --hparams_seed 0 --trial_seed 0 --seed 0 --hparams '{\"progress_bar\": true, \"irm_lambda\": 25, \"irm_penalty_anneal_iters\": 500}'\n"
          ]
        },
        {
          "name": "stderr",
          "output_type": "stream",
          "text": [
            "/venv/main/lib/python3.12/site-packages/outdated/__init__.py:36: UserWarning: pkg_resources is deprecated as an API. See https://setuptools.pypa.io/en/latest/pkg_resources.html. The pkg_resources package is slated for removal as early as 2025-11-30. Refrain from using this package or pin to Setuptools<81.\n",
            "  from pkg_resources import parse_version\n"
          ]
        },
        {
          "name": "stdout",
          "output_type": "stream",
          "text": [
            "Environment:\n",
            "\tPython: 3.12.11\n",
            "\tPyTorch: 2.8.0+cu129\n",
            "\tTorchvision: 0.23.0+cu129\n",
            "\tCUDA: 12.9\n",
            "\tCUDNN: 91002\n",
            "\tNumPy: 2.1.2\n",
            "\tPIL: 11.0.0\n",
            "Args:\n",
            "\talgorithm: IRM\n",
            "\tcheckpoint_freq: None\n",
            "\tdata_dir: ./data/\n",
            "\tdataset: PACS\n",
            "\tholdout_fraction: 0.2\n",
            "\thparams: {\"progress_bar\": true, \"irm_lambda\": 25, \"irm_penalty_anneal_iters\": 500}\n",
            "\thparams_seed: 0\n",
            "\toutput_dir: ./results/irm_stronger_penalty\n",
            "\tsave_model_every_checkpoint: False\n",
            "\tseed: 0\n",
            "\tskip_model_save: False\n",
            "\tsteps: None\n",
            "\ttask: domain_generalization\n",
            "\ttest_envs: [3]\n",
            "\ttrial_seed: 0\n",
            "\tuda_holdout_fraction: 0\n",
            "HParams:\n",
            "\tbatch_size: 32\n",
            "\tclass_balanced: False\n",
            "\tdata_augmentation: True\n",
            "\tdinov2: False\n",
            "\tfreeze_bn: False\n",
            "\tirm_lambda: 25\n",
            "\tirm_penalty_anneal_iters: 500\n",
            "\tlars: False\n",
            "\tlinear_steps: 500\n",
            "\tlr: 5e-05\n",
            "\tnonlinear_classifier: False\n",
            "\tprogress_bar: True\n",
            "\tresnet18: False\n",
            "\tresnet50_augmix: True\n",
            "\tresnet_dropout: 0.0\n",
            "\tvit: False\n",
            "\tvit_attn_tune: False\n",
            "\tvit_dropout: 0.0\n",
            "\tweight_decay: 0.0\n",
            "/venv/main/lib/python3.12/site-packages/torchvision/models/_utils.py:208: UserWarning: The parameter 'pretrained' is deprecated since 0.13 and may be removed in the future, please use 'weights' instead.\n",
            "  warnings.warn(\n",
            "/venv/main/lib/python3.12/site-packages/torchvision/models/_utils.py:223: UserWarning: Arguments other than a weight enum or `None` for 'weights' are deprecated since 0.13 and may be removed in the future. The current behavior is equivalent to passing `weights=ResNet50_Weights.IMAGENET1K_V1`. You can also use `weights=ResNet50_Weights.DEFAULT` to get the most up-to-date weights.\n",
            "  warnings.warn(msg)\n",
            "env0_in_acc   env0_out_acc  env1_in_acc   env1_out_acc  env2_in_acc   env2_out_acc  env3_in_acc   env3_out_acc  epoch         loss          mem_gb        nll           penalty       step          step_time    \n",
            "0.1122635754  0.1173594132  0.1897654584  0.2179487179  0.2080838323  0.2095808383  0.0890585242  0.1070063694  0.0000000000  1.9823751450  7.9325442314  1.9803798199  0.0019953740  0             0.3787271976 \n",
            "0.9890176937  0.9633251834  0.9888059701  0.9572649573  0.9992514970  0.9910179641  0.7283715013  0.7464968153  7.1856287425  0.2715274501  8.1374363899  0.2500528763  0.0214745743  300           0.0942762645 \n",
            "0.9640024405  0.9144254279  0.9493603412  0.9059829060  0.9865269461  0.9610778443  0.6758905852  0.6904458599  14.371257485  0.1064490070  8.1390233040  0.0646506229  0.0021149186  600           0.0948233732 \n",
            "0.7602196461  0.7188264059  0.6476545842  0.6025641026  0.8136227545  0.7514970060  0.4624681934  0.4878980892  21.556886227  -2.136413150  8.1390233040  1.3651420475  -0.140062212  900           0.0941781878 \n",
            "0.6558877364  0.6332518337  0.7579957356  0.7564102564  0.7642215569  0.7604790419  0.2108778626  0.2229299363  28.742514970  -8.894750553  8.1390233040  2.1037873693  -0.439941516  1200          0.0946659835 \n",
            "0.5546064674  0.5476772616  0.7457356077  0.7094017094  0.8248502994  0.7904191617  0.3797709924  0.3898089172  35.928143712  -2.978647657  8.1390233040  1.8122240104  -0.191634869  1500          0.0949207187 \n",
            "0.5997559487  0.6552567237  0.7601279318  0.7606837607  0.7791916168  0.7485029940  0.2888040712  0.3171974522  43.113772455  -2.682592541  8.1390233040  1.8046597634  -0.179490092  1800          0.0950329510 \n",
            "0.7156802929  0.7261613692  0.8107675906  0.7948717949  0.8143712575  0.7934131737  0.4036259542  0.4216560510  50.299401197  -5.215950786  8.1390233040  1.8884030006  -0.284174150  2100          0.0946216289 \n",
            "0.6809029896  0.6503667482  0.6295309168  0.6217948718  0.7724550898  0.7544910180  0.5054071247  0.5324840764  57.485029940  -3.269423261  8.1390233040  1.7315724899  -0.200039825  2400          0.0950843183 \n",
            "0.7248322148  0.7017114914  0.5719616205  0.5769230769  0.8360778443  0.7844311377  0.3963104326  0.4127388535  64.670658682  -8.316758580  8.1390233040  2.0203459839  -0.413484186  2700          0.0946835224 \n",
            "0.6931055522  0.6772616137  0.7563965885  0.7371794872  0.7911676647  0.7215568862  0.0814249364  0.0866242038  71.856287425  -8.551333123  8.1390233040  2.1629035880  -0.428569471  3000          0.0947828515 \n",
            "0.6113483832  0.6234718826  0.7062899787  0.6581196581  0.7133233533  0.6706586826  0.2181933842  0.2471337580  79.041916167  -2.360757904  8.1390233040  2.0249965721  -0.175430179  3300          0.0957196800 \n",
            "0.5649786455  0.5770171149  0.9019189765  0.8589743590  0.6856287425  0.6377245509  0.3730916031  0.3681528662  86.227544910  -7.900714660  8.1390233040  2.0224661835  -0.396927229  3600          0.0950641775 \n",
            "0.6284319707  0.6234718826  0.7547974414  0.7478632479  0.7791916168  0.7514970060  0.3594147583  0.3363057325  93.413173652  -8.267014676  8.1390233040  2.2515900618  -0.420744191  3900          0.0951718283 \n",
            "0.6717510677  0.6552567237  0.7052238806  0.7008547009  0.7896706587  0.7514970060  0.3571882952  0.3541401274  100.59880239  -13.29931690  8.1390233040  2.4695181207  -0.630753397  4200          0.0950873399 \n",
            "0.7169005491  0.6577017115  0.5026652452  0.4615384615  0.8555389222  0.7694610778  0.2350508906  0.2585987261  107.78443113  -20.43074037  8.1390233040  2.6539698178  -0.923388410  4500          0.0961059435 \n",
            "0.7303233679  0.7041564792  0.6609808102  0.6495726496  0.8884730539  0.8173652695  0.3311068702  0.3464968153  114.97005988  -19.82959846  8.1390233040  2.5842687408  -0.896554688  4800          0.0958772381 \n",
            "0.5698596705  0.5574572127  0.5021321962  0.4957264957  0.7252994012  0.6766467066  0.1962468193  0.1961783439  119.76047904  -12.43237737  8.1390233040  2.6434470254  -0.603032976  5000          0.0954343176 \n",
            "\n",
            "🎉 Training finished for IRM.\n"
          ]
        }
      ],
      "source": [
        "# --- IRM Experiment Configuration (Stronger Penalty) ---\n",
        "\n",
        "# 1. Define hyperparameters with the increased penalty.\n",
        "hparams_irm_stronger = {\n",
        "    \"progress_bar\": True,\n",
        "    \"irm_lambda\": 25,\n",
        "    \"irm_penalty_anneal_iters\": 500,\n",
        "}\n",
        "\n",
        "# 2. Configure the main experiment arguments.\n",
        "irm_args_stronger = {\n",
        "    \"data_dir\": \"./data/\",\n",
        "    \"dataset\": \"PACS\",\n",
        "    \"algorithm\": \"IRM\",\n",
        "    \"test_env\": 3,  # Sketch domain\n",
        "    \"output_dir\": \"./results/irm_stronger_penalty\",\n",
        "    \"hparams_seed\": 0,\n",
        "    \"trial_seed\": 0,\n",
        "    \"seed\": 0,\n",
        "    \"hparams\": f\"'{json.dumps(hparams_irm_stronger)}'\",\n",
        "}\n",
        "\n",
        "run_experiment(irm_args_stronger)"
      ]
    },
    {
      "cell_type": "markdown",
      "id": "b3788731",
      "metadata": {},
      "source": [
        "### **2.4. Ablation Study: Run IRM with Even Stronger Penalty**\n",
        "\n",
        "To complete our hyperparameter sensitivity analysis, we now test IRM with an even stronger penalty (`irm_lambda=100`), which is 10x stronger than the default. This creates a symmetric ablation study spanning three orders of magnitude: λ=10 (default), λ=25 (stronger), and λ=100 (strongest)."
      ]
    },
    {
      "cell_type": "code",
      "execution_count": 9,
      "id": "dcc4e64a",
      "metadata": {},
      "outputs": [
        {
          "name": "stdout",
          "output_type": "stream",
          "text": [
            "🚀 Executing Command:\n",
            "PYTHONPATH=\"/root/IbsATML/PA2/Domain Generalisation/code/domainbed\" python -m domainbed.scripts.train --data_dir ./data/ --dataset PACS --algorithm IRM --test_env 3 --output_dir ./results/irm_even_stronger_penalty --hparams_seed 0 --trial_seed 0 --seed 0 --hparams '{\"progress_bar\": true, \"irm_lambda\": 100, \"irm_penalty_anneal_iters\": 500}'\n"
          ]
        },
        {
          "name": "stderr",
          "output_type": "stream",
          "text": [
            "/venv/main/lib/python3.12/site-packages/outdated/__init__.py:36: UserWarning: pkg_resources is deprecated as an API. See https://setuptools.pypa.io/en/latest/pkg_resources.html. The pkg_resources package is slated for removal as early as 2025-11-30. Refrain from using this package or pin to Setuptools<81.\n",
            "  from pkg_resources import parse_version\n"
          ]
        },
        {
          "name": "stdout",
          "output_type": "stream",
          "text": [
            "Environment:\n",
            "\tPython: 3.12.11\n",
            "\tPyTorch: 2.8.0+cu129\n",
            "\tTorchvision: 0.23.0+cu129\n",
            "\tCUDA: 12.9\n",
            "\tCUDNN: 91002\n",
            "\tNumPy: 2.1.2\n",
            "\tPIL: 11.0.0\n",
            "Args:\n",
            "\talgorithm: IRM\n",
            "\tcheckpoint_freq: None\n",
            "\tdata_dir: ./data/\n",
            "\tdataset: PACS\n",
            "\tholdout_fraction: 0.2\n",
            "\thparams: {\"progress_bar\": true, \"irm_lambda\": 100, \"irm_penalty_anneal_iters\": 500}\n",
            "\thparams_seed: 0\n",
            "\toutput_dir: ./results/irm_even_stronger_penalty\n",
            "\tsave_model_every_checkpoint: False\n",
            "\tseed: 0\n",
            "\tskip_model_save: False\n",
            "\tsteps: None\n",
            "\ttask: domain_generalization\n",
            "\ttest_envs: [3]\n",
            "\ttrial_seed: 0\n",
            "\tuda_holdout_fraction: 0\n",
            "HParams:\n",
            "\tbatch_size: 32\n",
            "\tclass_balanced: False\n",
            "\tdata_augmentation: True\n",
            "\tdinov2: False\n",
            "\tfreeze_bn: False\n",
            "\tirm_lambda: 100\n",
            "\tirm_penalty_anneal_iters: 500\n",
            "\tlars: False\n",
            "\tlinear_steps: 500\n",
            "\tlr: 5e-05\n",
            "\tnonlinear_classifier: False\n",
            "\tprogress_bar: True\n",
            "\tresnet18: False\n",
            "\tresnet50_augmix: True\n",
            "\tresnet_dropout: 0.0\n",
            "\tvit: False\n",
            "\tvit_attn_tune: False\n",
            "\tvit_dropout: 0.0\n",
            "\tweight_decay: 0.0\n",
            "/venv/main/lib/python3.12/site-packages/torchvision/models/_utils.py:208: UserWarning: The parameter 'pretrained' is deprecated since 0.13 and may be removed in the future, please use 'weights' instead.\n",
            "  warnings.warn(\n",
            "/venv/main/lib/python3.12/site-packages/torchvision/models/_utils.py:223: UserWarning: Arguments other than a weight enum or `None` for 'weights' are deprecated since 0.13 and may be removed in the future. The current behavior is equivalent to passing `weights=ResNet50_Weights.IMAGENET1K_V1`. You can also use `weights=ResNet50_Weights.DEFAULT` to get the most up-to-date weights.\n",
            "  warnings.warn(msg)\n",
            "env0_in_acc   env0_out_acc  env1_in_acc   env1_out_acc  env2_in_acc   env2_out_acc  env3_in_acc   env3_out_acc  epoch         loss          mem_gb        nll           penalty       step          step_time    \n",
            "0.1122635754  0.1173594132  0.1897654584  0.2179487179  0.2080838323  0.2095808383  0.0890585242  0.1070063694  0.0000000000  1.9823751450  7.9325442314  1.9803798199  0.0019953740  0             0.3787326813 \n",
            "0.9890176937  0.9633251834  0.9888059701  0.9572649573  0.9992514970  0.9910179641  0.7283715013  0.7464968153  7.1856287425  0.2715274501  8.1374363899  0.2500528763  0.0214745743  300           0.0939589421 \n",
            "0.8364856620  0.8019559902  0.7995735608  0.7606837607  0.9371257485  0.9041916168  0.6103689567  0.6012738854  14.371257485  0.4529195653  8.1390233040  0.0822901678  0.0041631206  600           0.0935022147 \n",
            "0.7211714460  0.7261613692  0.7910447761  0.7884615385  0.7986526946  0.7305389222  0.6332697201  0.6433121019  21.556886227  -13.96678027  8.1390233040  1.4180853146  -0.153848656  900           0.0937528062 \n",
            "0.5216595485  0.5501222494  0.8363539446  0.8012820513  0.4738023952  0.5000000000  0.4875954198  0.4522292994  28.742514970  -56.68304686  8.1390233040  2.2477394044  -0.589307869  1200          0.0941129788 \n",
            "0.5454545455  0.5745721271  0.8256929638  0.8183760684  0.7507485030  0.7155688623  0.2569974555  0.2407643312  35.928143712  -59.33020267  8.1390233040  2.3291109520  -0.616593136  1500          0.0940634211 \n",
            "0.4612568639  0.5061124694  0.8448827292  0.8055555556  0.5179640719  0.5179640719  0.2544529262  0.2343949045  43.113772455  -36.47712758  8.1390233040  2.0347538857  -0.385118812  1800          0.0941653093 \n",
            "0.4972544234  0.5476772616  0.6961620469  0.6346153846  0.5449101796  0.5419161677  0.4688295165  0.4687898089  50.299401197  -28.88329039  8.1390233040  1.9190698512  -0.308023600  2100          0.0943105396 \n",
            "0.3978035387  0.4547677262  0.5991471215  0.5470085470  0.6002994012  0.5568862275  0.3428753181  0.3668789809  57.485029940  -14.41773042  8.1390233040  2.0186487929  -0.164363799  2400          0.0943830434 \n",
            "0.7126296522  0.7041564792  0.7622601279  0.7136752137  0.8570359281  0.7964071856  0.3823155216  0.3643312102  64.670658682  -44.18030029  8.1390233040  2.2926832441  -0.464729836  2700          0.0944006387 \n",
            "0.7071384991  0.7555012225  0.8379530917  0.8183760684  0.8555389222  0.8143712575  0.5314885496  0.5426751592  71.856287425  -49.65922636  8.1390233040  2.1198617830  -0.517790884  3000          0.0950939782 \n",
            "0.6388041489  0.6650366748  0.8267590618  0.7756410256  0.8278443114  0.7694610778  0.5372137405  0.5554140127  79.041916167  -74.29339531  8.1390233040  2.5307419417  -0.768241375  3300          0.0940923921 \n",
            "0.7547284930  0.7506112469  0.8678038380  0.8205128205  0.8488023952  0.8083832335  0.6491730280  0.6649681529  86.227544910  -95.51503682  8.1390233040  2.7619042653  -0.982769420  3600          0.0951833447 \n",
            "0.7504575961  0.7603911980  0.8336886994  0.8076923077  0.8697604790  0.8173652695  0.5524809160  0.5668789809  93.413173652  -70.30653072  8.1390233040  2.6472421871  -0.729537752  3900          0.0948662798 \n",
            "0.7022574741  0.7090464548  0.8267590618  0.7905982906  0.7252994012  0.6856287425  0.4131679389  0.4038216561  100.59880239  -50.12600257  8.1390233040  2.3383591020  -0.524643614  4200          0.0947494388 \n",
            "0.6119585113  0.6039119804  0.7777185501  0.7542735043  0.6953592814  0.6766467066  0.3721374046  0.3745222930  107.78443113  -35.00198434  8.1390233040  2.0799121298  -0.370818964  4500          0.0948469392 \n",
            "0.6308724832  0.6405867971  0.6050106610  0.5769230769  0.7275449102  0.6586826347  0.2057888041  0.2178343949  114.97005988  -2.207576399  8.1390233040  1.8208311947  -0.040284076  4800          0.0947040319 \n",
            "0.5704697987  0.5819070905  0.5831556503  0.5555555556  0.7694610778  0.7005988024  0.3183842239  0.3426751592  119.76047904  -49.89124073  8.1390233040  2.3570684242  -0.522483093  5000          0.0957515073 \n",
            "\n",
            "🎉 Training finished for IRM.\n"
          ]
        }
      ],
      "source": [
        "# --- IRM Experiment Configuration (Even Stronger Penalty) ---\n",
        "\n",
        "# 1. Define hyperparameters with an even more increased penalty.\n",
        "hparams_irm_even_stronger = {\n",
        "    \"progress_bar\": True,\n",
        "    \"irm_lambda\": 100,  # 10x stronger penalty\n",
        "    \"irm_penalty_anneal_iters\": 500,\n",
        "}\n",
        "\n",
        "# 2. Configure the main experiment arguments.\n",
        "irm_args_even_stronger = {\n",
        "    \"data_dir\": \"./data/\",\n",
        "    \"dataset\": \"PACS\",\n",
        "    \"algorithm\": \"IRM\",\n",
        "    \"test_env\": 3,  # Sketch domain\n",
        "    \"output_dir\": \"./results/irm_even_stronger_penalty\",\n",
        "    \"hparams_seed\": 0,\n",
        "    \"trial_seed\": 0,\n",
        "    \"seed\": 0,\n",
        "    \"hparams\": f\"'{json.dumps(hparams_irm_even_stronger)}'\",\n",
        "}\n",
        "\n",
        "run_experiment(irm_args_even_stronger)"
      ]
    },
    {
      "cell_type": "markdown",
      "id": "985dcd8f",
      "metadata": {},
      "source": [
        "---\n",
        "\n",
        "## **Part 3: Group Distributionally Robust Optimization (GroupDRO)**"
      ]
    },
    {
      "cell_type": "markdown",
      "id": "68cd5267",
      "metadata": {},
      "source": [
        "### **3.1. Overview**\n",
        "\n",
        "Next, we implement **Group Distributionally Robust Optimization (GroupDRO)**. Instead of averaging the loss over all source domains like ERM, GroupDRO explicitly optimizes for the worst-case performance among them. At each step, it identifies the domain with the highest loss and updates the model to prioritize improving performance on this \"hardest\" domain. \n",
        "\n",
        "The goal is to prevent the model from simply overfitting to easier domains, thereby encouraging it to learn more robust features that can generalize better to unseen environments."
      ]
    },
    {
      "cell_type": "markdown",
      "id": "1b3e02e9",
      "metadata": {},
      "source": [
        "### **3.2. Training GroupDRO**\n",
        "\n",
        "We will now train our model using the GroupDRO algorithm. The DomainBed library already includes this implementation. We only need to specify `GroupDRO` as the algorithm and set its associated hyperparameters. Based on the original paper and DomainBed's defaults, we will use a `groupdro_eta` of `1e-2`."
      ]
    },
    {
      "cell_type": "code",
      "execution_count": 10,
      "id": "59a3130e",
      "metadata": {},
      "outputs": [
        {
          "name": "stdout",
          "output_type": "stream",
          "text": [
            "Starting GroupDRO training...\n",
            "🚀 Executing Command:\n",
            "PYTHONPATH=\"/root/IbsATML/PA2/Domain Generalisation/code/domainbed\" python -m domainbed.scripts.train --data_dir ./data/ --dataset PACS --algorithm GroupDRO --test_env 3 --output_dir ./results/groupdro --hparams_seed 0 --trial_seed 0 --seed 0 --hparams '{\"progress_bar\": true, \"groupdro_eta\": 0.01}'\n"
          ]
        },
        {
          "name": "stderr",
          "output_type": "stream",
          "text": [
            "/venv/main/lib/python3.12/site-packages/outdated/__init__.py:36: UserWarning: pkg_resources is deprecated as an API. See https://setuptools.pypa.io/en/latest/pkg_resources.html. The pkg_resources package is slated for removal as early as 2025-11-30. Refrain from using this package or pin to Setuptools<81.\n",
            "  from pkg_resources import parse_version\n"
          ]
        },
        {
          "name": "stdout",
          "output_type": "stream",
          "text": [
            "Environment:\n",
            "\tPython: 3.12.11\n",
            "\tPyTorch: 2.8.0+cu129\n",
            "\tTorchvision: 0.23.0+cu129\n",
            "\tCUDA: 12.9\n",
            "\tCUDNN: 91002\n",
            "\tNumPy: 2.1.2\n",
            "\tPIL: 11.0.0\n",
            "Args:\n",
            "\talgorithm: GroupDRO\n",
            "\tcheckpoint_freq: None\n",
            "\tdata_dir: ./data/\n",
            "\tdataset: PACS\n",
            "\tholdout_fraction: 0.2\n",
            "\thparams: {\"progress_bar\": true, \"groupdro_eta\": 0.01}\n",
            "\thparams_seed: 0\n",
            "\toutput_dir: ./results/groupdro\n",
            "\tsave_model_every_checkpoint: False\n",
            "\tseed: 0\n",
            "\tskip_model_save: False\n",
            "\tsteps: None\n",
            "\ttask: domain_generalization\n",
            "\ttest_envs: [3]\n",
            "\ttrial_seed: 0\n",
            "\tuda_holdout_fraction: 0\n",
            "HParams:\n",
            "\tbatch_size: 32\n",
            "\tclass_balanced: False\n",
            "\tdata_augmentation: True\n",
            "\tdinov2: False\n",
            "\tfreeze_bn: False\n",
            "\tgroupdro_eta: 0.01\n",
            "\tlars: False\n",
            "\tlinear_steps: 500\n",
            "\tlr: 5e-05\n",
            "\tnonlinear_classifier: False\n",
            "\tprogress_bar: True\n",
            "\tresnet18: False\n",
            "\tresnet50_augmix: True\n",
            "\tresnet_dropout: 0.0\n",
            "\tvit: False\n",
            "\tvit_attn_tune: False\n",
            "\tvit_dropout: 0.0\n",
            "\tweight_decay: 0.0\n",
            "/venv/main/lib/python3.12/site-packages/torchvision/models/_utils.py:208: UserWarning: The parameter 'pretrained' is deprecated since 0.13 and may be removed in the future, please use 'weights' instead.\n",
            "  warnings.warn(\n",
            "/venv/main/lib/python3.12/site-packages/torchvision/models/_utils.py:223: UserWarning: Arguments other than a weight enum or `None` for 'weights' are deprecated since 0.13 and may be removed in the future. The current behavior is equivalent to passing `weights=ResNet50_Weights.IMAGENET1K_V1`. You can also use `weights=ResNet50_Weights.DEFAULT` to get the most up-to-date weights.\n",
            "  warnings.warn(msg)\n",
            "env0_in_acc   env0_out_acc  env1_in_acc   env1_out_acc  env2_in_acc   env2_out_acc  env3_in_acc   env3_out_acc  epoch         loss          mem_gb        step          step_time    \n",
            "0.1183648566  0.1173594132  0.1849680171  0.2094017094  0.2088323353  0.2155688623  0.0798346056  0.0955414013  0.0000000000  1.9893321991  7.8673920631  0             0.3442735672 \n",
            "0.9780353874  0.9242053790  0.9728144989  0.9358974359  0.9977544910  0.9670658683  0.7442748092  0.7796178344  7.1856287425  0.2629900401  8.1327152252  300           0.0806280231 \n",
            "0.9920683344  0.9462102689  0.9722814499  0.9358974359  1.0000000000  0.9730538922  0.7604961832  0.7808917197  14.371257485  0.0433855407  8.1327152252  600           0.0806753484 \n",
            "0.9957291031  0.9486552567  0.9898720682  0.9444444444  0.9985029940  0.9670658683  0.8047073791  0.8229299363  21.556886227  0.0262665589  8.1327152252  900           0.0812956786 \n",
            "0.9957291031  0.9315403423  0.9957356077  0.9594017094  0.9992514970  0.9790419162  0.7560432570  0.7821656051  28.742514970  0.0195380715  8.1327152252  1200          0.0807689222 \n",
            "0.9938987187  0.9315403423  0.9893390192  0.9401709402  0.9977544910  0.9670658683  0.7779898219  0.8076433121  35.928143712  0.0203703395  8.1327152252  1500          0.0809935284 \n",
            "0.9951189750  0.9462102689  0.9941364606  0.9529914530  1.0000000000  0.9730538922  0.8031170483  0.8000000000  43.113772455  0.0161626841  8.1327152252  1800          0.0811230214 \n",
            "0.9945088469  0.9364303178  0.9957356077  0.9423076923  0.9985029940  0.9760479042  0.7773536896  0.7898089172  50.299401197  0.0123663371  8.1327152252  2100          0.0814010628 \n",
            "0.9975594875  0.9364303178  0.9978678038  0.9529914530  0.9992514970  0.9760479042  0.7433206107  0.7630573248  57.485029940  0.0111052407  8.1327152252  2400          0.0813945349 \n",
            "0.9969493594  0.9462102689  0.9930703625  0.9358974359  0.9992514970  0.9820359281  0.7903944020  0.8127388535  64.670658682  0.0119647305  8.1327152252  2700          0.0821367137 \n",
            "0.9963392312  0.9559902200  0.9984008529  0.9465811966  0.9992514970  0.9640718563  0.8053435115  0.8140127389  71.856287425  0.0091027992  8.1327152252  3000          0.0818065055 \n",
            "0.9993898719  0.9413202934  0.9968017058  0.9465811966  1.0000000000  0.9760479042  0.8082061069  0.8191082803  79.041916167  0.0122674725  8.1327152252  3300          0.0817844828 \n",
            "0.9975594875  0.9193154034  0.9973347548  0.9487179487  1.0000000000  0.9640718563  0.7827608142  0.8038216561  86.227544910  0.0058753829  8.1327152252  3600          0.0821291566 \n",
            "0.9957291031  0.9095354523  0.9909381663  0.9658119658  0.9985029940  0.9700598802  0.8005725191  0.8369426752  93.413173652  0.0075361112  8.1327152252  3900          0.0824073116 \n",
            "0.9969493594  0.9437652812  0.9989339019  0.9444444444  0.9977544910  0.9700598802  0.8142493639  0.8407643312  100.59880239  0.0092673628  8.1327152252  4200          0.0825120560 \n",
            "0.9969493594  0.9290953545  0.9968017058  0.9551282051  0.9977544910  0.9670658683  0.7830788804  0.8152866242  107.78443113  0.0059806193  8.1327152252  4500          0.0824890304 \n",
            "0.9975594875  0.9193154034  0.9962686567  0.9529914530  0.9992514970  0.9730538922  0.7986641221  0.8165605096  114.97005988  0.0100041138  8.1327152252  4800          0.0817541234 \n",
            "0.9963392312  0.9119804401  0.9946695096  0.9401709402  0.9992514970  0.9730538922  0.8346055980  0.8509554140  119.76047904  0.0082078094  8.1327152252  5000          0.0825081825 \n",
            "\n",
            "🎉 Training finished for GroupDRO.\n",
            "\n",
            "GroupDRO training complete!\n"
          ]
        }
      ],
      "source": [
        "# --- GroupDRO Experiment Configuration ---\n",
        "\n",
        "# 1. Define hyperparameters for GroupDRO\n",
        "hparams_groupdro = {\n",
        "    \"progress_bar\": True,\n",
        "    \"groupdro_eta\": 0.01  # Default learning rate for group weights\n",
        "}\n",
        "\n",
        "# 2. Configure the experiment arguments (same format as your IRM experiments)\n",
        "groupdro_args = {\n",
        "    \"data_dir\": \"./data/\",\n",
        "    \"dataset\": \"PACS\",\n",
        "    \"algorithm\": \"GroupDRO\",\n",
        "    \"test_env\": 3,  # Test on Sketch\n",
        "    \"output_dir\": \"./results/groupdro\",\n",
        "    \"hparams_seed\": 0,\n",
        "    \"trial_seed\": 0,\n",
        "    \"seed\": 0,\n",
        "    \"hparams\": f\"'{json.dumps(hparams_groupdro)}'\"\n",
        "}\n",
        "\n",
        "os.makedirs(groupdro_args['output_dir'], exist_ok=True)\n",
        "\n",
        "print(\"Starting GroupDRO training...\")\n",
        "run_experiment(groupdro_args)\n",
        "print(\"\\nGroupDRO training complete!\")"
      ]
    },
    {
      "cell_type": "markdown",
      "id": "eb7dd8a1",
      "metadata": {},
      "source": [
        "### **3.3. Results & Analysis**\n",
        "\n",
        "After training is complete, we'll parse the output file to extract the final accuracies on both the source domains and the unseen target domain (Sketch) and do a quick comparison to our baseline."
      ]
    },
    {
      "cell_type": "code",
      "execution_count": 31,
      "id": "b20f69f8",
      "metadata": {},
      "outputs": [
        {
          "name": "stdout",
          "output_type": "stream",
          "text": [
            "======================================================================\n",
            "📊 GroupDRO Results Summary\n",
            "======================================================================\n",
            "\n",
            "🎯 Target Domain (Sketch): 85.10% (+1.28% vs ERM)\n",
            "\n",
            "📚 Source Domains:\n",
            "  ├─ Art:     91.20%\n",
            "  ├─ Cartoon: 94.02%\n",
            "  ├─ Photo:   97.31%\n",
            "  └─ Average: 94.17%\n",
            "\n",
            "⚖️  Balance: Range=6.11% (ERM: 5.13%), Std=2.50%\n",
            "\n",
            "✅ Status: OUTPERFORMED ERM!\n",
            "======================================================================\n"
          ]
        }
      ],
      "source": [
        "# Load results\n",
        "try:\n",
        "    with open(os.path.join(groupdro_args['output_dir'], 'results.jsonl'), 'r') as f:\n",
        "        groupdro_results_log = [json.loads(line) for line in f]\n",
        "except FileNotFoundError:\n",
        "    print(\"❌ Results file for GroupDRO not found. Please ensure training completed successfully.\")\n",
        "    groupdro_results_log = []\n",
        "\n",
        "if groupdro_results_log:\n",
        "    groupdro_df = pd.DataFrame(groupdro_results_log)\n",
        "    \n",
        "    # Extract final accuracies\n",
        "    final_step = groupdro_df['step'].max()\n",
        "    final_accuracies = groupdro_df[groupdro_df['step'] == final_step]\n",
        "\n",
        "    # Get target and source accuracies\n",
        "    groupdro_target_acc = final_accuracies['env3_out_acc'].values[0] * 100\n",
        "    groupdro_art_acc = final_accuracies['env0_out_acc'].values[0] * 100\n",
        "    groupdro_cartoon_acc = final_accuracies['env1_out_acc'].values[0] * 100\n",
        "    groupdro_photo_acc = final_accuracies['env2_out_acc'].values[0] * 100\n",
        "\t\t\n",
        "    # Calculate balance metrics\n",
        "    source_accuracies = [groupdro_art_acc, groupdro_cartoon_acc, groupdro_photo_acc]\n",
        "    source_avg = np.mean(source_accuracies)\n",
        "    source_range = max(source_accuracies) - min(source_accuracies)\n",
        "    source_std = np.std(source_accuracies)\n",
        "    \n",
        "    # Quick comparison to ERM\n",
        "    erm_target = 83.82\n",
        "    erm_range = 5.13  # 100.00 - 94.87\n",
        "    target_gap = groupdro_target_acc - erm_target\n",
        "    \n",
        "    # Display results\n",
        "    print(\"=\" * 70)\n",
        "    print(\"📊 GroupDRO Results Summary\")\n",
        "    print(\"=\" * 70)\n",
        "    print(f\"\\n🎯 Target Domain (Sketch): {groupdro_target_acc:.2f}% ({target_gap:+.2f}% vs ERM)\")\n",
        "    print(f\"\\n📚 Source Domains:\")\n",
        "    print(f\"  ├─ Art:     {groupdro_art_acc:.2f}%\")\n",
        "    print(f\"  ├─ Cartoon: {groupdro_cartoon_acc:.2f}%\")\n",
        "    print(f\"  ├─ Photo:   {groupdro_photo_acc:.2f}%\")\n",
        "    print(f\"  └─ Average: {source_avg:.2f}%\")\n",
        "    print(f\"\\n⚖️  Balance: Range={source_range:.2f}% (ERM: {erm_range:.2f}%), Std={source_std:.2f}%\")\n",
        "    \n",
        "    # Status check\n",
        "    if groupdro_target_acc > erm_target:\n",
        "        print(\"\\n✅ Status: OUTPERFORMED ERM!\")\n",
        "    elif groupdro_target_acc > 78.85:\n",
        "        print(\"\\n⚠️  Status: Better than IRM, below ERM\")\n",
        "    else:\n",
        "        print(\"\\n❌ Status: Underperformed\")\n",
        "    \n",
        "    print(\"=\" * 70)\n",
        "    \n",
        "else:\n",
        "    print(\"⚠️ No results to display. Training may have failed.\")"
      ]
    },
    {
      "cell_type": "markdown",
      "id": "66d08949",
      "metadata": {},
      "source": [
        "---"
      ]
    },
    {
      "cell_type": "markdown",
      "id": "698b80e9",
      "metadata": {},
      "source": [
        "## **Part 4: Sharpness-Aware Minimization (SAM)**"
      ]
    },
    {
      "cell_type": "markdown",
      "id": "1bfc4995",
      "metadata": {},
      "source": [
        "### **4.1. Overview**\n",
        "\n",
        "We now implement **Sharpness-Aware Minimization (SAM)**, which seeks parameters that lie in neighborhoods with uniformly low loss. Standard training (like ERM) may converge to sharp minima where the loss increases quickly if parameters change slightly. This can lead to poor generalization under domain shift.\n",
        "\n",
        "SAM addresses this by minimizing a perturbed loss: $L_{SAM}(\\theta) = \\max_{|\\epsilon| \\leq \\rho} L(\\theta + \\epsilon)$, which encourages the model to find flatter minima. The training process involves two gradient computations per batch:\n",
        "\n",
        "1. **First step**: Compute gradient and ascend to find the worst-case perturbation $\\epsilon$ within radius $\\rho$\n",
        "2. **Second step**: Compute gradient at the perturbed point and perform the actual parameter update\n",
        "\n",
        "This two-step process effectively regularizes the model to find solutions that are robust to small parameter perturbations, which should translate to better generalization on unseen domains."
      ]
    },
    {
      "cell_type": "markdown",
      "id": "2bd5777d",
      "metadata": {},
      "source": [
        "### **4.2. SAM Implementation Setup**\n",
        "\n",
        "We'll use the SAM optimizer from the cloned repository (`code/sam`). This is the original implementation from Foret et al. (2020). Since DomainBed doesn't have built-in SAM support, we'll implement a custom training loop that uses DomainBed's components (dataset, model, hyperparameters) but replaces the optimizer with SAM."
      ]
    },
    {
      "cell_type": "code",
      "execution_count": 3,
      "id": "0d592378",
      "metadata": {},
      "outputs": [
        {
          "name": "stdout",
          "output_type": "stream",
          "text": [
            "✅ Successfully imported SAM optimizer from code/sam\n"
          ]
        }
      ],
      "source": [
        "# Add the sam directory to Python path\n",
        "sam_path = Path('./code/sam').resolve()\n",
        "if str(sam_path) not in sys.path:\n",
        "    sys.path.insert(0, str(sam_path))\n",
        "\n",
        "# Import SAM from sam.py\n",
        "from sam import SAM\n",
        "\n",
        "print(\"✅ Successfully imported SAM optimizer from code/sam\")"
      ]
    },
    {
      "cell_type": "markdown",
      "id": "cfd0db77",
      "metadata": {},
      "source": [
        "### **4.3. Model and Dataset Setup**\n",
        "\n",
        "We create our model using DomainBed’s ERM architecture (ResNet-50 with AugMix) and load the PACS dataset with the same train/validation split as our previous experiments."
      ]
    },
    {
      "cell_type": "code",
      "execution_count": 4,
      "id": "6eec8c36",
      "metadata": {},
      "outputs": [
        {
          "name": "stderr",
          "output_type": "stream",
          "text": [
            "/venv/main/lib/python3.12/site-packages/torchvision/models/_utils.py:208: UserWarning: The parameter 'pretrained' is deprecated since 0.13 and may be removed in the future, please use 'weights' instead.\n",
            "  warnings.warn(\n",
            "/venv/main/lib/python3.12/site-packages/torchvision/models/_utils.py:223: UserWarning: Arguments other than a weight enum or `None` for 'weights' are deprecated since 0.13 and may be removed in the future. The current behavior is equivalent to passing `weights=ResNet50_Weights.IMAGENET1K_V1`. You can also use `weights=ResNet50_Weights.DEFAULT` to get the most up-to-date weights.\n",
            "  warnings.warn(msg)\n"
          ]
        },
        {
          "name": "stdout",
          "output_type": "stream",
          "text": [
            "✅ Model created: ResNet-50 with AugMix\n",
            "✅ Total parameters: 23,522,375\n",
            "✅ Device: cuda\n"
          ]
        }
      ],
      "source": [
        "# Setup\n",
        "device = 'cuda' if torch.cuda.is_available() else 'cpu'\n",
        "output_dir = Path('./results/sam/')\n",
        "output_dir.mkdir(parents=True, exist_ok=True)\n",
        "\n",
        "# Configuration\n",
        "dataset_name = 'PACS'\n",
        "test_env = 3\n",
        "train_envs = [0, 1, 2]\n",
        "rho = 0.05  # SAM perturbation radius\n",
        "steps = 5000\n",
        "log_interval = 300\n",
        "\n",
        "# Get hyperparameters\n",
        "hparams = hparams_registry.default_hparams('ERM', dataset_name)\n",
        "hparams['batch_size'] = 32\n",
        "\n",
        "# Load dataset\n",
        "dataset = datasets.get_dataset_class(dataset_name)(\n",
        "    './data/',\n",
        "    train_envs,\n",
        "    hparams\n",
        ")\n",
        "\n",
        "# Create model\n",
        "algorithm = algorithms.ERM(\n",
        "    dataset.input_shape,\n",
        "    dataset.num_classes,\n",
        "    len(train_envs),\n",
        "    hparams\n",
        ").to(device)\n",
        "\n",
        "print(f\"✅ Model created: ResNet-50 with AugMix\")\n",
        "print(f\"✅ Total parameters: {sum(p.numel() for p in algorithm.network.parameters()):,}\")\n",
        "print(f\"✅ Device: {device}\")"
      ]
    },
    {
      "cell_type": "code",
      "execution_count": 5,
      "id": "5245af7b",
      "metadata": {},
      "outputs": [
        {
          "name": "stdout",
          "output_type": "stream",
          "text": [
            "✅ SAM optimizer created (ρ=0.05)\n",
            "   - Base optimizer: Adam\n",
            "   - Learning rate: 5e-05\n",
            "   - Weight decay: 0.0\n"
          ]
        }
      ],
      "source": [
        "# Replace optimizer with SAM\n",
        "if hasattr(algorithm, 'optimizer'):\n",
        "    del algorithm.optimizer\n",
        "\n",
        "# Create SAM optimizer wrapping Adam\n",
        "base_optimizer = torch.optim.Adam\n",
        "sam_optimizer = SAM(\n",
        "    algorithm.network.parameters(),\n",
        "    base_optimizer,\n",
        "    lr=hparams['lr'],\n",
        "    rho=rho,\n",
        "    adaptive=False,  # standard SAM\n",
        "    weight_decay=hparams['weight_decay']\n",
        ")\n",
        "print(f\"✅ SAM optimizer created (ρ={rho})\\n   - Base optimizer: Adam\\n   - Learning rate: {hparams['lr']}\\n   - Weight decay: {hparams['weight_decay']}\")"
      ]
    },
    {
      "cell_type": "code",
      "execution_count": 6,
      "id": "2c34cff7",
      "metadata": {},
      "outputs": [
        {
          "name": "stdout",
          "output_type": "stream",
          "text": [
            "📊 Dataset splits:\n",
            "  Art (env0): 1638 train, 410 val\n",
            "  Cartoon (env1): 1875 train, 469 val\n",
            "  Photo (env2): 1336 train, 334 val\n"
          ]
        }
      ],
      "source": [
        "# Create data loaders with 80/20 train/val split\n",
        "train_loaders = []\n",
        "val_loaders = []\n",
        "\n",
        "loader_kwargs = dict(num_workers=2)\n",
        "if device == 'cuda':\n",
        "    loader_kwargs.update(dict(pin_memory=True))\n",
        "\n",
        "for i in range(len(train_envs)):\n",
        "    env_dataset = dataset[i]  # Get the i-th training environment\n",
        "    n_samples = len(env_dataset)\n",
        "    n_train = int(0.8 * n_samples)\n",
        "    n_val = n_samples - n_train\n",
        "\n",
        "    train_env, val_env = random_split(\n",
        "        env_dataset,\n",
        "        [n_train, n_val],\n",
        "        generator=torch.Generator().manual_seed(0)\n",
        "    )\n",
        "\n",
        "    train_loaders.append(\n",
        "        DataLoader(train_env, batch_size=hparams['batch_size'], shuffle=True, **loader_kwargs)\n",
        "    )\n",
        "    val_loaders.append(\n",
        "        DataLoader(val_env, batch_size=hparams['batch_size'], shuffle=False, **loader_kwargs)\n",
        "    )\n",
        "\n",
        "# Print results\n",
        "print(\"📊 Dataset splits:\")\n",
        "domain_names = ['Art', 'Cartoon', 'Photo']\n",
        "for i in range(len(train_loaders)):\n",
        "    domain_name = domain_names[i]\n",
        "    print(f\"  {domain_name} (env{train_envs[i]}): {len(train_loaders[i].dataset)} train, {len(val_loaders[i].dataset)} val\")"
      ]
    },
    {
      "cell_type": "markdown",
      "id": "5fcfa8e5",
      "metadata": {},
      "source": [
        "### **4.4. SAM Training Loop**\n",
        "\n",
        "We now implement the SAM training loop with two key modifications compared to standard ERM:\n",
        "\n",
        "1. **Two gradient steps per batch**: First ascend to find worst-case perturbation, then descend at perturbed point\n",
        "2. **Batch normalization handling**: Disable running statistics during the second forward pass to avoid double-counting\n",
        "\n",
        "This training will take approximately 2× longer than ERM due to the doubled gradient computation."
      ]
    },
    {
      "cell_type": "code",
      "execution_count": 7,
      "id": "5e685344",
      "metadata": {},
      "outputs": [
        {
          "name": "stdout",
          "output_type": "stream",
          "text": [
            "🏋️ Starting SAM training...\n"
          ]
        },
        {
          "name": "stderr",
          "output_type": "stream",
          "text": [
            "Training SAM: 100%|██████████| 5000/5000 [13:28<00:00,  6.18it/s, loss=0.0020, avg_val=0.977]"
          ]
        },
        {
          "name": "stdout",
          "output_type": "stream",
          "text": [
            "\n",
            "✅ Training complete!\n",
            "\n"
          ]
        },
        {
          "name": "stderr",
          "output_type": "stream",
          "text": [
            "\n"
          ]
        }
      ],
      "source": [
        "def disable_running_stats(model: nn.Module):\n",
        "    for module in model.modules():\n",
        "        if isinstance(module, nn.BatchNorm2d):\n",
        "            module.backup_momentum = module.momentum\n",
        "            module.momentum = 0\n",
        "\n",
        "def enable_running_stats(model: nn.Module):\n",
        "    for module in model.modules():\n",
        "        if isinstance(module, nn.BatchNorm2d):\n",
        "            if hasattr(module, 'backup_momentum'):\n",
        "                module.momentum = module.backup_momentum\n",
        "                del module.backup_momentum\n",
        "\n",
        "print(\"🏋️ Starting SAM training...\")\n",
        "\n",
        "results_log = []\n",
        "\n",
        "# Create infinite iterators\n",
        "train_iters = [iter(loader) for loader in train_loaders]\n",
        "\n",
        "def get_minibatch(env_idx):\n",
        "    \"\"\"Get next minibatch, reset iterator if exhausted\"\"\"\n",
        "    global train_iters\n",
        "    try:\n",
        "        return next(train_iters[env_idx])\n",
        "    except StopIteration:\n",
        "        train_iters[env_idx] = iter(train_loaders[env_idx])\n",
        "        return next(train_iters[env_idx])\n",
        "\n",
        "step = 0\n",
        "pbar = tqdm(total=steps, desc=\"Training SAM\")\n",
        "\n",
        "while step < steps:\n",
        "    algorithm.network.train()\n",
        "\n",
        "    # Get minibatches from each environment\n",
        "    minibatches = [get_minibatch(i) for i in range(len(train_envs))]\n",
        "    minibatches = [(x.to(device), y.to(device)) for x, y in minibatches]\n",
        "\n",
        "    # Combine all data (ERM style)\n",
        "    all_x = torch.cat([x for x, y in minibatches])\n",
        "    all_y = torch.cat([y for x, y in minibatches])\n",
        "\n",
        "    # ------------------------\n",
        "    # SAM First Step\n",
        "    # ------------------------\n",
        "    predictions = algorithm.network(all_x)\n",
        "    loss = F.cross_entropy(predictions, all_y)\n",
        "    loss.backward()\n",
        "    sam_optimizer.first_step(zero_grad=True)\n",
        "\n",
        "    # ------------------------\n",
        "    # SAM Second Step\n",
        "    # ------------------------\n",
        "    disable_running_stats(algorithm.network)\n",
        "    loss = F.cross_entropy(algorithm.network(all_x), all_y)\n",
        "    loss.backward()\n",
        "    sam_optimizer.second_step(zero_grad=True)\n",
        "    enable_running_stats(algorithm.network)\n",
        "\n",
        "    # ------------------------\n",
        "    # Logging / Evaluation\n",
        "    # ------------------------\n",
        "    if step % log_interval == 0:\n",
        "        algorithm.network.eval()\n",
        "        with torch.no_grad():\n",
        "            val_accs = []\n",
        "            for val_loader in val_loaders:\n",
        "                correct = 0\n",
        "                total = 0\n",
        "                for x, y in val_loader:\n",
        "                    x, y = x.to(device), y.to(device)\n",
        "                    pred = algorithm.network(x).argmax(dim=1)\n",
        "                    correct += (pred == y).sum().item()\n",
        "                    total += len(y)\n",
        "                val_accs.append(correct / total)\n",
        "\n",
        "            # Approximate epoch\n",
        "            samples_per_step = sum(len(mb[0]) for mb in minibatches)\n",
        "            total_samples = sum(len(tl.dataset) for tl in train_loaders)\n",
        "            epoch = step * samples_per_step / total_samples\n",
        "\n",
        "            result = {\n",
        "                'step': step,\n",
        "                'epoch': float(epoch),\n",
        "                'loss': float(loss.item()),\n",
        "                'env0_out_acc': float(val_accs[0]),\n",
        "                'env1_out_acc': float(val_accs[1]),\n",
        "                'env2_out_acc': float(val_accs[2]),\n",
        "            }\n",
        "            results_log.append(result)\n",
        "            pbar.set_postfix({'loss': f\"{loss.item():.4f}\", 'avg_val': f\"{np.mean(val_accs):.3f}\"})\n",
        "\n",
        "    step += 1\n",
        "    pbar.update(1)\n",
        "\n",
        "pbar.close()\n",
        "print(\"\\n✅ Training complete!\\n\")"
      ]
    },
    {
      "cell_type": "markdown",
      "id": "7eca9fc9",
      "metadata": {},
      "source": [
        "### **4.5. Final Evaluation**\n",
        "\n",
        "Now we evaluate the SAM-trained model on both the source domains (validation sets) and the unseen target domain (Sketch)."
      ]
    },
    {
      "cell_type": "code",
      "execution_count": 8,
      "id": "f79fd194",
      "metadata": {},
      "outputs": [
        {
          "name": "stdout",
          "output_type": "stream",
          "text": [
            "--------------------------------------------------------------------------------\n",
            "📊 Final Evaluation\n",
            "--------------------------------------------------------------------------------\n",
            "\n",
            "Source Domains (Validation Sets):\n",
            "  Art (env0): 94.63%\n",
            "  Cartoon (env1): 97.87%\n",
            "  Photo (env2): 98.80%\n",
            "  Average Source: 97.10%\n",
            "  Worst Source: Art at 94.63%\n",
            "\n",
            "Target Domain (Held-out Test Set):\n",
            "  Sketch (env3): 96.68%\n",
            "\n",
            "Generalization Gap: 0.42%\n",
            "\n"
          ]
        }
      ],
      "source": [
        "print(\"-\" * 80)\n",
        "print(\"📊 Final Evaluation\")\n",
        "print(\"-\" * 80)\n",
        "print()\n",
        "\n",
        "algorithm.network.eval()\n",
        "\n",
        "# Evaluate on source domains (validation sets)\n",
        "print(\"Source Domains (Validation Sets):\")\n",
        "source_accs = {}\n",
        "for i, val_loader in enumerate(val_loaders):\n",
        "    correct = 0\n",
        "    total = 0\n",
        "    with torch.no_grad():\n",
        "        for x, y in val_loader:\n",
        "            x, y = x.to(device), y.to(device)\n",
        "            pred = algorithm.network(x).argmax(dim=1)\n",
        "            correct += (pred == y).sum().item()\n",
        "            total += len(y)\n",
        "    acc = correct / total\n",
        "    source_accs[f'env{i}'] = acc\n",
        "    domain_name = ['Art', 'Cartoon', 'Photo'][i]\n",
        "    print(f\"  {domain_name} (env{train_envs[i]}): {acc:.2%}\")\n",
        "\n",
        "avg_source_acc = np.mean(list(source_accs.values()))\n",
        "worst_source_acc = min(source_accs.values())\n",
        "worst_source_idx = [i for i, acc in enumerate(source_accs.values()) if acc == worst_source_acc][0]\n",
        "worst_source_name = ['Art', 'Cartoon', 'Photo'][worst_source_idx]\n",
        "print(f\"  Average Source: {avg_source_acc:.2%}\")\n",
        "print(f\"  Worst Source: {worst_source_name} at {worst_source_acc:.2%}\")\n",
        "print()\n",
        "\n",
        "# Evaluate on target domain (Sketch - test_env)\n",
        "print(\"Target Domain (Held-out Test Set):\")\n",
        "test_dataset = datasets.get_dataset_class(dataset_name)(\n",
        "    './data/',\n",
        "    [test_env],\n",
        "    hparams\n",
        ")[0]\n",
        "test_loader = DataLoader(test_dataset, batch_size=64, shuffle=False, **loader_kwargs)\n",
        "\n",
        "correct = 0\n",
        "total = 0\n",
        "with torch.no_grad():\n",
        "    for x, y in test_loader:\n",
        "        x, y = x.to(device), y.to(device)\n",
        "        pred = algorithm.network(x).argmax(dim=1)\n",
        "        correct += (pred == y).sum().item()\n",
        "        total += len(y)\n",
        "target_acc = correct / total\n",
        "print(f\"  Sketch (env{test_env}): {target_acc:.2%}\")\n",
        "print()\n",
        "\n",
        "generalization_gap = float(avg_source_acc - target_acc)\n",
        "print(f\"Generalization Gap: {generalization_gap:.2%}\")\n",
        "print()"
      ]
    },
    {
      "cell_type": "markdown",
      "id": "b3029cf7",
      "metadata": {},
      "source": [
        "### **4.6. Save Results**\n",
        "\n",
        "We save the training logs, model checkpoint, and final results to disk for later analysis and report writing."
      ]
    },
    {
      "cell_type": "code",
      "execution_count": 9,
      "id": "762b4e96",
      "metadata": {},
      "outputs": [
        {
          "name": "stdout",
          "output_type": "stream",
          "text": [
            "✅ Results saved to results/sam\n",
            "\n"
          ]
        }
      ],
      "source": [
        "# Save model\n",
        "torch.save(algorithm.network.state_dict(), output_dir / 'model.pth')\n",
        "\n",
        "# Save training log as JSONL (matching DomainBed format)\n",
        "with open(output_dir / 'results.jsonl', 'w') as f:\n",
        "    for result in results_log:\n",
        "        f.write(json.dumps(result) + '\\n')\n",
        "\n",
        "# Save final results\n",
        "final_results = {\n",
        "    'algorithm': 'SAM',\n",
        "    'rho': float(rho),\n",
        "    'steps': int(steps),\n",
        "    'target_acc': float(target_acc),\n",
        "    'avg_source_acc': float(avg_source_acc),\n",
        "    'worst_source_acc': float(worst_source_acc),\n",
        "    'worst_source_domain': worst_source_name,\n",
        "    'env0_acc': float(source_accs['env0']),\n",
        "    'env1_acc': float(source_accs['env1']),\n",
        "    'env2_acc': float(source_accs['env2']),\n",
        "    'generalization_gap': float(generalization_gap)\n",
        "}\n",
        "with open(output_dir / 'final_results.json', 'w') as f:\n",
        "    json.dump(final_results, f, indent=2)\n",
        "print(f\"✅ Results saved to {output_dir}\\n\")"
      ]
    },
    {
      "cell_type": "markdown",
      "id": "1860a590",
      "metadata": {},
      "source": [
        "---"
      ]
    },
    {
      "cell_type": "markdown",
      "id": "52d43c04",
      "metadata": {},
      "source": [
        "## **Part 5: Comprehensive Results & Analysis**"
      ]
    },
    {
      "cell_type": "markdown",
      "id": "a415edf1",
      "metadata": {},
      "source": [
        "### **5.1. Overview**\n",
        "\n",
        "In this section, we consolidate results from all methods and generate visualizations for the report."
      ]
    },
    {
      "cell_type": "markdown",
      "id": "85718a4d",
      "metadata": {},
      "source": [
        "### **5.2. Summary of All Results**\n",
        "\n",
        "We consolidate the final accuracies from all experiments into comprehensive comparison tables."
      ]
    },
    {
      "cell_type": "code",
      "execution_count": 16,
      "id": "6df34194",
      "metadata": {},
      "outputs": [
        {
          "name": "stdout",
          "output_type": "stream",
          "text": [
            "✅ Results consolidated from all experiments\n"
          ]
        }
      ],
      "source": [
        "# Consolidated results from all experiments\n",
        "all_results = {\n",
        "    \"ERM\": {\n",
        "        \"target_acc\": 83.82,\n",
        "        \"art_acc\": 94.87,\n",
        "        \"cartoon_acc\": 97.22,\n",
        "        \"photo_acc\": 97.90,\n",
        "        \"avg_source\": 96.67,\n",
        "        \"worst_source\": 94.87,\n",
        "        \"gen_gap\": 12.85,\n",
        "        \"training_time\": \"8min 42s\",\n",
        "        \"stable\": True\n",
        "    },\n",
        "    \"IRM (λ=10)\": {\n",
        "        \"target_acc\": 78.85,\n",
        "        \"art_acc\": 96.09,\n",
        "        \"cartoon_acc\": 97.01,\n",
        "        \"photo_acc\": 97.31,\n",
        "        \"avg_source\": 96.80,\n",
        "        \"worst_source\": 96.09,\n",
        "        \"gen_gap\": 17.95,\n",
        "        \"training_time\": \"9min 7s\",\n",
        "        \"stable\": True\n",
        "    },\n",
        "    \"IRM (λ=25)\": {\n",
        "        \"target_acc\": 19.62,\n",
        "        \"art_acc\": 55.75,\n",
        "        \"cartoon_acc\": 49.57,\n",
        "        \"photo_acc\": 67.66,\n",
        "        \"avg_source\": 57.66,\n",
        "        \"worst_source\": 49.57,\n",
        "        \"gen_gap\": 38.04,\n",
        "        \"training_time\": \"9min 6s\",\n",
        "        \"stable\": False\n",
        "    },\n",
        "    \"IRM (λ=100)\": {\n",
        "        \"target_acc\": 34.27,\n",
        "        \"art_acc\": 58.19,\n",
        "        \"cartoon_acc\": 55.56,\n",
        "        \"photo_acc\": 70.06,\n",
        "        \"avg_source\": 61.27,\n",
        "        \"worst_source\": 55.56,\n",
        "        \"gen_gap\": 27.00,\n",
        "        \"training_time\": \"9min 3s\",\n",
        "        \"stable\": False\n",
        "    },\n",
        "    \"GroupDRO\": {\n",
        "        \"target_acc\": 85.10,\n",
        "        \"art_acc\": 91.20,\n",
        "        \"cartoon_acc\": 94.02,\n",
        "        \"photo_acc\": 97.31,\n",
        "        \"avg_source\": 94.18,\n",
        "        \"worst_source\": 91.20,\n",
        "        \"gen_gap\": 9.08,\n",
        "        \"training_time\": \"7min 59s\",\n",
        "        \"stable\": True\n",
        "    },\n",
        "    \"SAM (ρ=0.05)\": {\n",
        "        \"target_acc\": 96.68,\n",
        "        \"art_acc\": 94.63,\n",
        "        \"cartoon_acc\": 97.87,\n",
        "        \"photo_acc\": 98.80,\n",
        "        \"avg_source\": 97.10,\n",
        "        \"worst_source\": 94.63,\n",
        "        \"gen_gap\": 0.42,\n",
        "        \"training_time\": \"13min 29s\",\n",
        "        \"stable\": True\n",
        "    }\n",
        "}\n",
        "\n",
        "print(\"✅ Results consolidated from all experiments\")"
      ]
    },
    {
      "cell_type": "code",
      "execution_count": 17,
      "id": "b55b11ed",
      "metadata": {},
      "outputs": [
        {
          "name": "stdout",
          "output_type": "stream",
          "text": [
            "====================================================================================================\n",
            "📊 TABLE 1: COMPREHENSIVE PERFORMANCE COMPARISON\n",
            "====================================================================================================\n",
            "\n",
            "✅ Comparison table saved to ./figures/comparison_table.csv\n",
            "\n",
            "      Method  Target (Sketch)   Art  Cartoon  Photo  Avg Source  Worst Source  Gen Gap\n",
            "         ERM            83.82 94.87    97.22  97.90       96.67         94.87    12.85\n",
            "  IRM (λ=10)            78.85 96.09    97.01  97.31       96.80         96.09    17.95\n",
            "  IRM (λ=25)            19.62 55.75    49.57  67.66       57.66         49.57    38.04\n",
            " IRM (λ=100)            34.27 58.19    55.56  70.06       61.27         55.56    27.00\n",
            "    GroupDRO            85.10 91.20    94.02  97.31       94.18         91.20     9.08\n",
            "SAM (ρ=0.05)            96.68 94.63    97.87  98.80       97.10         94.63     0.42\n",
            "\n",
            "Note: All values are percentages. Gen Gap = Avg Source - Target.\n",
            "====================================================================================================\n",
            "\n"
          ]
        }
      ],
      "source": [
        "# Create main comparison table\n",
        "print(\"=\" * 100)\n",
        "print(\"📊 TABLE 1: COMPREHENSIVE PERFORMANCE COMPARISON\")\n",
        "print(\"=\" * 100)\n",
        "print()\n",
        "\n",
        "comparison_df = pd.DataFrame({\n",
        "    'Method': list(all_results.keys()),\n",
        "    'Target (Sketch)': [v['target_acc'] for v in all_results.values()],\n",
        "    'Art': [v['art_acc'] for v in all_results.values()],\n",
        "    'Cartoon': [v['cartoon_acc'] for v in all_results.values()],\n",
        "    'Photo': [v['photo_acc'] for v in all_results.values()],\n",
        "    'Avg Source': [v['avg_source'] for v in all_results.values()],\n",
        "    'Worst Source': [v['worst_source'] for v in all_results.values()],\n",
        "    'Gen Gap': [v['gen_gap'] for v in all_results.values()]\n",
        "})\n",
        "\n",
        "comparison_df.to_csv('./figures/comparison_table.csv', index=False)\n",
        "print(\"✅ Comparison table saved to ./figures/comparison_table.csv\")\n",
        "print()\n",
        "print(comparison_df.to_string(index=False))\n",
        "print()\n",
        "print(\"Note: All values are percentages. Gen Gap = Avg Source - Target.\")\n",
        "print(\"=\" * 100)\n",
        "print()"
      ]
    },
    {
      "cell_type": "code",
      "execution_count": 18,
      "id": "98f4bed6",
      "metadata": {},
      "outputs": [
        {
          "name": "stdout",
          "output_type": "stream",
          "text": [
            "====================================================================================================\n",
            "🏆 TABLE 2: METHOD RANKINGS BY KEY METRICS\n",
            "====================================================================================================\n",
            "\n",
            "By Target Domain Accuracy (Sketch):\n",
            "  1. SAM (ρ=0.05)          96.68% (+12.86% vs ERM)\n",
            "  2. GroupDRO              85.10% ( +1.28% vs ERM)\n",
            "  3. ERM                   83.82% ( +0.00% vs ERM)\n",
            "  4. IRM (λ=10)            78.85% ( -4.97% vs ERM)\n",
            "  5. IRM (λ=100)           34.27% (-49.55% vs ERM)\n",
            "  6. IRM (λ=25)            19.62% (-64.20% vs ERM)\n",
            "\n",
            "By Generalization Gap (Lower is Better):\n",
            "  1. SAM (ρ=0.05)           0.42%\n",
            "  2. GroupDRO               9.08%\n",
            "  3. ERM                   12.85%\n",
            "  4. IRM (λ=10)            17.95%\n",
            "  5. IRM (λ=100)           27.00%\n",
            "  6. IRM (λ=25)            38.04%\n",
            "\n",
            "By Worst-Case Source Domain:\n",
            "  1. IRM (λ=10)            96.09%\n",
            "  2. ERM                   94.87%\n",
            "  3. SAM (ρ=0.05)          94.63%\n",
            "  4. GroupDRO              91.20%\n",
            "  5. IRM (λ=100)           55.56%\n",
            "  6. IRM (λ=25)            49.57%\n",
            "\n",
            "====================================================================================================\n",
            "\n",
            "✅ Rankings saved to ./figures/rankings_table.csv\n",
            "\n",
            " Rank By Target Acc  Target Acc   By Gen Gap  Gen Gap By Worst Source  Worst Source\n",
            "    1  SAM (ρ=0.05)       96.68 SAM (ρ=0.05)     0.42      IRM (λ=10)         96.09\n",
            "    2      GroupDRO       85.10     GroupDRO     9.08             ERM         94.87\n",
            "    3           ERM       83.82          ERM    12.85    SAM (ρ=0.05)         94.63\n",
            "    4    IRM (λ=10)       78.85   IRM (λ=10)    17.95        GroupDRO         91.20\n",
            "    5   IRM (λ=100)       34.27  IRM (λ=100)    27.00     IRM (λ=100)         55.56\n",
            "    6    IRM (λ=25)       19.62   IRM (λ=25)    38.04      IRM (λ=25)         49.57\n"
          ]
        }
      ],
      "source": [
        "# Create ranking table\n",
        "print(\"=\" * 100)\n",
        "print(\"🏆 TABLE 2: METHOD RANKINGS BY KEY METRICS\")\n",
        "print(\"=\" * 100)\n",
        "print()\n",
        "\n",
        "# Sort by target accuracy\n",
        "target_ranking = sorted(all_results.items(), key=lambda x: x[1]['target_acc'], reverse=True)\n",
        "print(\"By Target Domain Accuracy (Sketch):\")\n",
        "for i, (method, results) in enumerate(target_ranking, 1):\n",
        "    delta = results['target_acc'] - all_results['ERM']['target_acc']\n",
        "    print(f\"  {i}. {method:20s} {results['target_acc']:6.2f}% ({delta:+6.2f}% vs ERM)\")\n",
        "print()\n",
        "\n",
        "# Sort by generalization gap (lower is better)\n",
        "gap_ranking = sorted(all_results.items(), key=lambda x: x[1]['gen_gap'])\n",
        "print(\"By Generalization Gap (Lower is Better):\")\n",
        "for i, (method, results) in enumerate(gap_ranking, 1):\n",
        "    print(f\"  {i}. {method:20s} {results['gen_gap']:6.2f}%\")\n",
        "print()\n",
        "\n",
        "# Sort by worst-case source accuracy\n",
        "worst_ranking = sorted(all_results.items(), key=lambda x: x[1]['worst_source'], reverse=True)\n",
        "print(\"By Worst-Case Source Domain:\")\n",
        "for i, (method, results) in enumerate(worst_ranking, 1):\n",
        "    print(f\"  {i}. {method:20s} {results['worst_source']:6.2f}%\")\n",
        "print()\n",
        "print(\"=\" * 100)\n",
        "print()\n",
        "\n",
        "# Save rankings\n",
        "rankings_df = pd.DataFrame({\n",
        "    'Rank': range(1, len(all_results) + 1),\n",
        "    'By Target Acc': [m for m, _ in target_ranking],\n",
        "    'Target Acc': [r['target_acc'] for _, r in target_ranking],\n",
        "    'By Gen Gap': [m for m, _ in gap_ranking],\n",
        "    'Gen Gap': [r['gen_gap'] for _, r in gap_ranking],\n",
        "    'By Worst Source': [m for m, _ in worst_ranking],\n",
        "    'Worst Source': [r['worst_source'] for _, r in worst_ranking]\n",
        "})\n",
        "\n",
        "rankings_df.to_csv('./figures/rankings_table.csv', index=False)\n",
        "print(\"✅ Rankings saved to ./figures/rankings_table.csv\")\n",
        "print()\n",
        "print(rankings_df.to_string(index=False))"
      ]
    },
    {
      "cell_type": "markdown",
      "id": "8ee66c0d",
      "metadata": {},
      "source": [
        "### **5.3. Visualization: Performance Comparison**\n",
        "\n",
        "We create visualizations to better understand the trade-offs between methods."
      ]
    },
    {
      "cell_type": "code",
      "execution_count": 19,
      "id": "5642b147",
      "metadata": {},
      "outputs": [
        {
          "data": {
            "image/png": "[encoded data removed]",
            "text/plain": [
              "<Figure size 1400x500 with 2 Axes>"
            ]
          },
          "metadata": {},
          "output_type": "display_data"
        },
        {
          "name": "stdout",
          "output_type": "stream",
          "text": [
            "✅ Performance comparison saved to ./figures/performance_comparison.png\n"
          ]
        }
      ],
      "source": [
        "# Create performance comparison plot\n",
        "fig, axes = plt.subplots(1, 2, figsize=(14, 5))\n",
        "\n",
        "# Filter stable methods for visualization\n",
        "stable_methods = {k: v for k, v in all_results.items() if v['stable']}\n",
        "methods = list(stable_methods.keys())\n",
        "target_accs = [v['target_acc'] for v in stable_methods.values()]\n",
        "gen_gaps = [v['gen_gap'] for v in stable_methods.values()]\n",
        "\n",
        "# Plot 1: Target Accuracy\n",
        "colors = ['#3498db', '#e74c3c', '#2ecc71', '#f39c12']\n",
        "bars1 = axes[0].bar(range(len(methods)), target_accs, color=colors, alpha=0.8, edgecolor='black', linewidth=1.5)\n",
        "axes[0].axhline(y=all_results['ERM']['target_acc'], color='red', linestyle='--', linewidth=2, label='ERM Baseline', alpha=0.7)\n",
        "axes[0].set_xlabel('Method', fontsize=12, fontweight='bold')\n",
        "axes[0].set_ylabel('Target Accuracy (%)', fontsize=12, fontweight='bold')\n",
        "axes[0].set_title('Target Domain Performance (Sketch)', fontsize=14, fontweight='bold')\n",
        "axes[0].set_xticks(range(len(methods)))\n",
        "axes[0].set_xticklabels(methods, rotation=15, ha='right')\n",
        "axes[0].set_ylim([75, 100])\n",
        "axes[0].legend()\n",
        "axes[0].grid(axis='y', alpha=0.3)\n",
        "\n",
        "# Add value labels on bars\n",
        "for i, (bar, val) in enumerate(zip(bars1, target_accs)):\n",
        "    axes[0].text(bar.get_x() + bar.get_width()/2, bar.get_height() + 0.5,\n",
        "                f'{val:.1f}%', ha='center', va='bottom', fontweight='bold', fontsize=10)\n",
        "\n",
        "# Plot 2: Generalization Gap\n",
        "bars2 = axes[1].bar(range(len(methods)), gen_gaps, color=colors, alpha=0.8, edgecolor='black', linewidth=1.5)\n",
        "axes[1].set_xlabel('Method', fontsize=12, fontweight='bold')\n",
        "axes[1].set_ylabel('Generalization Gap (%)', fontsize=12, fontweight='bold')\n",
        "axes[1].set_title('Source-Target Generalization Gap', fontsize=14, fontweight='bold')\n",
        "axes[1].set_xticks(range(len(methods)))\n",
        "axes[1].set_xticklabels(methods, rotation=15, ha='right')\n",
        "axes[1].set_ylim([0, 20])\n",
        "axes[1].grid(axis='y', alpha=0.3)\n",
        "\n",
        "# Add value labels on bars\n",
        "for i, (bar, val) in enumerate(zip(bars2, gen_gaps)):\n",
        "    axes[1].text(bar.get_x() + bar.get_width()/2, bar.get_height() + 0.3,\n",
        "                f'{val:.1f}%', ha='center', va='bottom', fontweight='bold', fontsize=10)\n",
        "\n",
        "plt.tight_layout()\n",
        "plt.savefig('./figures/performance_comparison.png', dpi=300, bbox_inches='tight')\n",
        "plt.show()\n",
        "\n",
        "print(\"✅ Performance comparison saved to ./figures/performance_comparison.png\")"
      ]
    },
    {
      "cell_type": "code",
      "execution_count": 20,
      "id": "15899c01",
      "metadata": {},
      "outputs": [
        {
          "data": {
            "image/png": "[encoded data removed]",
            "text/plain": [
              "<Figure size 1000x700 with 1 Axes>"
            ]
          },
          "metadata": {},
          "output_type": "display_data"
        },
        {
          "name": "stdout",
          "output_type": "stream",
          "text": [
            "✅ Scatter plot saved to ./figures/gap_vs_accuracy.png\n"
          ]
        }
      ],
      "source": [
        "# Create scatter plot: Generalization Gap vs Target Accuracy\n",
        "fig, ax = plt.subplots(figsize=(10, 7))\n",
        "\n",
        "for i, (method, results) in enumerate(stable_methods.items()):\n",
        "    ax.scatter(results['gen_gap'], results['target_acc'], \n",
        "              s=300, color=colors[i], alpha=0.7, edgecolors='black', linewidth=2,\n",
        "              label=method, zorder=3)\n",
        "    \n",
        "    # Add method labels\n",
        "    offset_x = 0.3 if method != 'SAM (ρ=0.05)' else -1.5\n",
        "    offset_y = 0.5 if method != 'GroupDRO' else -1.5\n",
        "    ax.annotate(method, \n",
        "               (results['gen_gap'], results['target_acc']),\n",
        "               xytext=(offset_x, offset_y), textcoords='offset points',\n",
        "               fontsize=10, fontweight='bold')\n",
        "\n",
        "ax.axhspan(90, 100, alpha=0.1, color='green')\n",
        "ax.axvspan(0, 5, alpha=0.1, color='green')\n",
        "\n",
        "ax.set_xlabel('Generalization Gap (%)', fontsize=12, fontweight='bold')\n",
        "ax.set_ylabel('Target Accuracy (%)', fontsize=12, fontweight='bold')\n",
        "ax.set_title('Generalization Performance Trade-off', fontsize=14, fontweight='bold')\n",
        "ax.grid(True, alpha=0.3)\n",
        "ax.set_xlim([0, 18])\n",
        "ax.set_ylim([75, 100])\n",
        "\n",
        "plt.tight_layout()\n",
        "plt.savefig('./figures/gap_vs_accuracy.png', dpi=300, bbox_inches='tight')\n",
        "plt.show()\n",
        "\n",
        "print(\"✅ Scatter plot saved to ./figures/gap_vs_accuracy.png\")"
      ]
    },
    {
      "cell_type": "markdown",
      "id": "ea249fae",
      "metadata": {},
      "source": [
        "### **5.4 Summary Statistics**\n",
        "\n",
        "We generate summary statistics for the entire project."
      ]
    },
    {
      "cell_type": "code",
      "execution_count": 21,
      "id": "7af502b8",
      "metadata": {},
      "outputs": [
        {
          "name": "stdout",
          "output_type": "stream",
          "text": [
            "================================================================================\n",
            "SUMMARY STATISTICS (for report)\n",
            "================================================================================\n",
            "\n",
            "Best Target Performance: SAM (ρ=0.05) (96.68%)\n",
            "Smallest Gen Gap: SAM (ρ=0.05) (0.42%)\n",
            "\n",
            "✅ All results saved to ./figures/all_results.json\n",
            "================================================================================\n"
          ]
        }
      ],
      "source": [
        "# Generate summary statistics for report\n",
        "print(\"=\"*80)\n",
        "print(\"SUMMARY STATISTICS (for report)\")\n",
        "print(\"=\"*80)\n",
        "\n",
        "# Best performer\n",
        "best_method = max(all_results.items(), key=lambda x: x[1]['target_acc'] if x[1]['stable'] else 0)\n",
        "print(f\"\\nBest Target Performance: {best_method[0]} ({best_method[1]['target_acc']:.2f}%)\")\n",
        "\n",
        "# Smallest gap\n",
        "best_gap = min(all_results.items(), key=lambda x: x[1]['gen_gap'] if x[1]['stable'] else float('inf'))\n",
        "print(f\"Smallest Gen Gap: {best_gap[0]} ({best_gap[1]['gen_gap']:.2f}%)\")\n",
        "\n",
        "# Save all results to JSON for easy reference\n",
        "with open('./figures/all_results.json', 'w') as f:\n",
        "    json.dump(all_results, f, indent=2)\n",
        "\n",
        "print(\"\\n✅ All results saved to ./figures/all_results.json\")\n",
        "print(\"=\"*80)"
      ]
    }
  ],
  "metadata": {
    "kernelspec": {
      "display_name": "Ibs-Kernel",
      "language": "python",
      "name": "ibs-kernel"
    },
    "language_info": {
      "codemirror_mode": {
        "name": "ipython",
        "version": 3
      },
      "file_extension": ".py",
      "mimetype": "text/x-python",
      "name": "python",
      "nbconvert_exporter": "python",
      "pygments_lexer": "ipython3",
      "version": "3.12.11"
    }
  },
  "nbformat": 4,
  "nbformat_minor": 5
}
