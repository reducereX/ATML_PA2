{
  "cells": [
    {
      "cell_type": "markdown",
      "metadata": {},
      "source": [
        "# 📋 Task 2: Domain Generalization via Invariant & Robust Learning\n",
        "\n",
        "In this task, we explore Domain Generalization (DG), where a model is trained on multiple source domains and must generalize to a completely unseen target domain. We will implement and compare four methods: ERM, IRM, GroupDRO, and SAM.\n",
        "\n",
        "Our setup will use the **PACS dataset**. We will train on the **Art, Cartoon, and Photo** domains, holding out the **Sketch** domain as our unseen test environment, as suggested in the assignment manual."
      ]
    },
    {
      "cell_type": "markdown",
      "metadata": {},
      "source": [
        "---"
      ]
    },
    {
      "cell_type": "markdown",
      "metadata": {},
      "source": [
        "## **Part 1: Empirical Risk Minimization (ERM) Baseline**"
      ]
    },
    {
      "cell_type": "markdown",
      "metadata": {},
      "source": [
        "### **1.1. Overview**\n",
        "\n",
        "We begin by establishing a baseline using standard **Empirical Risk Minimization (ERM)**. This approach involves merging all data from the source domains into a single dataset and training a standard classifier on it. This model's performance on the unseen target domain will serve as the benchmark against which we will compare more advanced DG techniques."
      ]
    },
    {
      "cell_type": "markdown",
      "metadata": {},
      "source": [
        "### **1.2. Environment Setup**\n",
        "\n",
        "First, we need to set up the Python environment to ensure the notebook can find and import the DomainBed library from our `code/` directory."
      ]
    },
    {
      "cell_type": "code",
      "execution_count": null,
      "metadata": {},
      "outputs": [],
      "source": [
        "import json\n",
        "import os\n",
        "import sys\n",
        "\n",
        "import matplotlib.pyplot as plt\n",
        "import pandas as pd\n",
        "import seaborn as sns\n",
        "\n",
        "os.environ[\"TQDM_NOTEBOOK\"] = \"0\"\n",
        "from tqdm import tqdm\n",
        "\n",
        "# Add the 'code' directory to the Python path\n",
        "# This allows us to import 'domainbed'\n",
        "module_path = os.path.abspath(\n",
        "    os.path.join(\".\", \"code\")\n",
        ")  # Adjusted path for root notebook\n",
        "if module_path not in sys.path:\n",
        "    sys.path.append(module_path)\n",
        "    print(f\"✅ Added '{module_path}' to Python path.\")\n",
        "\n",
        "# Import the main training function from DomainBed\n",
        "try:\n",
        "    from domainbed.scripts import train\n",
        "\n",
        "    print(\"✅ Successfully imported DomainBed.\")\n",
        "except ImportError as e:\n",
        "    print(\n",
        "        \"❌ Error importing DomainBed. Make sure the repository is in the './code/domainbed' directory.\"\n",
        "    )\n",
        "    print(e)\n",
        "\n",
        "# Set plotting style for later\n",
        "sns.set_theme(style=\"whitegrid\")"
      ]
    },
    {
      "cell_type": "markdown",
      "metadata": {},
      "source": [
        "### **1.3. Experiment Runner Function**\n",
        "\n",
        "To keep our code clean, we'll define a helper function that can launch any DomainBed experiment by taking a dictionary of arguments. This function mimics passing arguments via the command line."
      ]
    },
    {
      "cell_type": "code",
      "execution_count": null,
      "metadata": {},
      "outputs": [],
      "source": [
        "def run_experiment(args_dict):\n",
        "    \"\"\"Launches a DomainBed training run with arguments from a dictionary.\"\"\"\n",
        "    original_argv = sys.argv\n",
        "    try:\n",
        "        # Create the argument list for the train.main() function\n",
        "        sys.argv = [''] # First element is the script name, can be empty\n",
        "        for key, value in args_dict.items():\n",
        "            sys.argv.append(f'--{key}')\n",
        "            sys.argv.append(str(value))\n",
        "\n",
        "        print(f\"🚀 Starting training for algorithm: {args_dict.get('algorithm', 'N/A')}\")\n",
        "        print(f\"   Log and model output will be saved to: {args_dict.get('output_dir', 'N/A')}\")\n",
        "        \n",
        "        # Call the main training function from DomainBed\n",
        "        train.main()\n",
        "        \n",
        "        print(f\"🎉 Training finished for {args_dict.get('algorithm', 'N/A')}.\")\n",
        "\n",
        "    except Exception as e:\n",
        "        print(f\"❌ An error occurred during the experiment: {e}\")\n",
        "    finally:\n",
        "        # Restore the original sys.argv to not interfere with other notebook cells\n",
        "        sys.argv = original_argv"
      ]
    },
    {
      "cell_type": "markdown",
      "metadata": {},
      "source": [
        "### **1.4. Run ERM Training**\n",
        "\n",
        "Now, we define the specific parameters for our ERM baseline experiment and launch the training."
      ]
    },
    {
      "cell_type": "code",
      "execution_count": null,
      "metadata": {},
      "outputs": [],
      "source": [
        "# --- ERM Experiment Configuration ---\n",
        "erm_args = {\n",
        "    'data_dir': './data/',\n",
        "    'dataset': 'PACS',\n",
        "    'algorithm': 'ERM',\n",
        "    'test_env': 3,  # The index for the 'Sketch' domain in PACS, our unseen target\n",
        "    'output_dir': './results/erm',\n",
        "    'hparams_seed': 0,\n",
        "    'trial_seed': 0,\n",
        "    'seed': 0,\n",
        "    'progress_bar': True,\n",
        "}\n",
        "\n",
        "# Launch the experiment\n",
        "run_experiment(erm_args)"
      ]
    }
  ],
  "metadata": {
    "kernelspec": {
      "display_name": "Python 3",
      "language": "python",
      "name": "python3"
    },
    "language_info": {
      "codemirror_mode": {
        "name": "ipython",
        "version": 3
      },
      "file_extension": ".py",
      "mimetype": "text/x-python",
      "name": "python",
      "nbconvert_exporter": "python",
      "pygments_lexer": "ipython3",
      "version": "3.9.12"
    }
  },
  "nbformat": 4,
  "nbformat_minor": 5
}
